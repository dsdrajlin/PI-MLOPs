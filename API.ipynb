{
 "cells": [
  {
   "cell_type": "markdown",
   "metadata": {},
   "source": [
    "# API"
   ]
  },
  {
   "cell_type": "markdown",
   "metadata": {},
   "source": [
    "En este notebook se prepararán los datasets que servirán de insumo para las consultas a la API."
   ]
  },
  {
   "cell_type": "code",
   "execution_count": 1,
   "metadata": {},
   "outputs": [],
   "source": [
    "# Importar las librerias necesarias.\n",
    "import pandas as pd\n",
    "import html"
   ]
  },
  {
   "cell_type": "markdown",
   "metadata": {},
   "source": [
    "## PlayTimeGenre"
   ]
  },
  {
   "cell_type": "markdown",
   "metadata": {},
   "source": [
    "**Consigna:**\n",
    "\n",
    "__def PlayTimeGenre(genero : str):__ Debe devolver año con mas horas jugadas para dicho género.\n",
    "\n",
    "Ejemplo de retorno: {\"Año de lanzamiento con más horas jugadas para Género X\" : 2013}"
   ]
  },
  {
   "cell_type": "markdown",
   "metadata": {},
   "source": [
    "Algunas consideraciones:\n",
    "* El **género del juego** está en la columna \"genres\" del dataset \"steam_games_procesado.csv\".\n",
    "* El **año de lanzamiento** está en la columna \"year\" del dataset \"steam_games_procesado.csv\".\n",
    "* El **tiempo de juego** está en la columna \"playtime_forever\" del dataset \"user_items_procesado.csv\".\n",
    "\n",
    "* Podemos vincular ambos datasets a través de la columna **\"id\"** de \"steam_games_procesado.csv\" y la columna **\"item_id\"** de \"user_items_procesado.csv\"."
   ]
  },
  {
   "cell_type": "code",
   "execution_count": 2,
   "metadata": {},
   "outputs": [
    {
     "data": {
      "text/html": [
       "<div>\n",
       "<style scoped>\n",
       "    .dataframe tbody tr th:only-of-type {\n",
       "        vertical-align: middle;\n",
       "    }\n",
       "\n",
       "    .dataframe tbody tr th {\n",
       "        vertical-align: top;\n",
       "    }\n",
       "\n",
       "    .dataframe thead th {\n",
       "        text-align: right;\n",
       "    }\n",
       "</style>\n",
       "<table border=\"1\" class=\"dataframe\">\n",
       "  <thead>\n",
       "    <tr style=\"text-align: right;\">\n",
       "      <th></th>\n",
       "      <th>id</th>\n",
       "      <th>year</th>\n",
       "      <th>genres</th>\n",
       "    </tr>\n",
       "  </thead>\n",
       "  <tbody>\n",
       "    <tr>\n",
       "      <th>0</th>\n",
       "      <td>761140</td>\n",
       "      <td>2018.0</td>\n",
       "      <td>['Action', 'Casual', 'Indie', 'Simulation', 'S...</td>\n",
       "    </tr>\n",
       "    <tr>\n",
       "      <th>1</th>\n",
       "      <td>643980</td>\n",
       "      <td>2018.0</td>\n",
       "      <td>['Free to Play', 'Indie', 'RPG', 'Strategy']</td>\n",
       "    </tr>\n",
       "    <tr>\n",
       "      <th>2</th>\n",
       "      <td>670290</td>\n",
       "      <td>2017.0</td>\n",
       "      <td>['Casual', 'Free to Play', 'Indie', 'Simulatio...</td>\n",
       "    </tr>\n",
       "    <tr>\n",
       "      <th>3</th>\n",
       "      <td>767400</td>\n",
       "      <td>2017.0</td>\n",
       "      <td>['Action', 'Adventure', 'Casual']</td>\n",
       "    </tr>\n",
       "    <tr>\n",
       "      <th>4</th>\n",
       "      <td>773570</td>\n",
       "      <td>NaN</td>\n",
       "      <td>NaN</td>\n",
       "    </tr>\n",
       "  </tbody>\n",
       "</table>\n",
       "</div>"
      ],
      "text/plain": [
       "       id    year                                             genres\n",
       "0  761140  2018.0  ['Action', 'Casual', 'Indie', 'Simulation', 'S...\n",
       "1  643980  2018.0       ['Free to Play', 'Indie', 'RPG', 'Strategy']\n",
       "2  670290  2017.0  ['Casual', 'Free to Play', 'Indie', 'Simulatio...\n",
       "3  767400  2017.0                  ['Action', 'Adventure', 'Casual']\n",
       "4  773570     NaN                                                NaN"
      ]
     },
     "execution_count": 2,
     "metadata": {},
     "output_type": "execute_result"
    }
   ],
   "source": [
    "# Cargar steam_games_procesado.csv.\n",
    "games_df = pd.read_csv(\"./Datasets/steam_games_procesado.csv\")\n",
    "games_df = games_df[[\"id\", \"year\", \"genres\"]]\n",
    "\n",
    "# Visualizar los primeros datos.\n",
    "games_df.head()"
   ]
  },
  {
   "cell_type": "code",
   "execution_count": 3,
   "metadata": {},
   "outputs": [
    {
     "name": "stdout",
     "output_type": "stream",
     "text": [
      "<class 'pandas.core.frame.DataFrame'>\n",
      "RangeIndex: 32125 entries, 0 to 32124\n",
      "Data columns (total 3 columns):\n",
      " #   Column  Non-Null Count  Dtype  \n",
      "---  ------  --------------  -----  \n",
      " 0   id      32125 non-null  int64  \n",
      " 1   year    29955 non-null  float64\n",
      " 2   genres  28850 non-null  object \n",
      "dtypes: float64(1), int64(1), object(1)\n",
      "memory usage: 753.1+ KB\n"
     ]
    }
   ],
   "source": [
    "# Obtener información de games_df.\n",
    "games_df.info()"
   ]
  },
  {
   "cell_type": "code",
   "execution_count": 4,
   "metadata": {},
   "outputs": [
    {
     "data": {
      "text/plain": [
       "id           0\n",
       "year      2170\n",
       "genres    3275\n",
       "dtype: int64"
      ]
     },
     "execution_count": 4,
     "metadata": {},
     "output_type": "execute_result"
    }
   ],
   "source": [
    "# Analizar los valores nulos.\n",
    "games_df.isna().sum()"
   ]
  },
  {
   "cell_type": "markdown",
   "metadata": {},
   "source": [
    "Para esta consulta no nos sirven aquellos registros que tengan valores nulos en __year__ o __genres__, por lo que los eliminaremos."
   ]
  },
  {
   "cell_type": "code",
   "execution_count": 5,
   "metadata": {},
   "outputs": [],
   "source": [
    "# Borrar valores nulos.\n",
    "games_df.dropna(subset=[\"year\", \"genres\"], inplace=True, ignore_index=True)\n",
    "\n",
    "# Castear year a entero.\n",
    "games_df[\"year\"] = games_df[\"year\"].astype(\"int32\")"
   ]
  },
  {
   "cell_type": "markdown",
   "metadata": {},
   "source": [
    "Luego, para poder agrupar por género, necesitaremos que cada género ocupe una fila. Lograremos esto con la función __explode()__."
   ]
  },
  {
   "cell_type": "code",
   "execution_count": 6,
   "metadata": {},
   "outputs": [
    {
     "data": {
      "text/html": [
       "<div>\n",
       "<style scoped>\n",
       "    .dataframe tbody tr th:only-of-type {\n",
       "        vertical-align: middle;\n",
       "    }\n",
       "\n",
       "    .dataframe tbody tr th {\n",
       "        vertical-align: top;\n",
       "    }\n",
       "\n",
       "    .dataframe thead th {\n",
       "        text-align: right;\n",
       "    }\n",
       "</style>\n",
       "<table border=\"1\" class=\"dataframe\">\n",
       "  <thead>\n",
       "    <tr style=\"text-align: right;\">\n",
       "      <th></th>\n",
       "      <th>id</th>\n",
       "      <th>year</th>\n",
       "      <th>genres</th>\n",
       "    </tr>\n",
       "  </thead>\n",
       "  <tbody>\n",
       "    <tr>\n",
       "      <th>0</th>\n",
       "      <td>761140</td>\n",
       "      <td>2018</td>\n",
       "      <td>Action</td>\n",
       "    </tr>\n",
       "    <tr>\n",
       "      <th>1</th>\n",
       "      <td>761140</td>\n",
       "      <td>2018</td>\n",
       "      <td>Casual</td>\n",
       "    </tr>\n",
       "    <tr>\n",
       "      <th>2</th>\n",
       "      <td>761140</td>\n",
       "      <td>2018</td>\n",
       "      <td>Indie</td>\n",
       "    </tr>\n",
       "    <tr>\n",
       "      <th>3</th>\n",
       "      <td>761140</td>\n",
       "      <td>2018</td>\n",
       "      <td>Simulation</td>\n",
       "    </tr>\n",
       "    <tr>\n",
       "      <th>4</th>\n",
       "      <td>761140</td>\n",
       "      <td>2018</td>\n",
       "      <td>Strategy</td>\n",
       "    </tr>\n",
       "  </tbody>\n",
       "</table>\n",
       "</div>"
      ],
      "text/plain": [
       "       id  year      genres\n",
       "0  761140  2018      Action\n",
       "1  761140  2018      Casual\n",
       "2  761140  2018       Indie\n",
       "3  761140  2018  Simulation\n",
       "4  761140  2018    Strategy"
      ]
     },
     "execution_count": 6,
     "metadata": {},
     "output_type": "execute_result"
    }
   ],
   "source": [
    "# Usar eval() para convertir las listas de strings entre comillas en listas de \n",
    "# cadenas de texto válidas antes de usar explode().\n",
    "games_df['genres'] = games_df['genres'].apply(eval)\n",
    "\n",
    "# explode() hace que cada género ocupe una fila distinta.\n",
    "games_df = games_df.explode(\"genres\")\n",
    "\n",
    "# Resetear el índice\n",
    "games_df.reset_index(inplace=True, drop=True)\n",
    "\n",
    "# Visualizar los primeros resultados.\n",
    "games_df.head()"
   ]
  },
  {
   "cell_type": "code",
   "execution_count": 7,
   "metadata": {},
   "outputs": [
    {
     "data": {
      "text/plain": [
       "array(['Action', 'Casual', 'Indie', 'Simulation', 'Strategy',\n",
       "       'Free to Play', 'RPG', 'Sports', 'Adventure', 'Racing',\n",
       "       'Massively Multiplayer', 'Early Access',\n",
       "       'Animation &amp; Modeling', 'Video Production', 'Web Publishing',\n",
       "       'Education', 'Software Training', 'Utilities',\n",
       "       'Design &amp; Illustration', 'Audio Production', 'Photo Editing',\n",
       "       'Accounting'], dtype=object)"
      ]
     },
     "execution_count": 7,
     "metadata": {},
     "output_type": "execute_result"
    }
   ],
   "source": [
    "# Analizar los valores únicos en genres\n",
    "games_df.genres.unique()"
   ]
  },
  {
   "cell_type": "code",
   "execution_count": 8,
   "metadata": {},
   "outputs": [],
   "source": [
    "# Reemplazar algunos valores en la columna 'genres' después de descodificar HTML\n",
    "# para mejorar la legibilidad.\n",
    "games_df['genres'] = games_df['genres'].apply(lambda x: html.unescape(x))\n",
    "games_df['genres'] = games_df['genres'].str.replace(\"'Animation & Modeling'\", 'Animation & Modeling')\n",
    "games_df['genres'] = games_df['genres'].str.replace(\"'Design & Illustration'\", 'Design & Illustration')"
   ]
  },
  {
   "cell_type": "code",
   "execution_count": 9,
   "metadata": {},
   "outputs": [
    {
     "name": "stdout",
     "output_type": "stream",
     "text": [
      "<class 'pandas.core.frame.DataFrame'>\n",
      "RangeIndex: 71207 entries, 0 to 71206\n",
      "Data columns (total 3 columns):\n",
      " #   Column  Non-Null Count  Dtype \n",
      "---  ------  --------------  ----- \n",
      " 0   id      71207 non-null  int64 \n",
      " 1   year    71207 non-null  int32 \n",
      " 2   genres  71207 non-null  object\n",
      "dtypes: int32(1), int64(1), object(1)\n",
      "memory usage: 1.4+ MB\n"
     ]
    }
   ],
   "source": [
    "# Obtener información de games_df.\n",
    "games_df.info()"
   ]
  },
  {
   "cell_type": "markdown",
   "metadata": {},
   "source": [
    "Ahora cargaremos el segundo dataframe."
   ]
  },
  {
   "cell_type": "code",
   "execution_count": 10,
   "metadata": {},
   "outputs": [
    {
     "data": {
      "text/html": [
       "<div>\n",
       "<style scoped>\n",
       "    .dataframe tbody tr th:only-of-type {\n",
       "        vertical-align: middle;\n",
       "    }\n",
       "\n",
       "    .dataframe tbody tr th {\n",
       "        vertical-align: top;\n",
       "    }\n",
       "\n",
       "    .dataframe thead th {\n",
       "        text-align: right;\n",
       "    }\n",
       "</style>\n",
       "<table border=\"1\" class=\"dataframe\">\n",
       "  <thead>\n",
       "    <tr style=\"text-align: right;\">\n",
       "      <th></th>\n",
       "      <th>item_id</th>\n",
       "      <th>playtime_forever</th>\n",
       "    </tr>\n",
       "  </thead>\n",
       "  <tbody>\n",
       "    <tr>\n",
       "      <th>0</th>\n",
       "      <td>10</td>\n",
       "      <td>0.10</td>\n",
       "    </tr>\n",
       "    <tr>\n",
       "      <th>1</th>\n",
       "      <td>20</td>\n",
       "      <td>0.00</td>\n",
       "    </tr>\n",
       "    <tr>\n",
       "      <th>2</th>\n",
       "      <td>30</td>\n",
       "      <td>0.12</td>\n",
       "    </tr>\n",
       "  </tbody>\n",
       "</table>\n",
       "</div>"
      ],
      "text/plain": [
       "   item_id  playtime_forever\n",
       "0       10              0.10\n",
       "1       20              0.00\n",
       "2       30              0.12"
      ]
     },
     "execution_count": 10,
     "metadata": {},
     "output_type": "execute_result"
    }
   ],
   "source": [
    "# Cargar user_items_procesado.csv.\n",
    "items_df = pd.read_csv(\"./Datasets/user_items_procesado.csv\")\n",
    "\n",
    "# Seleccionar columnas de interés para la API.\n",
    "items_df = items_df[[\"item_id\", \"playtime_forever\"]]\n",
    "\n",
    "# Visualizar los primeros resultados.\n",
    "items_df.head(3)"
   ]
  },
  {
   "cell_type": "code",
   "execution_count": 11,
   "metadata": {},
   "outputs": [
    {
     "name": "stdout",
     "output_type": "stream",
     "text": [
      "<class 'pandas.core.frame.DataFrame'>\n",
      "RangeIndex: 5094092 entries, 0 to 5094091\n",
      "Data columns (total 2 columns):\n",
      " #   Column            Dtype  \n",
      "---  ------            -----  \n",
      " 0   item_id           int64  \n",
      " 1   playtime_forever  float64\n",
      "dtypes: float64(1), int64(1)\n",
      "memory usage: 77.7 MB\n"
     ]
    }
   ],
   "source": [
    "# Obtener información de items_df.\n",
    "items_df.info()"
   ]
  },
  {
   "cell_type": "code",
   "execution_count": 12,
   "metadata": {},
   "outputs": [
    {
     "data": {
      "text/plain": [
       "item_id             0\n",
       "playtime_forever    0\n",
       "dtype: int64"
      ]
     },
     "execution_count": 12,
     "metadata": {},
     "output_type": "execute_result"
    }
   ],
   "source": [
    "items_df.isna().sum() # No hay valores nulos"
   ]
  },
  {
   "cell_type": "markdown",
   "metadata": {},
   "source": [
    "Vamos a sumar las horas jugadas para cada juego."
   ]
  },
  {
   "cell_type": "code",
   "execution_count": 13,
   "metadata": {},
   "outputs": [
    {
     "data": {
      "text/plain": [
       "item_id\n",
       "10        285131.65\n",
       "20         16009.26\n",
       "30         12606.34\n",
       "40          2573.98\n",
       "50         12109.32\n",
       "            ...    \n",
       "528580         0.00\n",
       "528660         3.03\n",
       "529670         0.00\n",
       "529820         0.00\n",
       "530720         0.00\n",
       "Name: playtime_forever, Length: 10978, dtype: float64"
      ]
     },
     "execution_count": 13,
     "metadata": {},
     "output_type": "execute_result"
    }
   ],
   "source": [
    "total_hours_by_game = items_df.groupby(\"item_id\").playtime_forever.sum()\n",
    "\n",
    "# Visualizar la serie total_hours_by_game.\n",
    "total_hours_by_game"
   ]
  },
  {
   "cell_type": "markdown",
   "metadata": {},
   "source": [
    "Convertimos la serie anterior a un dataframe."
   ]
  },
  {
   "cell_type": "code",
   "execution_count": 14,
   "metadata": {},
   "outputs": [
    {
     "data": {
      "text/html": [
       "<div>\n",
       "<style scoped>\n",
       "    .dataframe tbody tr th:only-of-type {\n",
       "        vertical-align: middle;\n",
       "    }\n",
       "\n",
       "    .dataframe tbody tr th {\n",
       "        vertical-align: top;\n",
       "    }\n",
       "\n",
       "    .dataframe thead th {\n",
       "        text-align: right;\n",
       "    }\n",
       "</style>\n",
       "<table border=\"1\" class=\"dataframe\">\n",
       "  <thead>\n",
       "    <tr style=\"text-align: right;\">\n",
       "      <th></th>\n",
       "      <th>item_id</th>\n",
       "      <th>playtime_forever</th>\n",
       "    </tr>\n",
       "  </thead>\n",
       "  <tbody>\n",
       "    <tr>\n",
       "      <th>0</th>\n",
       "      <td>10</td>\n",
       "      <td>285131.65</td>\n",
       "    </tr>\n",
       "    <tr>\n",
       "      <th>1</th>\n",
       "      <td>20</td>\n",
       "      <td>16009.26</td>\n",
       "    </tr>\n",
       "    <tr>\n",
       "      <th>2</th>\n",
       "      <td>30</td>\n",
       "      <td>12606.34</td>\n",
       "    </tr>\n",
       "  </tbody>\n",
       "</table>\n",
       "</div>"
      ],
      "text/plain": [
       "   item_id  playtime_forever\n",
       "0       10         285131.65\n",
       "1       20          16009.26\n",
       "2       30          12606.34"
      ]
     },
     "execution_count": 14,
     "metadata": {},
     "output_type": "execute_result"
    }
   ],
   "source": [
    "# Convertir la serie en DataFrame y resetear el índice.\n",
    "items_df = total_hours_by_game.to_frame().reset_index()\n",
    "\n",
    "# Visualizar los primeros resultados.\n",
    "items_df.head(3)"
   ]
  },
  {
   "cell_type": "markdown",
   "metadata": {},
   "source": [
    "Procedemos a hacer un __inner join__ entre ambos DataFrames y asignaremos el resultado a PlayTimeGenre_df."
   ]
  },
  {
   "cell_type": "code",
   "execution_count": 15,
   "metadata": {},
   "outputs": [],
   "source": [
    "PlayTimeGenre_df = games_df.merge(items_df, left_on='id', right_on='item_id', \n",
    "                                  how='inner')"
   ]
  },
  {
   "cell_type": "code",
   "execution_count": 16,
   "metadata": {},
   "outputs": [
    {
     "data": {
      "text/html": [
       "<div>\n",
       "<style scoped>\n",
       "    .dataframe tbody tr th:only-of-type {\n",
       "        vertical-align: middle;\n",
       "    }\n",
       "\n",
       "    .dataframe tbody tr th {\n",
       "        vertical-align: top;\n",
       "    }\n",
       "\n",
       "    .dataframe thead th {\n",
       "        text-align: right;\n",
       "    }\n",
       "</style>\n",
       "<table border=\"1\" class=\"dataframe\">\n",
       "  <thead>\n",
       "    <tr style=\"text-align: right;\">\n",
       "      <th></th>\n",
       "      <th>id</th>\n",
       "      <th>year</th>\n",
       "      <th>genres</th>\n",
       "      <th>item_id</th>\n",
       "      <th>playtime_forever</th>\n",
       "    </tr>\n",
       "  </thead>\n",
       "  <tbody>\n",
       "    <tr>\n",
       "      <th>0</th>\n",
       "      <td>282010</td>\n",
       "      <td>1997</td>\n",
       "      <td>Action</td>\n",
       "      <td>282010</td>\n",
       "      <td>155.32</td>\n",
       "    </tr>\n",
       "    <tr>\n",
       "      <th>1</th>\n",
       "      <td>282010</td>\n",
       "      <td>1997</td>\n",
       "      <td>Indie</td>\n",
       "      <td>282010</td>\n",
       "      <td>155.32</td>\n",
       "    </tr>\n",
       "    <tr>\n",
       "      <th>2</th>\n",
       "      <td>282010</td>\n",
       "      <td>1997</td>\n",
       "      <td>Racing</td>\n",
       "      <td>282010</td>\n",
       "      <td>155.32</td>\n",
       "    </tr>\n",
       "    <tr>\n",
       "      <th>3</th>\n",
       "      <td>70</td>\n",
       "      <td>1998</td>\n",
       "      <td>Action</td>\n",
       "      <td>70</td>\n",
       "      <td>44182.89</td>\n",
       "    </tr>\n",
       "    <tr>\n",
       "      <th>4</th>\n",
       "      <td>1640</td>\n",
       "      <td>2006</td>\n",
       "      <td>Strategy</td>\n",
       "      <td>1640</td>\n",
       "      <td>452.71</td>\n",
       "    </tr>\n",
       "  </tbody>\n",
       "</table>\n",
       "</div>"
      ],
      "text/plain": [
       "       id  year    genres  item_id  playtime_forever\n",
       "0  282010  1997    Action   282010            155.32\n",
       "1  282010  1997     Indie   282010            155.32\n",
       "2  282010  1997    Racing   282010            155.32\n",
       "3      70  1998    Action       70          44182.89\n",
       "4    1640  2006  Strategy     1640            452.71"
      ]
     },
     "execution_count": 16,
     "metadata": {},
     "output_type": "execute_result"
    }
   ],
   "source": [
    "# Visualizar los primeros resultados de PlayTimeGenre_df.\n",
    "PlayTimeGenre_df.head()"
   ]
  },
  {
   "cell_type": "markdown",
   "metadata": {},
   "source": [
    "Podemos eliminar las columnas __id__ e __item_id__."
   ]
  },
  {
   "cell_type": "code",
   "execution_count": 17,
   "metadata": {},
   "outputs": [],
   "source": [
    "PlayTimeGenre_df.drop([\"id\", \"item_id\"], axis=1, inplace=True)"
   ]
  },
  {
   "cell_type": "markdown",
   "metadata": {},
   "source": [
    "Ahora agruparemos por género y por año y sumaremos las horas de juego totales."
   ]
  },
  {
   "cell_type": "code",
   "execution_count": 18,
   "metadata": {},
   "outputs": [
    {
     "data": {
      "text/plain": [
       "genres          year\n",
       "Action          1983      57.92\n",
       "                1984       6.40\n",
       "                1988     266.68\n",
       "                1989      10.11\n",
       "                1990     305.63\n",
       "                         ...   \n",
       "Web Publishing  2013    5561.50\n",
       "                2014     560.80\n",
       "                2015    5811.27\n",
       "                2016       2.27\n",
       "                2017     156.37\n",
       "Name: playtime_forever, Length: 343, dtype: float64"
      ]
     },
     "execution_count": 18,
     "metadata": {},
     "output_type": "execute_result"
    }
   ],
   "source": [
    "PlayTimeGenre_df = PlayTimeGenre_df.groupby([\"genres\", \"year\"]).playtime_forever.sum()\n",
    "\n",
    "PlayTimeGenre_df"
   ]
  },
  {
   "cell_type": "markdown",
   "metadata": {},
   "source": [
    "Usaremos la función __unstack(0)__ para pasar el primer índice de la serie multiindice a columnas."
   ]
  },
  {
   "cell_type": "code",
   "execution_count": 19,
   "metadata": {},
   "outputs": [
    {
     "data": {
      "text/html": [
       "<div>\n",
       "<style scoped>\n",
       "    .dataframe tbody tr th:only-of-type {\n",
       "        vertical-align: middle;\n",
       "    }\n",
       "\n",
       "    .dataframe tbody tr th {\n",
       "        vertical-align: top;\n",
       "    }\n",
       "\n",
       "    .dataframe thead th {\n",
       "        text-align: right;\n",
       "    }\n",
       "</style>\n",
       "<table border=\"1\" class=\"dataframe\">\n",
       "  <thead>\n",
       "    <tr style=\"text-align: right;\">\n",
       "      <th>genres</th>\n",
       "      <th>Action</th>\n",
       "      <th>Adventure</th>\n",
       "      <th>Animation &amp; Modeling</th>\n",
       "      <th>Audio Production</th>\n",
       "      <th>Casual</th>\n",
       "      <th>Design &amp; Illustration</th>\n",
       "      <th>Early Access</th>\n",
       "      <th>Education</th>\n",
       "      <th>Free to Play</th>\n",
       "      <th>Indie</th>\n",
       "      <th>...</th>\n",
       "      <th>Photo Editing</th>\n",
       "      <th>RPG</th>\n",
       "      <th>Racing</th>\n",
       "      <th>Simulation</th>\n",
       "      <th>Software Training</th>\n",
       "      <th>Sports</th>\n",
       "      <th>Strategy</th>\n",
       "      <th>Utilities</th>\n",
       "      <th>Video Production</th>\n",
       "      <th>Web Publishing</th>\n",
       "    </tr>\n",
       "    <tr>\n",
       "      <th>year</th>\n",
       "      <th></th>\n",
       "      <th></th>\n",
       "      <th></th>\n",
       "      <th></th>\n",
       "      <th></th>\n",
       "      <th></th>\n",
       "      <th></th>\n",
       "      <th></th>\n",
       "      <th></th>\n",
       "      <th></th>\n",
       "      <th></th>\n",
       "      <th></th>\n",
       "      <th></th>\n",
       "      <th></th>\n",
       "      <th></th>\n",
       "      <th></th>\n",
       "      <th></th>\n",
       "      <th></th>\n",
       "      <th></th>\n",
       "      <th></th>\n",
       "      <th></th>\n",
       "    </tr>\n",
       "  </thead>\n",
       "  <tbody>\n",
       "    <tr>\n",
       "      <th>1983</th>\n",
       "      <td>57.92</td>\n",
       "      <td>57.92</td>\n",
       "      <td>NaN</td>\n",
       "      <td>NaN</td>\n",
       "      <td>57.92</td>\n",
       "      <td>NaN</td>\n",
       "      <td>NaN</td>\n",
       "      <td>NaN</td>\n",
       "      <td>NaN</td>\n",
       "      <td>NaN</td>\n",
       "      <td>...</td>\n",
       "      <td>NaN</td>\n",
       "      <td>NaN</td>\n",
       "      <td>NaN</td>\n",
       "      <td>NaN</td>\n",
       "      <td>NaN</td>\n",
       "      <td>NaN</td>\n",
       "      <td>NaN</td>\n",
       "      <td>NaN</td>\n",
       "      <td>NaN</td>\n",
       "      <td>NaN</td>\n",
       "    </tr>\n",
       "    <tr>\n",
       "      <th>1984</th>\n",
       "      <td>6.40</td>\n",
       "      <td>6.40</td>\n",
       "      <td>NaN</td>\n",
       "      <td>NaN</td>\n",
       "      <td>6.40</td>\n",
       "      <td>NaN</td>\n",
       "      <td>NaN</td>\n",
       "      <td>NaN</td>\n",
       "      <td>NaN</td>\n",
       "      <td>NaN</td>\n",
       "      <td>...</td>\n",
       "      <td>NaN</td>\n",
       "      <td>NaN</td>\n",
       "      <td>NaN</td>\n",
       "      <td>NaN</td>\n",
       "      <td>NaN</td>\n",
       "      <td>NaN</td>\n",
       "      <td>NaN</td>\n",
       "      <td>NaN</td>\n",
       "      <td>NaN</td>\n",
       "      <td>NaN</td>\n",
       "    </tr>\n",
       "    <tr>\n",
       "      <th>1987</th>\n",
       "      <td>NaN</td>\n",
       "      <td>128.57</td>\n",
       "      <td>NaN</td>\n",
       "      <td>NaN</td>\n",
       "      <td>NaN</td>\n",
       "      <td>NaN</td>\n",
       "      <td>NaN</td>\n",
       "      <td>NaN</td>\n",
       "      <td>NaN</td>\n",
       "      <td>NaN</td>\n",
       "      <td>...</td>\n",
       "      <td>NaN</td>\n",
       "      <td>NaN</td>\n",
       "      <td>NaN</td>\n",
       "      <td>3.92</td>\n",
       "      <td>NaN</td>\n",
       "      <td>NaN</td>\n",
       "      <td>NaN</td>\n",
       "      <td>NaN</td>\n",
       "      <td>NaN</td>\n",
       "      <td>NaN</td>\n",
       "    </tr>\n",
       "    <tr>\n",
       "      <th>1988</th>\n",
       "      <td>266.68</td>\n",
       "      <td>499.44</td>\n",
       "      <td>NaN</td>\n",
       "      <td>NaN</td>\n",
       "      <td>NaN</td>\n",
       "      <td>NaN</td>\n",
       "      <td>NaN</td>\n",
       "      <td>NaN</td>\n",
       "      <td>NaN</td>\n",
       "      <td>232.76</td>\n",
       "      <td>...</td>\n",
       "      <td>NaN</td>\n",
       "      <td>232.76</td>\n",
       "      <td>NaN</td>\n",
       "      <td>0.02</td>\n",
       "      <td>NaN</td>\n",
       "      <td>NaN</td>\n",
       "      <td>232.76</td>\n",
       "      <td>NaN</td>\n",
       "      <td>NaN</td>\n",
       "      <td>NaN</td>\n",
       "    </tr>\n",
       "    <tr>\n",
       "      <th>1989</th>\n",
       "      <td>10.11</td>\n",
       "      <td>155.23</td>\n",
       "      <td>NaN</td>\n",
       "      <td>NaN</td>\n",
       "      <td>NaN</td>\n",
       "      <td>NaN</td>\n",
       "      <td>NaN</td>\n",
       "      <td>NaN</td>\n",
       "      <td>NaN</td>\n",
       "      <td>NaN</td>\n",
       "      <td>...</td>\n",
       "      <td>NaN</td>\n",
       "      <td>NaN</td>\n",
       "      <td>NaN</td>\n",
       "      <td>84.74</td>\n",
       "      <td>NaN</td>\n",
       "      <td>NaN</td>\n",
       "      <td>NaN</td>\n",
       "      <td>NaN</td>\n",
       "      <td>NaN</td>\n",
       "      <td>NaN</td>\n",
       "    </tr>\n",
       "  </tbody>\n",
       "</table>\n",
       "<p>5 rows × 21 columns</p>\n",
       "</div>"
      ],
      "text/plain": [
       "genres  Action  Adventure  Animation & Modeling  Audio Production  Casual  \\\n",
       "year                                                                        \n",
       "1983     57.92      57.92                   NaN               NaN   57.92   \n",
       "1984      6.40       6.40                   NaN               NaN    6.40   \n",
       "1987       NaN     128.57                   NaN               NaN     NaN   \n",
       "1988    266.68     499.44                   NaN               NaN     NaN   \n",
       "1989     10.11     155.23                   NaN               NaN     NaN   \n",
       "\n",
       "genres  Design & Illustration  Early Access  Education  Free to Play   Indie  \\\n",
       "year                                                                           \n",
       "1983                      NaN           NaN        NaN           NaN     NaN   \n",
       "1984                      NaN           NaN        NaN           NaN     NaN   \n",
       "1987                      NaN           NaN        NaN           NaN     NaN   \n",
       "1988                      NaN           NaN        NaN           NaN  232.76   \n",
       "1989                      NaN           NaN        NaN           NaN     NaN   \n",
       "\n",
       "genres  ...  Photo Editing     RPG  Racing  Simulation  Software Training  \\\n",
       "year    ...                                                                 \n",
       "1983    ...            NaN     NaN     NaN         NaN                NaN   \n",
       "1984    ...            NaN     NaN     NaN         NaN                NaN   \n",
       "1987    ...            NaN     NaN     NaN        3.92                NaN   \n",
       "1988    ...            NaN  232.76     NaN        0.02                NaN   \n",
       "1989    ...            NaN     NaN     NaN       84.74                NaN   \n",
       "\n",
       "genres  Sports  Strategy  Utilities  Video Production  Web Publishing  \n",
       "year                                                                   \n",
       "1983       NaN       NaN        NaN               NaN             NaN  \n",
       "1984       NaN       NaN        NaN               NaN             NaN  \n",
       "1987       NaN       NaN        NaN               NaN             NaN  \n",
       "1988       NaN    232.76        NaN               NaN             NaN  \n",
       "1989       NaN       NaN        NaN               NaN             NaN  \n",
       "\n",
       "[5 rows x 21 columns]"
      ]
     },
     "execution_count": 19,
     "metadata": {},
     "output_type": "execute_result"
    }
   ],
   "source": [
    "PlayTimeGenre_df = PlayTimeGenre_df.unstack(0)\n",
    "\n",
    "# Visualizar los primeros resultados de PlayTimeGenre_df.\n",
    "PlayTimeGenre_df.head()"
   ]
  },
  {
   "cell_type": "markdown",
   "metadata": {},
   "source": [
    "Procederemos a guardar este DataFrame en un archivo .csv para ser consultado por la API."
   ]
  },
  {
   "cell_type": "code",
   "execution_count": 20,
   "metadata": {},
   "outputs": [],
   "source": [
    "PlayTimeGenre_df.to_csv(\"./Datasets_API/PlayTimeGenre.csv\")"
   ]
  },
  {
   "cell_type": "markdown",
   "metadata": {},
   "source": [
    "## UserForGenre"
   ]
  },
  {
   "cell_type": "markdown",
   "metadata": {},
   "source": [
    "**Consigna:**\n",
    "\n",
    "__def UserForGenre(genero : str):__ Debe devolver el usuario que acumula más horas jugadas para el género dado y una lista de la acumulación de horas jugadas por año.\n",
    "\n",
    "Ejemplo de retorno: {\"Usuario con más horas jugadas para Género X\" : us213ndjss09sdf, \"Horas jugadas\":[{Año: 2013, Horas: 203}, {Año: 2012, Horas: 100}, {Año: 2011, Horas: 23}]}"
   ]
  },
  {
   "cell_type": "markdown",
   "metadata": {},
   "source": [
    "Algunas consideraciones:\n",
    "* El **tiempo de juego** está en la columna \"playtime_forever\" del dataset \"user_items_procesado.csv\".\n",
    "* El **año** en el que está jugando está en la columna \"review_year\" del dataset \"user_reviews_procesado.csv\". Asumimos que el año en el que postea la review es el mismo año en el que está jugando.\n",
    "* El **género del juego** está en la columna \"genres\" del dataset \"steam_games_procesado.csv\".\n",
    "\n",
    "* Podemos vincular \"user_reviews_procesado.csv\" y \"user_items_procesado.csv\" a través de las columnas **\"user_id\"** e **\"item_id\"** que se encuentran en ambas tablas.\n",
    "* Luego podemos vincular la columna **\"item_id\"** de esta tabla con la columna **\"id\"** de \"steam_games_procesado.csv\"."
   ]
  },
  {
   "cell_type": "code",
   "execution_count": 21,
   "metadata": {},
   "outputs": [
    {
     "data": {
      "text/html": [
       "<div>\n",
       "<style scoped>\n",
       "    .dataframe tbody tr th:only-of-type {\n",
       "        vertical-align: middle;\n",
       "    }\n",
       "\n",
       "    .dataframe tbody tr th {\n",
       "        vertical-align: top;\n",
       "    }\n",
       "\n",
       "    .dataframe thead th {\n",
       "        text-align: right;\n",
       "    }\n",
       "</style>\n",
       "<table border=\"1\" class=\"dataframe\">\n",
       "  <thead>\n",
       "    <tr style=\"text-align: right;\">\n",
       "      <th></th>\n",
       "      <th>user_id</th>\n",
       "      <th>item_id</th>\n",
       "      <th>playtime_forever</th>\n",
       "    </tr>\n",
       "  </thead>\n",
       "  <tbody>\n",
       "    <tr>\n",
       "      <th>0</th>\n",
       "      <td>76561197970982479</td>\n",
       "      <td>10</td>\n",
       "      <td>0.10</td>\n",
       "    </tr>\n",
       "    <tr>\n",
       "      <th>1</th>\n",
       "      <td>76561197970982479</td>\n",
       "      <td>20</td>\n",
       "      <td>0.00</td>\n",
       "    </tr>\n",
       "    <tr>\n",
       "      <th>2</th>\n",
       "      <td>76561197970982479</td>\n",
       "      <td>30</td>\n",
       "      <td>0.12</td>\n",
       "    </tr>\n",
       "    <tr>\n",
       "      <th>3</th>\n",
       "      <td>76561197970982479</td>\n",
       "      <td>40</td>\n",
       "      <td>0.00</td>\n",
       "    </tr>\n",
       "    <tr>\n",
       "      <th>4</th>\n",
       "      <td>76561197970982479</td>\n",
       "      <td>50</td>\n",
       "      <td>0.00</td>\n",
       "    </tr>\n",
       "  </tbody>\n",
       "</table>\n",
       "</div>"
      ],
      "text/plain": [
       "             user_id  item_id  playtime_forever\n",
       "0  76561197970982479       10              0.10\n",
       "1  76561197970982479       20              0.00\n",
       "2  76561197970982479       30              0.12\n",
       "3  76561197970982479       40              0.00\n",
       "4  76561197970982479       50              0.00"
      ]
     },
     "execution_count": 21,
     "metadata": {},
     "output_type": "execute_result"
    }
   ],
   "source": [
    "# Cargar user_items_procesado.csv.\n",
    "items_df = pd.read_csv(\"./Datasets/user_items_procesado.csv\")\n",
    "\n",
    "# Visualizar los primeros resultados.\n",
    "items_df.head()"
   ]
  },
  {
   "cell_type": "code",
   "execution_count": 22,
   "metadata": {},
   "outputs": [
    {
     "name": "stdout",
     "output_type": "stream",
     "text": [
      "<class 'pandas.core.frame.DataFrame'>\n",
      "RangeIndex: 5094092 entries, 0 to 5094091\n",
      "Data columns (total 3 columns):\n",
      " #   Column            Dtype  \n",
      "---  ------            -----  \n",
      " 0   user_id           object \n",
      " 1   item_id           int64  \n",
      " 2   playtime_forever  float64\n",
      "dtypes: float64(1), int64(1), object(1)\n",
      "memory usage: 116.6+ MB\n"
     ]
    }
   ],
   "source": [
    "# Obtener información de items_df.\n",
    "items_df.info()"
   ]
  },
  {
   "cell_type": "code",
   "execution_count": 23,
   "metadata": {},
   "outputs": [
    {
     "data": {
      "text/plain": [
       "(5094092, 3)"
      ]
     },
     "execution_count": 23,
     "metadata": {},
     "output_type": "execute_result"
    }
   ],
   "source": [
    "# Obtener filas y columnas de items_df.\n",
    "items_df.shape"
   ]
  },
  {
   "cell_type": "code",
   "execution_count": 24,
   "metadata": {},
   "outputs": [
    {
     "data": {
      "text/html": [
       "<div>\n",
       "<style scoped>\n",
       "    .dataframe tbody tr th:only-of-type {\n",
       "        vertical-align: middle;\n",
       "    }\n",
       "\n",
       "    .dataframe tbody tr th {\n",
       "        vertical-align: top;\n",
       "    }\n",
       "\n",
       "    .dataframe thead th {\n",
       "        text-align: right;\n",
       "    }\n",
       "</style>\n",
       "<table border=\"1\" class=\"dataframe\">\n",
       "  <thead>\n",
       "    <tr style=\"text-align: right;\">\n",
       "      <th></th>\n",
       "      <th>user_id</th>\n",
       "      <th>item_id</th>\n",
       "      <th>review_year</th>\n",
       "    </tr>\n",
       "  </thead>\n",
       "  <tbody>\n",
       "    <tr>\n",
       "      <th>0</th>\n",
       "      <td>76561197970982479</td>\n",
       "      <td>1250</td>\n",
       "      <td>2011.0</td>\n",
       "    </tr>\n",
       "    <tr>\n",
       "      <th>1</th>\n",
       "      <td>76561197970982479</td>\n",
       "      <td>22200</td>\n",
       "      <td>2011.0</td>\n",
       "    </tr>\n",
       "    <tr>\n",
       "      <th>2</th>\n",
       "      <td>76561197970982479</td>\n",
       "      <td>43110</td>\n",
       "      <td>2011.0</td>\n",
       "    </tr>\n",
       "    <tr>\n",
       "      <th>3</th>\n",
       "      <td>js41637</td>\n",
       "      <td>251610</td>\n",
       "      <td>2014.0</td>\n",
       "    </tr>\n",
       "    <tr>\n",
       "      <th>4</th>\n",
       "      <td>js41637</td>\n",
       "      <td>227300</td>\n",
       "      <td>2013.0</td>\n",
       "    </tr>\n",
       "  </tbody>\n",
       "</table>\n",
       "</div>"
      ],
      "text/plain": [
       "             user_id  item_id  review_year\n",
       "0  76561197970982479     1250       2011.0\n",
       "1  76561197970982479    22200       2011.0\n",
       "2  76561197970982479    43110       2011.0\n",
       "3            js41637   251610       2014.0\n",
       "4            js41637   227300       2013.0"
      ]
     },
     "execution_count": 24,
     "metadata": {},
     "output_type": "execute_result"
    }
   ],
   "source": [
    "# Cargar user_reviews_procesado.csv.\n",
    "reviews_df = pd.read_csv(\"./Datasets/user_reviews_procesado.csv\")\n",
    "\n",
    "# Seleccionar columnas de interés.\n",
    "reviews_df = reviews_df[[\"user_id\", \"item_id\", \"review_year\"]]\n",
    "\n",
    "# Visualizar los primeros resultados.\n",
    "reviews_df.head()"
   ]
  },
  {
   "cell_type": "code",
   "execution_count": 25,
   "metadata": {},
   "outputs": [
    {
     "name": "stdout",
     "output_type": "stream",
     "text": [
      "<class 'pandas.core.frame.DataFrame'>\n",
      "RangeIndex: 58431 entries, 0 to 58430\n",
      "Data columns (total 3 columns):\n",
      " #   Column       Non-Null Count  Dtype  \n",
      "---  ------       --------------  -----  \n",
      " 0   user_id      58431 non-null  object \n",
      " 1   item_id      58431 non-null  int64  \n",
      " 2   review_year  48498 non-null  float64\n",
      "dtypes: float64(1), int64(1), object(1)\n",
      "memory usage: 1.3+ MB\n"
     ]
    }
   ],
   "source": [
    "# Obtener información de reviews_df.\n",
    "reviews_df.info()"
   ]
  },
  {
   "cell_type": "markdown",
   "metadata": {},
   "source": [
    "Podemos ver valores nulos en __review_year__. Estos no nos servirán para la consulta y no podemos imputarlos porque no sabemos cuando hizo el review cada usuario asique optaremos por eliminarlos."
   ]
  },
  {
   "cell_type": "code",
   "execution_count": 26,
   "metadata": {},
   "outputs": [],
   "source": [
    "reviews_df.dropna(subset=[\"review_year\"], inplace=True, ignore_index=True)\n",
    "\n",
    "# Tras eliminar nulos podemos castear review_year a entero.\n",
    "reviews_df.review_year = reviews_df.review_year.astype(int)"
   ]
  },
  {
   "cell_type": "code",
   "execution_count": 27,
   "metadata": {},
   "outputs": [
    {
     "name": "stdout",
     "output_type": "stream",
     "text": [
      "<class 'pandas.core.frame.DataFrame'>\n",
      "RangeIndex: 48498 entries, 0 to 48497\n",
      "Data columns (total 3 columns):\n",
      " #   Column       Non-Null Count  Dtype \n",
      "---  ------       --------------  ----- \n",
      " 0   user_id      48498 non-null  object\n",
      " 1   item_id      48498 non-null  int64 \n",
      " 2   review_year  48498 non-null  int64 \n",
      "dtypes: int64(2), object(1)\n",
      "memory usage: 1.1+ MB\n"
     ]
    }
   ],
   "source": [
    "# Obtener información de reviews_df después de la transformación.\n",
    "reviews_df.info()"
   ]
  },
  {
   "cell_type": "markdown",
   "metadata": {},
   "source": [
    "Ahora haremos un __inner join__ de estos 2 dataframes cuando haya coincidencias en las columnas __user_id__ e __item_id__."
   ]
  },
  {
   "cell_type": "code",
   "execution_count": 28,
   "metadata": {},
   "outputs": [],
   "source": [
    "it_rev_df = items_df.merge(reviews_df, on=[\"user_id\", \"item_id\"], how=\"inner\")"
   ]
  },
  {
   "cell_type": "code",
   "execution_count": 29,
   "metadata": {},
   "outputs": [
    {
     "data": {
      "text/html": [
       "<div>\n",
       "<style scoped>\n",
       "    .dataframe tbody tr th:only-of-type {\n",
       "        vertical-align: middle;\n",
       "    }\n",
       "\n",
       "    .dataframe tbody tr th {\n",
       "        vertical-align: top;\n",
       "    }\n",
       "\n",
       "    .dataframe thead th {\n",
       "        text-align: right;\n",
       "    }\n",
       "</style>\n",
       "<table border=\"1\" class=\"dataframe\">\n",
       "  <thead>\n",
       "    <tr style=\"text-align: right;\">\n",
       "      <th></th>\n",
       "      <th>user_id</th>\n",
       "      <th>item_id</th>\n",
       "      <th>playtime_forever</th>\n",
       "      <th>review_year</th>\n",
       "    </tr>\n",
       "  </thead>\n",
       "  <tbody>\n",
       "    <tr>\n",
       "      <th>0</th>\n",
       "      <td>76561197970982479</td>\n",
       "      <td>22200</td>\n",
       "      <td>4.52</td>\n",
       "      <td>2011</td>\n",
       "    </tr>\n",
       "    <tr>\n",
       "      <th>1</th>\n",
       "      <td>76561197970982479</td>\n",
       "      <td>1250</td>\n",
       "      <td>166.77</td>\n",
       "      <td>2011</td>\n",
       "    </tr>\n",
       "    <tr>\n",
       "      <th>2</th>\n",
       "      <td>76561197970982479</td>\n",
       "      <td>43110</td>\n",
       "      <td>13.90</td>\n",
       "      <td>2011</td>\n",
       "    </tr>\n",
       "    <tr>\n",
       "      <th>3</th>\n",
       "      <td>js41637</td>\n",
       "      <td>227300</td>\n",
       "      <td>9.18</td>\n",
       "      <td>2013</td>\n",
       "    </tr>\n",
       "    <tr>\n",
       "      <th>4</th>\n",
       "      <td>js41637</td>\n",
       "      <td>239030</td>\n",
       "      <td>5.82</td>\n",
       "      <td>2013</td>\n",
       "    </tr>\n",
       "  </tbody>\n",
       "</table>\n",
       "</div>"
      ],
      "text/plain": [
       "             user_id  item_id  playtime_forever  review_year\n",
       "0  76561197970982479    22200              4.52         2011\n",
       "1  76561197970982479     1250            166.77         2011\n",
       "2  76561197970982479    43110             13.90         2011\n",
       "3            js41637   227300              9.18         2013\n",
       "4            js41637   239030              5.82         2013"
      ]
     },
     "execution_count": 29,
     "metadata": {},
     "output_type": "execute_result"
    }
   ],
   "source": [
    "# Visualizar los primeros resultados de it_rev_df.\n",
    "it_rev_df.head()"
   ]
  },
  {
   "cell_type": "code",
   "execution_count": 30,
   "metadata": {},
   "outputs": [
    {
     "data": {
      "text/plain": [
       "(36293, 4)"
      ]
     },
     "execution_count": 30,
     "metadata": {},
     "output_type": "execute_result"
    }
   ],
   "source": [
    "# Obtener filas y columnas de it_rev_df.\n",
    "it_rev_df.shape"
   ]
  },
  {
   "cell_type": "markdown",
   "metadata": {},
   "source": [
    "Analicemos ahora el número de horas jugadas totales por usuario y por año."
   ]
  },
  {
   "cell_type": "code",
   "execution_count": 31,
   "metadata": {},
   "outputs": [
    {
     "data": {
      "text/plain": [
       "user_id             review_year\n",
       "shinomegami         2015           11243.72\n",
       "wolop               2011           10712.88\n",
       "76561198039832932   2015           10563.43\n",
       "tsunamitad          2015           10001.13\n",
       "ThisIsWhereIGetOff  2014            8250.97\n",
       "Nuclueus            2014            8216.85\n",
       "Name: playtime_forever, dtype: float64"
      ]
     },
     "execution_count": 31,
     "metadata": {},
     "output_type": "execute_result"
    }
   ],
   "source": [
    "it_rev_df.groupby([\"user_id\", \"review_year\"]).playtime_forever.sum()\\\n",
    "         .sort_values(ascending=False).head(6)"
   ]
  },
  {
   "cell_type": "markdown",
   "metadata": {},
   "source": [
    "El número total de horas jugadas por año y por jugador no puede superar 8760 (horas en 1 año) o 8784 (horas en un año bisiesto). No obstante, vemos que los primeros 4 registros superan estos valores. Estos son datos agrupados, y es posible que solo algunos de los datos individuales sea incorrecto, pero como resultado, la suma de horas jugadas supera a las horas totales en 1 año.\n",
    "\n",
    "Una de las posibles fuentes de error es la asunción que hicimos de que el año del review era el año en el que el usuario jugó. Como la respuesta de la API debe ser el número de horas jugadas por año, y ese número no puede ser superior a 8784, optaré por eliminar estos registros."
   ]
  },
  {
   "cell_type": "code",
   "execution_count": 32,
   "metadata": {},
   "outputs": [
    {
     "data": {
      "text/html": [
       "<div>\n",
       "<style scoped>\n",
       "    .dataframe tbody tr th:only-of-type {\n",
       "        vertical-align: middle;\n",
       "    }\n",
       "\n",
       "    .dataframe tbody tr th {\n",
       "        vertical-align: top;\n",
       "    }\n",
       "\n",
       "    .dataframe thead th {\n",
       "        text-align: right;\n",
       "    }\n",
       "</style>\n",
       "<table border=\"1\" class=\"dataframe\">\n",
       "  <thead>\n",
       "    <tr style=\"text-align: right;\">\n",
       "      <th></th>\n",
       "      <th>user_id</th>\n",
       "      <th>review_year</th>\n",
       "      <th>playtime_forever</th>\n",
       "    </tr>\n",
       "  </thead>\n",
       "  <tbody>\n",
       "    <tr>\n",
       "      <th>0</th>\n",
       "      <td>shinomegami</td>\n",
       "      <td>2015</td>\n",
       "      <td>11243.72</td>\n",
       "    </tr>\n",
       "    <tr>\n",
       "      <th>1</th>\n",
       "      <td>wolop</td>\n",
       "      <td>2011</td>\n",
       "      <td>10712.88</td>\n",
       "    </tr>\n",
       "    <tr>\n",
       "      <th>2</th>\n",
       "      <td>76561198039832932</td>\n",
       "      <td>2015</td>\n",
       "      <td>10563.43</td>\n",
       "    </tr>\n",
       "    <tr>\n",
       "      <th>3</th>\n",
       "      <td>tsunamitad</td>\n",
       "      <td>2015</td>\n",
       "      <td>10001.13</td>\n",
       "    </tr>\n",
       "  </tbody>\n",
       "</table>\n",
       "</div>"
      ],
      "text/plain": [
       "             user_id  review_year  playtime_forever\n",
       "0        shinomegami         2015          11243.72\n",
       "1              wolop         2011          10712.88\n",
       "2  76561198039832932         2015          10563.43\n",
       "3         tsunamitad         2015          10001.13"
      ]
     },
     "execution_count": 32,
     "metadata": {},
     "output_type": "execute_result"
    }
   ],
   "source": [
    "# Creamos un DataFrame con user_id, review_year y playtime_forever para las 4\n",
    "# combinaciones que resultan en outliers y deben ser descartados.\n",
    "user_year_outlier = it_rev_df.groupby([\"user_id\", \"review_year\"])\\\n",
    "                             .playtime_forever.sum()\\\n",
    "                             .sort_values(ascending=False).head(4)\\\n",
    "                             .to_frame().reset_index()\n",
    "\n",
    "user_year_outlier"
   ]
  },
  {
   "cell_type": "code",
   "execution_count": 33,
   "metadata": {},
   "outputs": [
    {
     "data": {
      "text/plain": [
       "[13364, 13366, 13367, 4680, 10593, 10594, 10595, 10596, 10597, 10598, 12834]"
      ]
     },
     "execution_count": 33,
     "metadata": {},
     "output_type": "execute_result"
    }
   ],
   "source": [
    "# Crear una lista vacía para almacenar los índices de las filas que cumplen con\n",
    "# los criterios de outliers.\n",
    "indices_outliers = []\n",
    "\n",
    "# Iterar a través de las filas del DataFrame user_year_outlier.\n",
    "for row in user_year_outlier.itertuples():\n",
    "    user_id = row.user_id # Extraer el valor 'user_id' de la fila actual.\n",
    "    review_year = row.review_year # Extrae el valor 'review_year' de la fila actual.\n",
    "\n",
    "    # Iterar a través de las filas del DataFrame it_rev_df.\n",
    "    for row2 in it_rev_df.itertuples():\n",
    "        # Comprobar si los valores de user_id y review_year coinciden entre los DataFrames.\n",
    "        if (row2.user_id == user_id) & (row2.review_year == review_year):\n",
    "            # Si hay coincidencia, agrega el índice de la fila actual de \n",
    "            # 'it_rev_df' a la lista.\n",
    "            indices_outliers.append(row2.Index)\n",
    "\n",
    "# Visualizar indices_outliers.\n",
    "indices_outliers"
   ]
  },
  {
   "cell_type": "markdown",
   "metadata": {},
   "source": [
    "Una vez identificados los índices de los outliers, pasamos a eliminar dichos registros de it_rev_df."
   ]
  },
  {
   "cell_type": "code",
   "execution_count": 34,
   "metadata": {},
   "outputs": [],
   "source": [
    "# Eliminar los registros cuyos índices estén en indices_outliers.\n",
    "it_rev_df.drop(indices_outliers, inplace=True)\n",
    "\n",
    "# Resetear el índice.\n",
    "it_rev_df.reset_index(drop=True, inplace=True)"
   ]
  },
  {
   "cell_type": "markdown",
   "metadata": {},
   "source": [
    "Pasamos ahora a cargar steam_games_procesado.csv."
   ]
  },
  {
   "cell_type": "code",
   "execution_count": 35,
   "metadata": {},
   "outputs": [
    {
     "data": {
      "text/html": [
       "<div>\n",
       "<style scoped>\n",
       "    .dataframe tbody tr th:only-of-type {\n",
       "        vertical-align: middle;\n",
       "    }\n",
       "\n",
       "    .dataframe tbody tr th {\n",
       "        vertical-align: top;\n",
       "    }\n",
       "\n",
       "    .dataframe thead th {\n",
       "        text-align: right;\n",
       "    }\n",
       "</style>\n",
       "<table border=\"1\" class=\"dataframe\">\n",
       "  <thead>\n",
       "    <tr style=\"text-align: right;\">\n",
       "      <th></th>\n",
       "      <th>item_id</th>\n",
       "      <th>genres</th>\n",
       "    </tr>\n",
       "  </thead>\n",
       "  <tbody>\n",
       "    <tr>\n",
       "      <th>0</th>\n",
       "      <td>761140</td>\n",
       "      <td>['Action', 'Casual', 'Indie', 'Simulation', 'S...</td>\n",
       "    </tr>\n",
       "    <tr>\n",
       "      <th>1</th>\n",
       "      <td>643980</td>\n",
       "      <td>['Free to Play', 'Indie', 'RPG', 'Strategy']</td>\n",
       "    </tr>\n",
       "    <tr>\n",
       "      <th>2</th>\n",
       "      <td>670290</td>\n",
       "      <td>['Casual', 'Free to Play', 'Indie', 'Simulatio...</td>\n",
       "    </tr>\n",
       "  </tbody>\n",
       "</table>\n",
       "</div>"
      ],
      "text/plain": [
       "   item_id                                             genres\n",
       "0   761140  ['Action', 'Casual', 'Indie', 'Simulation', 'S...\n",
       "1   643980       ['Free to Play', 'Indie', 'RPG', 'Strategy']\n",
       "2   670290  ['Casual', 'Free to Play', 'Indie', 'Simulatio..."
      ]
     },
     "execution_count": 35,
     "metadata": {},
     "output_type": "execute_result"
    }
   ],
   "source": [
    "# Cargar steam_games_procesado.csv.\n",
    "games_df = pd.read_csv(\"./Datasets/steam_games_procesado.csv\")\n",
    "\n",
    "# Seleccionar columnas de interés.\n",
    "games_df = games_df[[\"id\", \"genres\"]]\n",
    "\n",
    "# Cambiar el nombre de la columna id a item_id.\n",
    "games_df.rename(columns={\"id\":\"item_id\"}, inplace=True)\n",
    "\n",
    "# Visualizar los primeros resultados.\n",
    "games_df.head(3)"
   ]
  },
  {
   "cell_type": "code",
   "execution_count": 36,
   "metadata": {},
   "outputs": [
    {
     "data": {
      "text/plain": [
       "item_id       0\n",
       "genres     3275\n",
       "dtype: int64"
      ]
     },
     "execution_count": 36,
     "metadata": {},
     "output_type": "execute_result"
    }
   ],
   "source": [
    "# Analizar los valores nulos.\n",
    "games_df.isna().sum()"
   ]
  },
  {
   "cell_type": "markdown",
   "metadata": {},
   "source": [
    "Para esta consulta no nos sirven aquellos registros que tengan valores nulos en __genres__, por lo que los eliminaremos."
   ]
  },
  {
   "cell_type": "code",
   "execution_count": 37,
   "metadata": {},
   "outputs": [],
   "source": [
    "# Borrar valores nulos.\n",
    "games_df.dropna(subset=[\"genres\"], inplace=True, ignore_index=True)"
   ]
  },
  {
   "cell_type": "markdown",
   "metadata": {},
   "source": [
    "Luego, para poder agrupar por género, necesitaremos que cada género ocupe una fila. Lograremos esto con la función __explode()__."
   ]
  },
  {
   "cell_type": "code",
   "execution_count": 38,
   "metadata": {},
   "outputs": [
    {
     "data": {
      "text/html": [
       "<div>\n",
       "<style scoped>\n",
       "    .dataframe tbody tr th:only-of-type {\n",
       "        vertical-align: middle;\n",
       "    }\n",
       "\n",
       "    .dataframe tbody tr th {\n",
       "        vertical-align: top;\n",
       "    }\n",
       "\n",
       "    .dataframe thead th {\n",
       "        text-align: right;\n",
       "    }\n",
       "</style>\n",
       "<table border=\"1\" class=\"dataframe\">\n",
       "  <thead>\n",
       "    <tr style=\"text-align: right;\">\n",
       "      <th></th>\n",
       "      <th>item_id</th>\n",
       "      <th>genres</th>\n",
       "    </tr>\n",
       "  </thead>\n",
       "  <tbody>\n",
       "    <tr>\n",
       "      <th>0</th>\n",
       "      <td>761140</td>\n",
       "      <td>Action</td>\n",
       "    </tr>\n",
       "    <tr>\n",
       "      <th>1</th>\n",
       "      <td>761140</td>\n",
       "      <td>Casual</td>\n",
       "    </tr>\n",
       "    <tr>\n",
       "      <th>2</th>\n",
       "      <td>761140</td>\n",
       "      <td>Indie</td>\n",
       "    </tr>\n",
       "    <tr>\n",
       "      <th>3</th>\n",
       "      <td>761140</td>\n",
       "      <td>Simulation</td>\n",
       "    </tr>\n",
       "    <tr>\n",
       "      <th>4</th>\n",
       "      <td>761140</td>\n",
       "      <td>Strategy</td>\n",
       "    </tr>\n",
       "  </tbody>\n",
       "</table>\n",
       "</div>"
      ],
      "text/plain": [
       "   item_id      genres\n",
       "0   761140      Action\n",
       "1   761140      Casual\n",
       "2   761140       Indie\n",
       "3   761140  Simulation\n",
       "4   761140    Strategy"
      ]
     },
     "execution_count": 38,
     "metadata": {},
     "output_type": "execute_result"
    }
   ],
   "source": [
    "# Usar eval() para convertir las listas de strings entre comillas en listas de \n",
    "# cadenas de texto válidas antes de usar explode().\n",
    "games_df['genres'] = games_df['genres'].apply(eval)\n",
    "\n",
    "games_df = games_df.explode(\"genres\")\n",
    "\n",
    "games_df.reset_index(inplace=True, drop=True) # Resetear el índice.\n",
    "\n",
    "games_df.head() # Visualizar los primeros resultados."
   ]
  },
  {
   "cell_type": "code",
   "execution_count": 39,
   "metadata": {},
   "outputs": [
    {
     "data": {
      "text/plain": [
       "array(['Action', 'Casual', 'Indie', 'Simulation', 'Strategy',\n",
       "       'Free to Play', 'RPG', 'Sports', 'Adventure', 'Racing',\n",
       "       'Early Access', 'Massively Multiplayer',\n",
       "       'Animation &amp; Modeling', 'Video Production', 'Utilities',\n",
       "       'Web Publishing', 'Education', 'Software Training',\n",
       "       'Design &amp; Illustration', 'Audio Production', 'Photo Editing',\n",
       "       'Accounting'], dtype=object)"
      ]
     },
     "execution_count": 39,
     "metadata": {},
     "output_type": "execute_result"
    }
   ],
   "source": [
    "# Mostrar los valores únicos en la columna genres.\n",
    "games_df.genres.unique()"
   ]
  },
  {
   "cell_type": "code",
   "execution_count": 40,
   "metadata": {},
   "outputs": [],
   "source": [
    "# Reemplazar algunso valores en la columna 'genres' después de descodificar HTML\n",
    "# para mejorar la legibilidad.\n",
    "games_df['genres'] = games_df['genres'].apply(lambda x: html.unescape(x))\n",
    "games_df['genres'] = games_df['genres'].str.replace(\"'Animation & Modeling'\", 'Animation & Modeling')\n",
    "games_df['genres'] = games_df['genres'].str.replace(\"'Design & Illustration'\", 'Design & Illustration')"
   ]
  },
  {
   "cell_type": "markdown",
   "metadata": {},
   "source": [
    "Vamos a hacer un __inner join__ de it_rev_df y games_df en su columna común: __item_id__."
   ]
  },
  {
   "cell_type": "code",
   "execution_count": 41,
   "metadata": {},
   "outputs": [
    {
     "data": {
      "text/html": [
       "<div>\n",
       "<style scoped>\n",
       "    .dataframe tbody tr th:only-of-type {\n",
       "        vertical-align: middle;\n",
       "    }\n",
       "\n",
       "    .dataframe tbody tr th {\n",
       "        vertical-align: top;\n",
       "    }\n",
       "\n",
       "    .dataframe thead th {\n",
       "        text-align: right;\n",
       "    }\n",
       "</style>\n",
       "<table border=\"1\" class=\"dataframe\">\n",
       "  <thead>\n",
       "    <tr style=\"text-align: right;\">\n",
       "      <th></th>\n",
       "      <th>user_id</th>\n",
       "      <th>item_id</th>\n",
       "      <th>playtime_forever</th>\n",
       "      <th>review_year</th>\n",
       "      <th>genres</th>\n",
       "    </tr>\n",
       "  </thead>\n",
       "  <tbody>\n",
       "    <tr>\n",
       "      <th>0</th>\n",
       "      <td>76561197970982479</td>\n",
       "      <td>22200</td>\n",
       "      <td>4.52</td>\n",
       "      <td>2011</td>\n",
       "      <td>Action</td>\n",
       "    </tr>\n",
       "    <tr>\n",
       "      <th>1</th>\n",
       "      <td>76561197970982479</td>\n",
       "      <td>22200</td>\n",
       "      <td>4.52</td>\n",
       "      <td>2011</td>\n",
       "      <td>Indie</td>\n",
       "    </tr>\n",
       "    <tr>\n",
       "      <th>2</th>\n",
       "      <td>seantheextraprawnsheepguy</td>\n",
       "      <td>22200</td>\n",
       "      <td>4.00</td>\n",
       "      <td>2011</td>\n",
       "      <td>Action</td>\n",
       "    </tr>\n",
       "    <tr>\n",
       "      <th>3</th>\n",
       "      <td>seantheextraprawnsheepguy</td>\n",
       "      <td>22200</td>\n",
       "      <td>4.00</td>\n",
       "      <td>2011</td>\n",
       "      <td>Indie</td>\n",
       "    </tr>\n",
       "    <tr>\n",
       "      <th>4</th>\n",
       "      <td>pipekissXD</td>\n",
       "      <td>22200</td>\n",
       "      <td>11.50</td>\n",
       "      <td>2013</td>\n",
       "      <td>Action</td>\n",
       "    </tr>\n",
       "  </tbody>\n",
       "</table>\n",
       "</div>"
      ],
      "text/plain": [
       "                     user_id  item_id  playtime_forever  review_year  genres\n",
       "0          76561197970982479    22200              4.52         2011  Action\n",
       "1          76561197970982479    22200              4.52         2011   Indie\n",
       "2  seantheextraprawnsheepguy    22200              4.00         2011  Action\n",
       "3  seantheextraprawnsheepguy    22200              4.00         2011   Indie\n",
       "4                 pipekissXD    22200             11.50         2013  Action"
      ]
     },
     "execution_count": 41,
     "metadata": {},
     "output_type": "execute_result"
    }
   ],
   "source": [
    "it_rev_gam_df = it_rev_df.merge(games_df, on=\"item_id\", how=\"inner\")\n",
    "\n",
    "# Visualizar los primeros resultados de it_rev_gam_df.\n",
    "it_rev_gam_df.head()"
   ]
  },
  {
   "cell_type": "markdown",
   "metadata": {},
   "source": [
    "Vamos a usar it_rev_gam_df para responder la primera pregunta, _quién es el usuario que mas jugó por género_. Para ello debemos agrupar por género y por usuario y sumar las cantidad de horas jugadas."
   ]
  },
  {
   "cell_type": "code",
   "execution_count": 42,
   "metadata": {},
   "outputs": [
    {
     "data": {
      "text/plain": [
       "genres          user_id            \n",
       "Action          --000--                 49.15\n",
       "                --ace--                 21.15\n",
       "                --ionex--               14.03\n",
       "                -2SV-vuLB-Kg           515.92\n",
       "                -Beave-                 47.73\n",
       "                                        ...  \n",
       "Web Publishing  draoftwmate              0.95\n",
       "                joshfeb06                5.07\n",
       "                odoroitaka              20.73\n",
       "                thetimegoesfastxd77     67.95\n",
       "                tinbgr                   2.00\n",
       "Name: playtime_forever, Length: 57133, dtype: float64"
      ]
     },
     "execution_count": 42,
     "metadata": {},
     "output_type": "execute_result"
    }
   ],
   "source": [
    "it_rev_gam_df = it_rev_gam_df.groupby([\"genres\", \"user_id\"]).playtime_forever.sum()\n",
    "\n",
    "it_rev_gam_df"
   ]
  },
  {
   "cell_type": "markdown",
   "metadata": {},
   "source": [
    "Usaremos la función __unstack(0)__ para pasar el primer índice de la serie multiindice a columnas."
   ]
  },
  {
   "cell_type": "code",
   "execution_count": 43,
   "metadata": {},
   "outputs": [
    {
     "data": {
      "text/html": [
       "<div>\n",
       "<style scoped>\n",
       "    .dataframe tbody tr th:only-of-type {\n",
       "        vertical-align: middle;\n",
       "    }\n",
       "\n",
       "    .dataframe tbody tr th {\n",
       "        vertical-align: top;\n",
       "    }\n",
       "\n",
       "    .dataframe thead th {\n",
       "        text-align: right;\n",
       "    }\n",
       "</style>\n",
       "<table border=\"1\" class=\"dataframe\">\n",
       "  <thead>\n",
       "    <tr style=\"text-align: right;\">\n",
       "      <th>genres</th>\n",
       "      <th>Action</th>\n",
       "      <th>Adventure</th>\n",
       "      <th>Animation &amp; Modeling</th>\n",
       "      <th>Audio Production</th>\n",
       "      <th>Casual</th>\n",
       "      <th>Design &amp; Illustration</th>\n",
       "      <th>Early Access</th>\n",
       "      <th>Education</th>\n",
       "      <th>Free to Play</th>\n",
       "      <th>Indie</th>\n",
       "      <th>Massively Multiplayer</th>\n",
       "      <th>RPG</th>\n",
       "      <th>Racing</th>\n",
       "      <th>Simulation</th>\n",
       "      <th>Software Training</th>\n",
       "      <th>Sports</th>\n",
       "      <th>Strategy</th>\n",
       "      <th>Utilities</th>\n",
       "      <th>Video Production</th>\n",
       "      <th>Web Publishing</th>\n",
       "    </tr>\n",
       "    <tr>\n",
       "      <th>user_id</th>\n",
       "      <th></th>\n",
       "      <th></th>\n",
       "      <th></th>\n",
       "      <th></th>\n",
       "      <th></th>\n",
       "      <th></th>\n",
       "      <th></th>\n",
       "      <th></th>\n",
       "      <th></th>\n",
       "      <th></th>\n",
       "      <th></th>\n",
       "      <th></th>\n",
       "      <th></th>\n",
       "      <th></th>\n",
       "      <th></th>\n",
       "      <th></th>\n",
       "      <th></th>\n",
       "      <th></th>\n",
       "      <th></th>\n",
       "      <th></th>\n",
       "    </tr>\n",
       "  </thead>\n",
       "  <tbody>\n",
       "    <tr>\n",
       "      <th>--000--</th>\n",
       "      <td>49.15</td>\n",
       "      <td>NaN</td>\n",
       "      <td>NaN</td>\n",
       "      <td>NaN</td>\n",
       "      <td>NaN</td>\n",
       "      <td>NaN</td>\n",
       "      <td>NaN</td>\n",
       "      <td>NaN</td>\n",
       "      <td>NaN</td>\n",
       "      <td>NaN</td>\n",
       "      <td>NaN</td>\n",
       "      <td>NaN</td>\n",
       "      <td>NaN</td>\n",
       "      <td>NaN</td>\n",
       "      <td>NaN</td>\n",
       "      <td>NaN</td>\n",
       "      <td>NaN</td>\n",
       "      <td>NaN</td>\n",
       "      <td>NaN</td>\n",
       "      <td>NaN</td>\n",
       "    </tr>\n",
       "    <tr>\n",
       "      <th>--ace--</th>\n",
       "      <td>21.15</td>\n",
       "      <td>21.15</td>\n",
       "      <td>NaN</td>\n",
       "      <td>NaN</td>\n",
       "      <td>NaN</td>\n",
       "      <td>NaN</td>\n",
       "      <td>NaN</td>\n",
       "      <td>NaN</td>\n",
       "      <td>NaN</td>\n",
       "      <td>21.15</td>\n",
       "      <td>NaN</td>\n",
       "      <td>21.15</td>\n",
       "      <td>NaN</td>\n",
       "      <td>NaN</td>\n",
       "      <td>NaN</td>\n",
       "      <td>NaN</td>\n",
       "      <td>NaN</td>\n",
       "      <td>NaN</td>\n",
       "      <td>NaN</td>\n",
       "      <td>NaN</td>\n",
       "    </tr>\n",
       "    <tr>\n",
       "      <th>--ionex--</th>\n",
       "      <td>14.03</td>\n",
       "      <td>14.03</td>\n",
       "      <td>NaN</td>\n",
       "      <td>NaN</td>\n",
       "      <td>NaN</td>\n",
       "      <td>NaN</td>\n",
       "      <td>NaN</td>\n",
       "      <td>NaN</td>\n",
       "      <td>NaN</td>\n",
       "      <td>14.03</td>\n",
       "      <td>NaN</td>\n",
       "      <td>14.03</td>\n",
       "      <td>NaN</td>\n",
       "      <td>NaN</td>\n",
       "      <td>NaN</td>\n",
       "      <td>NaN</td>\n",
       "      <td>NaN</td>\n",
       "      <td>NaN</td>\n",
       "      <td>NaN</td>\n",
       "      <td>NaN</td>\n",
       "    </tr>\n",
       "    <tr>\n",
       "      <th>-2SV-vuLB-Kg</th>\n",
       "      <td>515.92</td>\n",
       "      <td>NaN</td>\n",
       "      <td>NaN</td>\n",
       "      <td>NaN</td>\n",
       "      <td>NaN</td>\n",
       "      <td>NaN</td>\n",
       "      <td>NaN</td>\n",
       "      <td>NaN</td>\n",
       "      <td>NaN</td>\n",
       "      <td>NaN</td>\n",
       "      <td>NaN</td>\n",
       "      <td>NaN</td>\n",
       "      <td>NaN</td>\n",
       "      <td>NaN</td>\n",
       "      <td>NaN</td>\n",
       "      <td>NaN</td>\n",
       "      <td>6.37</td>\n",
       "      <td>NaN</td>\n",
       "      <td>NaN</td>\n",
       "      <td>NaN</td>\n",
       "    </tr>\n",
       "    <tr>\n",
       "      <th>-Beave-</th>\n",
       "      <td>47.73</td>\n",
       "      <td>NaN</td>\n",
       "      <td>NaN</td>\n",
       "      <td>NaN</td>\n",
       "      <td>NaN</td>\n",
       "      <td>NaN</td>\n",
       "      <td>NaN</td>\n",
       "      <td>NaN</td>\n",
       "      <td>NaN</td>\n",
       "      <td>NaN</td>\n",
       "      <td>NaN</td>\n",
       "      <td>NaN</td>\n",
       "      <td>NaN</td>\n",
       "      <td>NaN</td>\n",
       "      <td>NaN</td>\n",
       "      <td>NaN</td>\n",
       "      <td>NaN</td>\n",
       "      <td>NaN</td>\n",
       "      <td>NaN</td>\n",
       "      <td>NaN</td>\n",
       "    </tr>\n",
       "  </tbody>\n",
       "</table>\n",
       "</div>"
      ],
      "text/plain": [
       "genres        Action  Adventure  Animation & Modeling  Audio Production  \\\n",
       "user_id                                                                   \n",
       "--000--        49.15        NaN                   NaN               NaN   \n",
       "--ace--        21.15      21.15                   NaN               NaN   \n",
       "--ionex--      14.03      14.03                   NaN               NaN   \n",
       "-2SV-vuLB-Kg  515.92        NaN                   NaN               NaN   \n",
       "-Beave-        47.73        NaN                   NaN               NaN   \n",
       "\n",
       "genres        Casual  Design & Illustration  Early Access  Education  \\\n",
       "user_id                                                                \n",
       "--000--          NaN                    NaN           NaN        NaN   \n",
       "--ace--          NaN                    NaN           NaN        NaN   \n",
       "--ionex--        NaN                    NaN           NaN        NaN   \n",
       "-2SV-vuLB-Kg     NaN                    NaN           NaN        NaN   \n",
       "-Beave-          NaN                    NaN           NaN        NaN   \n",
       "\n",
       "genres        Free to Play  Indie  Massively Multiplayer    RPG  Racing  \\\n",
       "user_id                                                                   \n",
       "--000--                NaN    NaN                    NaN    NaN     NaN   \n",
       "--ace--                NaN  21.15                    NaN  21.15     NaN   \n",
       "--ionex--              NaN  14.03                    NaN  14.03     NaN   \n",
       "-2SV-vuLB-Kg           NaN    NaN                    NaN    NaN     NaN   \n",
       "-Beave-                NaN    NaN                    NaN    NaN     NaN   \n",
       "\n",
       "genres        Simulation  Software Training  Sports  Strategy  Utilities  \\\n",
       "user_id                                                                    \n",
       "--000--              NaN                NaN     NaN       NaN        NaN   \n",
       "--ace--              NaN                NaN     NaN       NaN        NaN   \n",
       "--ionex--            NaN                NaN     NaN       NaN        NaN   \n",
       "-2SV-vuLB-Kg         NaN                NaN     NaN      6.37        NaN   \n",
       "-Beave-              NaN                NaN     NaN       NaN        NaN   \n",
       "\n",
       "genres        Video Production  Web Publishing  \n",
       "user_id                                         \n",
       "--000--                    NaN             NaN  \n",
       "--ace--                    NaN             NaN  \n",
       "--ionex--                  NaN             NaN  \n",
       "-2SV-vuLB-Kg               NaN             NaN  \n",
       "-Beave-                    NaN             NaN  "
      ]
     },
     "execution_count": 43,
     "metadata": {},
     "output_type": "execute_result"
    }
   ],
   "source": [
    "it_rev_gam_df = it_rev_gam_df.unstack(0)\n",
    "\n",
    "# Visualizar los primeros resultados.\n",
    "it_rev_gam_df.head()"
   ]
  },
  {
   "cell_type": "markdown",
   "metadata": {},
   "source": [
    "Procederemos a guardar este dataframe en un .csv para ser consultado por la API."
   ]
  },
  {
   "cell_type": "code",
   "execution_count": 44,
   "metadata": {},
   "outputs": [],
   "source": [
    "it_rev_gam_df.to_csv(\"./Datasets_API/UserForGenre1.csv\")"
   ]
  },
  {
   "cell_type": "markdown",
   "metadata": {},
   "source": [
    "Vamos a usar it_rev_df para responder la segunda pregunta, _cuántas horas jugo por año el usuario obtenido en la primera consulta_. Para ello debemos agrupar por por usuario y por año y sumar las cantidad de horas jugadas."
   ]
  },
  {
   "cell_type": "code",
   "execution_count": 45,
   "metadata": {},
   "outputs": [
    {
     "data": {
      "text/plain": [
       "user_id       review_year\n",
       "--000--       2014            49.15\n",
       "--ace--       2014            21.15\n",
       "--ionex--     2015            14.03\n",
       "-2SV-vuLB-Kg  2014           522.29\n",
       "              2015             3.58\n",
       "Name: playtime_forever, dtype: float64"
      ]
     },
     "execution_count": 45,
     "metadata": {},
     "output_type": "execute_result"
    }
   ],
   "source": [
    "it_rev_df = it_rev_df.groupby([\"user_id\", \"review_year\"]).playtime_forever.sum()\n",
    "\n",
    "# Visualizar los primeros resultados.\n",
    "it_rev_df.head()"
   ]
  },
  {
   "cell_type": "markdown",
   "metadata": {},
   "source": [
    "Usaremos la función __unstack(0)__ para pasar el primer índice de la serie multiindice a columnas."
   ]
  },
  {
   "cell_type": "code",
   "execution_count": 46,
   "metadata": {},
   "outputs": [
    {
     "data": {
      "text/html": [
       "<div>\n",
       "<style scoped>\n",
       "    .dataframe tbody tr th:only-of-type {\n",
       "        vertical-align: middle;\n",
       "    }\n",
       "\n",
       "    .dataframe tbody tr th {\n",
       "        vertical-align: top;\n",
       "    }\n",
       "\n",
       "    .dataframe thead th {\n",
       "        text-align: right;\n",
       "    }\n",
       "</style>\n",
       "<table border=\"1\" class=\"dataframe\">\n",
       "  <thead>\n",
       "    <tr style=\"text-align: right;\">\n",
       "      <th>user_id</th>\n",
       "      <th>--000--</th>\n",
       "      <th>--ace--</th>\n",
       "      <th>--ionex--</th>\n",
       "      <th>-2SV-vuLB-Kg</th>\n",
       "      <th>-Beave-</th>\n",
       "      <th>-GM-Dragon</th>\n",
       "      <th>-Kenny</th>\n",
       "      <th>-Mad-</th>\n",
       "      <th>-PRoSlayeR-</th>\n",
       "      <th>-SEVEN-</th>\n",
       "      <th>...</th>\n",
       "      <th>zuilde</th>\n",
       "      <th>zukuta</th>\n",
       "      <th>zumpo</th>\n",
       "      <th>zunbae</th>\n",
       "      <th>zuzuga2003</th>\n",
       "      <th>zv_odd</th>\n",
       "      <th>zvanik</th>\n",
       "      <th>zynxgameth</th>\n",
       "      <th>zyr0n1c</th>\n",
       "      <th>zzoptimuszz</th>\n",
       "    </tr>\n",
       "    <tr>\n",
       "      <th>review_year</th>\n",
       "      <th></th>\n",
       "      <th></th>\n",
       "      <th></th>\n",
       "      <th></th>\n",
       "      <th></th>\n",
       "      <th></th>\n",
       "      <th></th>\n",
       "      <th></th>\n",
       "      <th></th>\n",
       "      <th></th>\n",
       "      <th></th>\n",
       "      <th></th>\n",
       "      <th></th>\n",
       "      <th></th>\n",
       "      <th></th>\n",
       "      <th></th>\n",
       "      <th></th>\n",
       "      <th></th>\n",
       "      <th></th>\n",
       "      <th></th>\n",
       "      <th></th>\n",
       "    </tr>\n",
       "  </thead>\n",
       "  <tbody>\n",
       "    <tr>\n",
       "      <th>2010</th>\n",
       "      <td>NaN</td>\n",
       "      <td>NaN</td>\n",
       "      <td>NaN</td>\n",
       "      <td>NaN</td>\n",
       "      <td>NaN</td>\n",
       "      <td>NaN</td>\n",
       "      <td>NaN</td>\n",
       "      <td>NaN</td>\n",
       "      <td>NaN</td>\n",
       "      <td>NaN</td>\n",
       "      <td>...</td>\n",
       "      <td>NaN</td>\n",
       "      <td>NaN</td>\n",
       "      <td>NaN</td>\n",
       "      <td>NaN</td>\n",
       "      <td>NaN</td>\n",
       "      <td>NaN</td>\n",
       "      <td>NaN</td>\n",
       "      <td>NaN</td>\n",
       "      <td>NaN</td>\n",
       "      <td>NaN</td>\n",
       "    </tr>\n",
       "    <tr>\n",
       "      <th>2011</th>\n",
       "      <td>NaN</td>\n",
       "      <td>NaN</td>\n",
       "      <td>NaN</td>\n",
       "      <td>NaN</td>\n",
       "      <td>NaN</td>\n",
       "      <td>NaN</td>\n",
       "      <td>NaN</td>\n",
       "      <td>NaN</td>\n",
       "      <td>NaN</td>\n",
       "      <td>NaN</td>\n",
       "      <td>...</td>\n",
       "      <td>NaN</td>\n",
       "      <td>NaN</td>\n",
       "      <td>NaN</td>\n",
       "      <td>NaN</td>\n",
       "      <td>NaN</td>\n",
       "      <td>NaN</td>\n",
       "      <td>NaN</td>\n",
       "      <td>NaN</td>\n",
       "      <td>NaN</td>\n",
       "      <td>NaN</td>\n",
       "    </tr>\n",
       "    <tr>\n",
       "      <th>2012</th>\n",
       "      <td>NaN</td>\n",
       "      <td>NaN</td>\n",
       "      <td>NaN</td>\n",
       "      <td>NaN</td>\n",
       "      <td>NaN</td>\n",
       "      <td>NaN</td>\n",
       "      <td>NaN</td>\n",
       "      <td>NaN</td>\n",
       "      <td>NaN</td>\n",
       "      <td>NaN</td>\n",
       "      <td>...</td>\n",
       "      <td>NaN</td>\n",
       "      <td>NaN</td>\n",
       "      <td>NaN</td>\n",
       "      <td>NaN</td>\n",
       "      <td>NaN</td>\n",
       "      <td>NaN</td>\n",
       "      <td>NaN</td>\n",
       "      <td>NaN</td>\n",
       "      <td>NaN</td>\n",
       "      <td>NaN</td>\n",
       "    </tr>\n",
       "    <tr>\n",
       "      <th>2013</th>\n",
       "      <td>NaN</td>\n",
       "      <td>NaN</td>\n",
       "      <td>NaN</td>\n",
       "      <td>NaN</td>\n",
       "      <td>NaN</td>\n",
       "      <td>NaN</td>\n",
       "      <td>214.03</td>\n",
       "      <td>57.66</td>\n",
       "      <td>NaN</td>\n",
       "      <td>2618.68</td>\n",
       "      <td>...</td>\n",
       "      <td>NaN</td>\n",
       "      <td>NaN</td>\n",
       "      <td>NaN</td>\n",
       "      <td>NaN</td>\n",
       "      <td>NaN</td>\n",
       "      <td>NaN</td>\n",
       "      <td>NaN</td>\n",
       "      <td>64.1</td>\n",
       "      <td>311.28</td>\n",
       "      <td>NaN</td>\n",
       "    </tr>\n",
       "    <tr>\n",
       "      <th>2014</th>\n",
       "      <td>49.15</td>\n",
       "      <td>21.15</td>\n",
       "      <td>NaN</td>\n",
       "      <td>522.29</td>\n",
       "      <td>47.73</td>\n",
       "      <td>38.92</td>\n",
       "      <td>NaN</td>\n",
       "      <td>NaN</td>\n",
       "      <td>NaN</td>\n",
       "      <td>NaN</td>\n",
       "      <td>...</td>\n",
       "      <td>22.52</td>\n",
       "      <td>NaN</td>\n",
       "      <td>1382.68</td>\n",
       "      <td>1949.75</td>\n",
       "      <td>704.7</td>\n",
       "      <td>74.78</td>\n",
       "      <td>2.12</td>\n",
       "      <td>NaN</td>\n",
       "      <td>10.72</td>\n",
       "      <td>NaN</td>\n",
       "    </tr>\n",
       "  </tbody>\n",
       "</table>\n",
       "<p>5 rows × 17623 columns</p>\n",
       "</div>"
      ],
      "text/plain": [
       "user_id      --000--  --ace--  --ionex--  -2SV-vuLB-Kg  -Beave-  -GM-Dragon  \\\n",
       "review_year                                                                   \n",
       "2010             NaN      NaN        NaN           NaN      NaN         NaN   \n",
       "2011             NaN      NaN        NaN           NaN      NaN         NaN   \n",
       "2012             NaN      NaN        NaN           NaN      NaN         NaN   \n",
       "2013             NaN      NaN        NaN           NaN      NaN         NaN   \n",
       "2014           49.15    21.15        NaN        522.29    47.73       38.92   \n",
       "\n",
       "user_id      -Kenny  -Mad-  -PRoSlayeR-  -SEVEN-  ...  zuilde  zukuta  \\\n",
       "review_year                                       ...                   \n",
       "2010            NaN    NaN          NaN      NaN  ...     NaN     NaN   \n",
       "2011            NaN    NaN          NaN      NaN  ...     NaN     NaN   \n",
       "2012            NaN    NaN          NaN      NaN  ...     NaN     NaN   \n",
       "2013         214.03  57.66          NaN  2618.68  ...     NaN     NaN   \n",
       "2014            NaN    NaN          NaN      NaN  ...   22.52     NaN   \n",
       "\n",
       "user_id        zumpo   zunbae  zuzuga2003  zv_odd  zvanik  zynxgameth  \\\n",
       "review_year                                                             \n",
       "2010             NaN      NaN         NaN     NaN     NaN         NaN   \n",
       "2011             NaN      NaN         NaN     NaN     NaN         NaN   \n",
       "2012             NaN      NaN         NaN     NaN     NaN         NaN   \n",
       "2013             NaN      NaN         NaN     NaN     NaN        64.1   \n",
       "2014         1382.68  1949.75       704.7   74.78    2.12         NaN   \n",
       "\n",
       "user_id      zyr0n1c  zzoptimuszz  \n",
       "review_year                        \n",
       "2010             NaN          NaN  \n",
       "2011             NaN          NaN  \n",
       "2012             NaN          NaN  \n",
       "2013          311.28          NaN  \n",
       "2014           10.72          NaN  \n",
       "\n",
       "[5 rows x 17623 columns]"
      ]
     },
     "execution_count": 46,
     "metadata": {},
     "output_type": "execute_result"
    }
   ],
   "source": [
    "it_rev_df = it_rev_df.unstack(0)\n",
    "\n",
    "# Visualizar los primeros resultados.\n",
    "it_rev_df.head()"
   ]
  },
  {
   "cell_type": "markdown",
   "metadata": {},
   "source": [
    "Procederemos a guardar este dataframe en un archivo .csv para ser consultado por la API."
   ]
  },
  {
   "cell_type": "code",
   "execution_count": 47,
   "metadata": {},
   "outputs": [],
   "source": [
    "it_rev_df.to_csv(\"./Datasets_API/UserForGenre2.csv\")"
   ]
  },
  {
   "cell_type": "markdown",
   "metadata": {},
   "source": [
    "## UsersRecommend"
   ]
  },
  {
   "cell_type": "markdown",
   "metadata": {},
   "source": [
    "**Consigna:**\n",
    "\n",
    "__def UsersRecommend(año : int):__ Devuelve el top 3 de juegos MÁS recomendados por usuarios para el año dado. (reviews.recommend = True y comentarios positivos/neutrales)\n",
    "\n",
    "Ejemplo de retorno: [{\"Puesto 1\" : X}, {\"Puesto 2\" : Y},{\"Puesto 3\" : Z}]"
   ]
  },
  {
   "cell_type": "markdown",
   "metadata": {},
   "source": [
    "Algunas consideraciones:\n",
    "* Tanto el **año** de la recomendación, el **número de recomendados** y el **análisis de sentimiento** están en \"user_reviews_procesado.csv\".\n",
    "* El nombre del juego está en \"steam_games_procesado.csv\".\n",
    "* Podemos vincular ambos datasets a través de la columna **\"id\"** de \"steam_games_procesado.csv\" y la columna **\"item_id\"** de \"user_reviews_procesado.csv\".\n",
    "* Para determinar los juegos **más recomendados** usaremos como métrica el número de recomendaciones positivas (reviews.recommend == True) y no el análisis sentimiento, ya que el primero es completamente objetivo, mientras que el segundo depende de la libreria y el procesamiento y pueden obtenerse resultados diferentes."
   ]
  },
  {
   "cell_type": "code",
   "execution_count": 48,
   "metadata": {},
   "outputs": [
    {
     "data": {
      "text/html": [
       "<div>\n",
       "<style scoped>\n",
       "    .dataframe tbody tr th:only-of-type {\n",
       "        vertical-align: middle;\n",
       "    }\n",
       "\n",
       "    .dataframe tbody tr th {\n",
       "        vertical-align: top;\n",
       "    }\n",
       "\n",
       "    .dataframe thead th {\n",
       "        text-align: right;\n",
       "    }\n",
       "</style>\n",
       "<table border=\"1\" class=\"dataframe\">\n",
       "  <thead>\n",
       "    <tr style=\"text-align: right;\">\n",
       "      <th></th>\n",
       "      <th>item_id</th>\n",
       "      <th>recommend</th>\n",
       "      <th>review_year</th>\n",
       "    </tr>\n",
       "  </thead>\n",
       "  <tbody>\n",
       "    <tr>\n",
       "      <th>0</th>\n",
       "      <td>1250</td>\n",
       "      <td>True</td>\n",
       "      <td>2011.0</td>\n",
       "    </tr>\n",
       "    <tr>\n",
       "      <th>1</th>\n",
       "      <td>22200</td>\n",
       "      <td>True</td>\n",
       "      <td>2011.0</td>\n",
       "    </tr>\n",
       "    <tr>\n",
       "      <th>2</th>\n",
       "      <td>43110</td>\n",
       "      <td>True</td>\n",
       "      <td>2011.0</td>\n",
       "    </tr>\n",
       "    <tr>\n",
       "      <th>3</th>\n",
       "      <td>251610</td>\n",
       "      <td>True</td>\n",
       "      <td>2014.0</td>\n",
       "    </tr>\n",
       "    <tr>\n",
       "      <th>4</th>\n",
       "      <td>227300</td>\n",
       "      <td>True</td>\n",
       "      <td>2013.0</td>\n",
       "    </tr>\n",
       "  </tbody>\n",
       "</table>\n",
       "</div>"
      ],
      "text/plain": [
       "   item_id  recommend  review_year\n",
       "0     1250       True       2011.0\n",
       "1    22200       True       2011.0\n",
       "2    43110       True       2011.0\n",
       "3   251610       True       2014.0\n",
       "4   227300       True       2013.0"
      ]
     },
     "execution_count": 48,
     "metadata": {},
     "output_type": "execute_result"
    }
   ],
   "source": [
    "# Cargar user_reviews_procesado.csv.\n",
    "reviews_df = pd.read_csv(\"./Datasets/user_reviews_procesado.csv\")\n",
    "\n",
    "# Seleccionar columnas de interés-\n",
    "reviews_df = reviews_df[[\"item_id\", \"recommend\", \"review_year\"]]\n",
    "\n",
    "# Visualizar los primeros resultados.\n",
    "reviews_df.head()"
   ]
  },
  {
   "cell_type": "code",
   "execution_count": 49,
   "metadata": {},
   "outputs": [
    {
     "data": {
      "text/plain": [
       "item_id           0\n",
       "recommend         0\n",
       "review_year    9933\n",
       "dtype: int64"
      ]
     },
     "execution_count": 49,
     "metadata": {},
     "output_type": "execute_result"
    }
   ],
   "source": [
    "# Analizar nulos.\n",
    "reviews_df.isna().sum()"
   ]
  },
  {
   "cell_type": "markdown",
   "metadata": {},
   "source": [
    "Para esta consulta no nos sirven aquellos registros que tengan valores nulos en __year__ por lo que los eliminaremos."
   ]
  },
  {
   "cell_type": "code",
   "execution_count": 50,
   "metadata": {},
   "outputs": [],
   "source": [
    "# Borrar valores nulos.\n",
    "reviews_df.dropna(inplace=True, ignore_index=True)"
   ]
  },
  {
   "cell_type": "markdown",
   "metadata": {},
   "source": [
    "Ahora cargaremos steam_games_procesado.csv y lo uniremos con reviews_df para tener los nombres de los juegos."
   ]
  },
  {
   "cell_type": "code",
   "execution_count": 51,
   "metadata": {},
   "outputs": [
    {
     "data": {
      "text/html": [
       "<div>\n",
       "<style scoped>\n",
       "    .dataframe tbody tr th:only-of-type {\n",
       "        vertical-align: middle;\n",
       "    }\n",
       "\n",
       "    .dataframe tbody tr th {\n",
       "        vertical-align: top;\n",
       "    }\n",
       "\n",
       "    .dataframe thead th {\n",
       "        text-align: right;\n",
       "    }\n",
       "</style>\n",
       "<table border=\"1\" class=\"dataframe\">\n",
       "  <thead>\n",
       "    <tr style=\"text-align: right;\">\n",
       "      <th></th>\n",
       "      <th>id</th>\n",
       "      <th>app_name</th>\n",
       "    </tr>\n",
       "  </thead>\n",
       "  <tbody>\n",
       "    <tr>\n",
       "      <th>0</th>\n",
       "      <td>761140</td>\n",
       "      <td>Lost Summoner Kitty</td>\n",
       "    </tr>\n",
       "    <tr>\n",
       "      <th>1</th>\n",
       "      <td>643980</td>\n",
       "      <td>Ironbound</td>\n",
       "    </tr>\n",
       "    <tr>\n",
       "      <th>2</th>\n",
       "      <td>670290</td>\n",
       "      <td>Real Pool 3D - Poolians</td>\n",
       "    </tr>\n",
       "    <tr>\n",
       "      <th>3</th>\n",
       "      <td>767400</td>\n",
       "      <td>弹炸人2222</td>\n",
       "    </tr>\n",
       "    <tr>\n",
       "      <th>4</th>\n",
       "      <td>773570</td>\n",
       "      <td>Log Challenge</td>\n",
       "    </tr>\n",
       "  </tbody>\n",
       "</table>\n",
       "</div>"
      ],
      "text/plain": [
       "       id                 app_name\n",
       "0  761140      Lost Summoner Kitty\n",
       "1  643980                Ironbound\n",
       "2  670290  Real Pool 3D - Poolians\n",
       "3  767400                  弹炸人2222\n",
       "4  773570            Log Challenge"
      ]
     },
     "execution_count": 51,
     "metadata": {},
     "output_type": "execute_result"
    }
   ],
   "source": [
    "# Cargar steam_games_procesado.csv.\n",
    "games_df = pd.read_csv(\"./Datasets/steam_games_procesado.csv\")\n",
    "\n",
    "# Seleccionar columnas de interés.\n",
    "games_df = games_df[[\"id\", \"app_name\"]]\n",
    "\n",
    "# Visualizar los primeros resultados.\n",
    "games_df.head()"
   ]
  },
  {
   "cell_type": "markdown",
   "metadata": {},
   "source": [
    "Haremos un __inner join__ de games_df y reviews_df."
   ]
  },
  {
   "cell_type": "code",
   "execution_count": 52,
   "metadata": {},
   "outputs": [
    {
     "data": {
      "text/html": [
       "<div>\n",
       "<style scoped>\n",
       "    .dataframe tbody tr th:only-of-type {\n",
       "        vertical-align: middle;\n",
       "    }\n",
       "\n",
       "    .dataframe tbody tr th {\n",
       "        vertical-align: top;\n",
       "    }\n",
       "\n",
       "    .dataframe thead th {\n",
       "        text-align: right;\n",
       "    }\n",
       "</style>\n",
       "<table border=\"1\" class=\"dataframe\">\n",
       "  <thead>\n",
       "    <tr style=\"text-align: right;\">\n",
       "      <th></th>\n",
       "      <th>id</th>\n",
       "      <th>app_name</th>\n",
       "      <th>recommend</th>\n",
       "      <th>review_year</th>\n",
       "    </tr>\n",
       "  </thead>\n",
       "  <tbody>\n",
       "    <tr>\n",
       "      <th>0</th>\n",
       "      <td>70</td>\n",
       "      <td>Half-Life</td>\n",
       "      <td>True</td>\n",
       "      <td>2015.0</td>\n",
       "    </tr>\n",
       "    <tr>\n",
       "      <th>1</th>\n",
       "      <td>70</td>\n",
       "      <td>Half-Life</td>\n",
       "      <td>True</td>\n",
       "      <td>2011.0</td>\n",
       "    </tr>\n",
       "    <tr>\n",
       "      <th>2</th>\n",
       "      <td>70</td>\n",
       "      <td>Half-Life</td>\n",
       "      <td>True</td>\n",
       "      <td>2014.0</td>\n",
       "    </tr>\n",
       "  </tbody>\n",
       "</table>\n",
       "</div>"
      ],
      "text/plain": [
       "   id   app_name  recommend  review_year\n",
       "0  70  Half-Life       True       2015.0\n",
       "1  70  Half-Life       True       2011.0\n",
       "2  70  Half-Life       True       2014.0"
      ]
     },
     "execution_count": 52,
     "metadata": {},
     "output_type": "execute_result"
    }
   ],
   "source": [
    "# Hacer un inner join de ambos dataframes.\n",
    "UsersRecommend_df = games_df.merge(reviews_df, left_on='id', right_on='item_id', \n",
    "                                  how='inner')\n",
    "\n",
    "# Eliminar la columna \"item_id\".\n",
    "UsersRecommend_df.drop(columns=[\"item_id\"], inplace=True)\n",
    "\n",
    "# Visualizar los primeros resultados.\n",
    "UsersRecommend_df.head(3)"
   ]
  },
  {
   "cell_type": "markdown",
   "metadata": {},
   "source": [
    "Usaremos este mismo dataframe para la función UsersNotRecommend (ver próxima sección) por lo que haremos una copia ahora."
   ]
  },
  {
   "cell_type": "code",
   "execution_count": 53,
   "metadata": {},
   "outputs": [],
   "source": [
    "UsersNotRecommend_df = UsersRecommend_df.copy(deep=True)"
   ]
  },
  {
   "cell_type": "markdown",
   "metadata": {},
   "source": [
    "Ahora agruparemos por año y por juego y sumaremos el número de recomendaciones."
   ]
  },
  {
   "cell_type": "code",
   "execution_count": 54,
   "metadata": {},
   "outputs": [
    {
     "data": {
      "text/plain": [
       "review_year  app_name                 \n",
       "2010.0       Alien Swarm                   4\n",
       "             Amnesia: The Dark Descent     2\n",
       "             ArcaniA                       1\n",
       "             AudioSurf                     1\n",
       "             Chime                         1\n",
       "                                          ..\n",
       "2015.0       sZone-Online                  2\n",
       "             the static speaks my name    12\n",
       "             theHunter Classic            13\n",
       "             theHunter: Primal             8\n",
       "             Астролорды: Облако Оорта      1\n",
       "Name: recommend, Length: 4300, dtype: int64"
      ]
     },
     "execution_count": 54,
     "metadata": {},
     "output_type": "execute_result"
    }
   ],
   "source": [
    "UsersRecommend_df = UsersRecommend_df.groupby([\"review_year\", \"app_name\"]).recommend.sum()\n",
    "\n",
    "UsersRecommend_df"
   ]
  },
  {
   "cell_type": "markdown",
   "metadata": {},
   "source": [
    "Debemos volver a agrupar por año para calcular los 3 juegos con más recomendaciones positivas por año usando la función __nlargest()__."
   ]
  },
  {
   "cell_type": "code",
   "execution_count": 55,
   "metadata": {},
   "outputs": [
    {
     "data": {
      "text/plain": [
       "review_year  app_name                        \n",
       "2010.0       Team Fortress 2                       10\n",
       "             Killing Floor                          6\n",
       "             Alien Swarm                            4\n",
       "2011.0       Team Fortress 2                       79\n",
       "             Portal 2                              26\n",
       "             Terraria                              25\n",
       "2012.0       Team Fortress 2                      265\n",
       "             Terraria                              42\n",
       "             Garry's Mod                           38\n",
       "2013.0       Team Fortress 2                      790\n",
       "             Garry's Mod                          340\n",
       "             Dota 2                               253\n",
       "2014.0       Team Fortress 2                     1547\n",
       "             Counter-Strike: Global Offensive    1068\n",
       "             Garry's Mod                          757\n",
       "2015.0       Counter-Strike: Global Offensive    1527\n",
       "             Team Fortress 2                      634\n",
       "             Garry's Mod                          357\n",
       "Name: recommend, dtype: int64"
      ]
     },
     "execution_count": 55,
     "metadata": {},
     "output_type": "execute_result"
    }
   ],
   "source": [
    "# Agrupar por año y encontrar los 3 mayores valores.\n",
    "UsersRecommend_df = UsersRecommend_df.groupby('review_year').nlargest(3)\n",
    "\n",
    "# Eliminar el indice \"review_year\" que se duplica por la nueva agregación.\n",
    "UsersRecommend_df = UsersRecommend_df.droplevel(0)\n",
    "\n",
    "# Visualizar la serie multiindice obtenida.\n",
    "UsersRecommend_df"
   ]
  },
  {
   "cell_type": "markdown",
   "metadata": {},
   "source": [
    "Procederemos a guardar este dataframe en un .csv para ser consultado por la API."
   ]
  },
  {
   "cell_type": "code",
   "execution_count": 56,
   "metadata": {},
   "outputs": [],
   "source": [
    "UsersRecommend_df.to_csv(\"./Datasets_API/UsersRecommend.csv\")"
   ]
  },
  {
   "cell_type": "markdown",
   "metadata": {},
   "source": [
    "## UserNotRecommend"
   ]
  },
  {
   "cell_type": "markdown",
   "metadata": {},
   "source": [
    "**Consigna:**\n",
    "\n",
    "__def UsersNotRecommend(año : int):__ Devuelve el top 3 de juegos MENOS recomendados por usuarios para el año dado. (reviews.recommend = False y comentarios negativos)\n",
    "\n",
    "Ejemplo de retorno: [{\"Puesto 1\" : X}, {\"Puesto 2\" : Y},{\"Puesto 3\" : Z}]"
   ]
  },
  {
   "cell_type": "markdown",
   "metadata": {},
   "source": [
    "Algunas consideraciones:\n",
    "* Trabajaremos con el dataframe UsersNotRecommend_df creado en la sección anterior.\n",
    "* El mismo cuenta con las columnas \"app_name\", \"recommend\" y \"review_year\".\n",
    "* Crearemos la columna \"not_recommend\" que será la negación de la columna \"recommend\". Es decir, cuando \"recommend\" sea False, \"not_recommend\" será True. Esto nos permitirá sumar el total de \"no recomendaciones\" y luego procederemos como en la sección anterior, agrupando por año y por juego y sumando las \"no recomendaciones\"."
   ]
  },
  {
   "cell_type": "code",
   "execution_count": 57,
   "metadata": {},
   "outputs": [
    {
     "data": {
      "text/html": [
       "<div>\n",
       "<style scoped>\n",
       "    .dataframe tbody tr th:only-of-type {\n",
       "        vertical-align: middle;\n",
       "    }\n",
       "\n",
       "    .dataframe tbody tr th {\n",
       "        vertical-align: top;\n",
       "    }\n",
       "\n",
       "    .dataframe thead th {\n",
       "        text-align: right;\n",
       "    }\n",
       "</style>\n",
       "<table border=\"1\" class=\"dataframe\">\n",
       "  <thead>\n",
       "    <tr style=\"text-align: right;\">\n",
       "      <th></th>\n",
       "      <th>id</th>\n",
       "      <th>app_name</th>\n",
       "      <th>recommend</th>\n",
       "      <th>review_year</th>\n",
       "    </tr>\n",
       "  </thead>\n",
       "  <tbody>\n",
       "    <tr>\n",
       "      <th>0</th>\n",
       "      <td>70</td>\n",
       "      <td>Half-Life</td>\n",
       "      <td>True</td>\n",
       "      <td>2015.0</td>\n",
       "    </tr>\n",
       "    <tr>\n",
       "      <th>1</th>\n",
       "      <td>70</td>\n",
       "      <td>Half-Life</td>\n",
       "      <td>True</td>\n",
       "      <td>2011.0</td>\n",
       "    </tr>\n",
       "    <tr>\n",
       "      <th>2</th>\n",
       "      <td>70</td>\n",
       "      <td>Half-Life</td>\n",
       "      <td>True</td>\n",
       "      <td>2014.0</td>\n",
       "    </tr>\n",
       "  </tbody>\n",
       "</table>\n",
       "</div>"
      ],
      "text/plain": [
       "   id   app_name  recommend  review_year\n",
       "0  70  Half-Life       True       2015.0\n",
       "1  70  Half-Life       True       2011.0\n",
       "2  70  Half-Life       True       2014.0"
      ]
     },
     "execution_count": 57,
     "metadata": {},
     "output_type": "execute_result"
    }
   ],
   "source": [
    "# Visualizar los primeros resultados.\n",
    "UsersNotRecommend_df.head(3)"
   ]
  },
  {
   "cell_type": "markdown",
   "metadata": {},
   "source": [
    "Creamos la columna __not_recommend__."
   ]
  },
  {
   "cell_type": "code",
   "execution_count": 58,
   "metadata": {},
   "outputs": [
    {
     "data": {
      "text/html": [
       "<div>\n",
       "<style scoped>\n",
       "    .dataframe tbody tr th:only-of-type {\n",
       "        vertical-align: middle;\n",
       "    }\n",
       "\n",
       "    .dataframe tbody tr th {\n",
       "        vertical-align: top;\n",
       "    }\n",
       "\n",
       "    .dataframe thead th {\n",
       "        text-align: right;\n",
       "    }\n",
       "</style>\n",
       "<table border=\"1\" class=\"dataframe\">\n",
       "  <thead>\n",
       "    <tr style=\"text-align: right;\">\n",
       "      <th></th>\n",
       "      <th>id</th>\n",
       "      <th>app_name</th>\n",
       "      <th>recommend</th>\n",
       "      <th>review_year</th>\n",
       "      <th>not_recommend</th>\n",
       "    </tr>\n",
       "  </thead>\n",
       "  <tbody>\n",
       "    <tr>\n",
       "      <th>10193</th>\n",
       "      <td>570</td>\n",
       "      <td>Dota 2</td>\n",
       "      <td>True</td>\n",
       "      <td>2015.0</td>\n",
       "      <td>False</td>\n",
       "    </tr>\n",
       "    <tr>\n",
       "      <th>23021</th>\n",
       "      <td>261640</td>\n",
       "      <td>Borderlands: The Pre-Sequel</td>\n",
       "      <td>True</td>\n",
       "      <td>2014.0</td>\n",
       "      <td>False</td>\n",
       "    </tr>\n",
       "    <tr>\n",
       "      <th>39307</th>\n",
       "      <td>1250</td>\n",
       "      <td>Killing Floor</td>\n",
       "      <td>True</td>\n",
       "      <td>2014.0</td>\n",
       "      <td>False</td>\n",
       "    </tr>\n",
       "  </tbody>\n",
       "</table>\n",
       "</div>"
      ],
      "text/plain": [
       "           id                     app_name  recommend  review_year  \\\n",
       "10193     570                       Dota 2       True       2015.0   \n",
       "23021  261640  Borderlands: The Pre-Sequel       True       2014.0   \n",
       "39307    1250                Killing Floor       True       2014.0   \n",
       "\n",
       "       not_recommend  \n",
       "10193          False  \n",
       "23021          False  \n",
       "39307          False  "
      ]
     },
     "execution_count": 58,
     "metadata": {},
     "output_type": "execute_result"
    }
   ],
   "source": [
    "UsersNotRecommend_df[\"not_recommend\"] = ~UsersNotRecommend_df[\"recommend\"]\n",
    "\n",
    "# Visualizamos 3 valores de UsersNotRecommend_df\n",
    "UsersNotRecommend_df.sample(3)"
   ]
  },
  {
   "cell_type": "markdown",
   "metadata": {},
   "source": [
    "Ahora eliminaremos la columna __recommend__."
   ]
  },
  {
   "cell_type": "code",
   "execution_count": 59,
   "metadata": {},
   "outputs": [],
   "source": [
    "UsersNotRecommend_df.drop(columns=[\"recommend\"], inplace=True)"
   ]
  },
  {
   "cell_type": "markdown",
   "metadata": {},
   "source": [
    "Ahora agruparemos por año y por juego y sumaremos el número de no recomendaciones."
   ]
  },
  {
   "cell_type": "code",
   "execution_count": 60,
   "metadata": {},
   "outputs": [
    {
     "data": {
      "text/plain": [
       "review_year  app_name                 \n",
       "2010.0       Alien Swarm                   0\n",
       "             Amnesia: The Dark Descent     0\n",
       "             ArcaniA                       0\n",
       "             AudioSurf                     0\n",
       "             Chime                         0\n",
       "                                          ..\n",
       "2015.0       sZone-Online                  1\n",
       "             the static speaks my name     3\n",
       "             theHunter Classic            13\n",
       "             theHunter: Primal             3\n",
       "             Астролорды: Облако Оорта      0\n",
       "Name: not_recommend, Length: 4300, dtype: int64"
      ]
     },
     "execution_count": 60,
     "metadata": {},
     "output_type": "execute_result"
    }
   ],
   "source": [
    "# Crear una serie temporal agrupando por año de review y por nombre de la app\n",
    "# y sumamos la columna not_recommend.\n",
    "temp = UsersNotRecommend_df.groupby([\"review_year\", \"app_name\"])\\\n",
    "                                            .not_recommend.sum()\n",
    "\n",
    "# Visualizar temp.\n",
    "temp"
   ]
  },
  {
   "cell_type": "markdown",
   "metadata": {},
   "source": [
    "Debemos volver a agrupar por año para calcular los 3 juegos con más recomendaciones negativas por año usando la función __nlargest()__."
   ]
  },
  {
   "cell_type": "code",
   "execution_count": 61,
   "metadata": {},
   "outputs": [
    {
     "data": {
      "text/plain": [
       "review_year  app_name                        \n",
       "2010.0       Team Fortress 2                       1\n",
       "             Alien Swarm                           0\n",
       "             Amnesia: The Dark Descent             0\n",
       "2011.0       And Yet It Moves                      2\n",
       "             Team Fortress 2                       2\n",
       "             Counter-Strike: Source                1\n",
       "2012.0       Aliens vs. Predator™                  1\n",
       "             Blacklight: Retribution               1\n",
       "             Call of Duty®: Black Ops II           1\n",
       "2013.0       Call of Duty®: Ghosts                14\n",
       "             Team Fortress 2                      12\n",
       "             Ace of Spades: Battle Builder        10\n",
       "2014.0       DayZ                                 61\n",
       "             Counter-Strike: Global Offensive     54\n",
       "             Dota 2                               42\n",
       "2015.0       PAYDAY 2                            150\n",
       "             Counter-Strike: Global Offensive    129\n",
       "             DayZ                                 72\n",
       "Name: not_recommend, dtype: int64"
      ]
     },
     "execution_count": 61,
     "metadata": {},
     "output_type": "execute_result"
    }
   ],
   "source": [
    "# Agrupar por año y encontrar los 3 mayores valores.\n",
    "temp = temp.groupby('review_year').nlargest(3)\n",
    "\n",
    "# Eliminar el indice \"review_year\" que se duplica por la nueva agregación.\n",
    "temp = temp.droplevel(0)\n",
    "\n",
    "# Visualizar temp.ñ\n",
    "temp"
   ]
  },
  {
   "cell_type": "markdown",
   "metadata": {},
   "source": [
    "Cuando hicimos el ETL, vimos que el número de no recomendados representaba el 11.5%. Esto se evidencia como un problema aquí al elegir los 3 juegos menos recomendados. Por ejemplo, mirando el año 2010, vemos que el primer lugar tiene solo 1 recomendación negativa, mientras que los puestos 2 y 3 no tienen ninguna, y ocupan ese lugar solo por orden alfabético.\n",
    "\n",
    "Será necesario en este caso incorporar otra métrica, como el análisis de sentimiento. Para ello debemos cargar user_reviews_procesado.csv y unirlo a UsersNotRecommend_df."
   ]
  },
  {
   "cell_type": "code",
   "execution_count": 62,
   "metadata": {},
   "outputs": [],
   "source": [
    "del temp # Borrar el dataframe temp para optimizar recursos"
   ]
  },
  {
   "cell_type": "code",
   "execution_count": 63,
   "metadata": {},
   "outputs": [
    {
     "data": {
      "text/html": [
       "<div>\n",
       "<style scoped>\n",
       "    .dataframe tbody tr th:only-of-type {\n",
       "        vertical-align: middle;\n",
       "    }\n",
       "\n",
       "    .dataframe tbody tr th {\n",
       "        vertical-align: top;\n",
       "    }\n",
       "\n",
       "    .dataframe thead th {\n",
       "        text-align: right;\n",
       "    }\n",
       "</style>\n",
       "<table border=\"1\" class=\"dataframe\">\n",
       "  <thead>\n",
       "    <tr style=\"text-align: right;\">\n",
       "      <th></th>\n",
       "      <th>item_id</th>\n",
       "      <th>sentiment_analysis</th>\n",
       "    </tr>\n",
       "  </thead>\n",
       "  <tbody>\n",
       "    <tr>\n",
       "      <th>0</th>\n",
       "      <td>1250</td>\n",
       "      <td>2</td>\n",
       "    </tr>\n",
       "    <tr>\n",
       "      <th>1</th>\n",
       "      <td>22200</td>\n",
       "      <td>2</td>\n",
       "    </tr>\n",
       "    <tr>\n",
       "      <th>2</th>\n",
       "      <td>43110</td>\n",
       "      <td>2</td>\n",
       "    </tr>\n",
       "  </tbody>\n",
       "</table>\n",
       "</div>"
      ],
      "text/plain": [
       "   item_id  sentiment_analysis\n",
       "0     1250                   2\n",
       "1    22200                   2\n",
       "2    43110                   2"
      ]
     },
     "execution_count": 63,
     "metadata": {},
     "output_type": "execute_result"
    }
   ],
   "source": [
    "# Cargar user_reviews_procesado.csv.\n",
    "reviews_df = pd.read_csv(\"./Datasets/user_reviews_procesado.csv\")\n",
    "\n",
    "# Seleccionar columnas de interés.\n",
    "reviews_df = reviews_df[[\"item_id\", \"sentiment_analysis\"]]\n",
    "\n",
    "# Visualizar los primeros resultados.\n",
    "reviews_df.head(3)"
   ]
  },
  {
   "cell_type": "markdown",
   "metadata": {},
   "source": [
    "En sentiment_analysis, 0 representa negativo, 1 neutral y 2 positivo. \n",
    "\n",
    "Dado que __not_recommend__ representa una magnitud negativa, en el sentido de mientras mayor sea not_recommend, menos ha gustado el juego, transformaremos __sentiment_analysis__ para comportarse de manera similar. \n",
    "\n",
    "sentiment_analysis tomará el valor -1 cuando la reseña sea positiva, 0 cuando sea neutral y 1 cuando sea negativa.\n",
    "\n",
    "De esta forma, mayores valores de __not_recommend__ y __sentiment_analysis__ representarán que el juego es menos gustado y recomendado y una combinación de ambas nos permitira obtener un score (__score_not_recommend__) que nos permitirá diferenciar entre juegos con el mismo número de not_recommend."
   ]
  },
  {
   "cell_type": "code",
   "execution_count": 64,
   "metadata": {},
   "outputs": [],
   "source": [
    "# Diccionario de reemplazos\n",
    "reemplazos = {0: 1, 1: 0, 2: -1}\n",
    "\n",
    "reviews_df['sentiment_analysis'] = reviews_df['sentiment_analysis'].replace(reemplazos)"
   ]
  },
  {
   "cell_type": "code",
   "execution_count": 65,
   "metadata": {},
   "outputs": [
    {
     "data": {
      "text/html": [
       "<div>\n",
       "<style scoped>\n",
       "    .dataframe tbody tr th:only-of-type {\n",
       "        vertical-align: middle;\n",
       "    }\n",
       "\n",
       "    .dataframe tbody tr th {\n",
       "        vertical-align: top;\n",
       "    }\n",
       "\n",
       "    .dataframe thead th {\n",
       "        text-align: right;\n",
       "    }\n",
       "</style>\n",
       "<table border=\"1\" class=\"dataframe\">\n",
       "  <thead>\n",
       "    <tr style=\"text-align: right;\">\n",
       "      <th></th>\n",
       "      <th>item_id</th>\n",
       "      <th>sentiment_analysis</th>\n",
       "    </tr>\n",
       "  </thead>\n",
       "  <tbody>\n",
       "    <tr>\n",
       "      <th>0</th>\n",
       "      <td>1250</td>\n",
       "      <td>-1</td>\n",
       "    </tr>\n",
       "    <tr>\n",
       "      <th>1</th>\n",
       "      <td>22200</td>\n",
       "      <td>-1</td>\n",
       "    </tr>\n",
       "    <tr>\n",
       "      <th>2</th>\n",
       "      <td>43110</td>\n",
       "      <td>-1</td>\n",
       "    </tr>\n",
       "  </tbody>\n",
       "</table>\n",
       "</div>"
      ],
      "text/plain": [
       "   item_id  sentiment_analysis\n",
       "0     1250                  -1\n",
       "1    22200                  -1\n",
       "2    43110                  -1"
      ]
     },
     "execution_count": 65,
     "metadata": {},
     "output_type": "execute_result"
    }
   ],
   "source": [
    "# Visualizar los primeros resultados de reviews_df.\n",
    "reviews_df.head(3)"
   ]
  },
  {
   "cell_type": "markdown",
   "metadata": {},
   "source": [
    "Ahora agruparemos por __item_id__ para obtener el promedio de __sentiment_analysis__."
   ]
  },
  {
   "cell_type": "code",
   "execution_count": 66,
   "metadata": {},
   "outputs": [
    {
     "data": {
      "text/plain": [
       "item_id\n",
       "10   -0.392857\n",
       "20   -0.176471\n",
       "30   -0.250000\n",
       "40   -1.000000\n",
       "50   -0.500000\n",
       "Name: sentiment_analysis, dtype: float64"
      ]
     },
     "execution_count": 66,
     "metadata": {},
     "output_type": "execute_result"
    }
   ],
   "source": [
    "reviews_df = reviews_df.groupby(\"item_id\").sentiment_analysis.mean()\n",
    "\n",
    "# Visualizar los primeros resultados.\n",
    "reviews_df.head()"
   ]
  },
  {
   "cell_type": "markdown",
   "metadata": {},
   "source": [
    "Antes de poder unir ambos dataframes, debemos agrupar UserNotRecommend_df por año, por nombre e id de juego y sumar la columna not_recommend."
   ]
  },
  {
   "cell_type": "code",
   "execution_count": 67,
   "metadata": {},
   "outputs": [
    {
     "data": {
      "text/plain": [
       "review_year  app_name                   id    \n",
       "2010.0       Alien Swarm                630        0\n",
       "             Amnesia: The Dark Descent  57300      0\n",
       "             ArcaniA                    39690      0\n",
       "             AudioSurf                  12900      0\n",
       "             Chime                      62100      0\n",
       "                                                  ..\n",
       "2015.0       sZone-Online               316390     1\n",
       "             the static speaks my name  387860     3\n",
       "             theHunter Classic          253710    13\n",
       "             theHunter: Primal          322920     3\n",
       "             Астролорды: Облако Оорта   385530     0\n",
       "Name: not_recommend, Length: 4300, dtype: int64"
      ]
     },
     "execution_count": 67,
     "metadata": {},
     "output_type": "execute_result"
    }
   ],
   "source": [
    "UsersNotRecommend_df = UsersNotRecommend_df.groupby([\"review_year\", \"app_name\", \"id\"])\\\n",
    "                                            .not_recommend.sum()\n",
    "\n",
    "UsersNotRecommend_df"
   ]
  },
  {
   "cell_type": "code",
   "execution_count": 68,
   "metadata": {},
   "outputs": [
    {
     "data": {
      "text/html": [
       "<div>\n",
       "<style scoped>\n",
       "    .dataframe tbody tr th:only-of-type {\n",
       "        vertical-align: middle;\n",
       "    }\n",
       "\n",
       "    .dataframe tbody tr th {\n",
       "        vertical-align: top;\n",
       "    }\n",
       "\n",
       "    .dataframe thead th {\n",
       "        text-align: right;\n",
       "    }\n",
       "</style>\n",
       "<table border=\"1\" class=\"dataframe\">\n",
       "  <thead>\n",
       "    <tr style=\"text-align: right;\">\n",
       "      <th></th>\n",
       "      <th>review_year</th>\n",
       "      <th>app_name</th>\n",
       "      <th>id</th>\n",
       "      <th>not_recommend</th>\n",
       "    </tr>\n",
       "  </thead>\n",
       "  <tbody>\n",
       "    <tr>\n",
       "      <th>0</th>\n",
       "      <td>2010.0</td>\n",
       "      <td>Alien Swarm</td>\n",
       "      <td>630</td>\n",
       "      <td>0</td>\n",
       "    </tr>\n",
       "    <tr>\n",
       "      <th>1</th>\n",
       "      <td>2010.0</td>\n",
       "      <td>Amnesia: The Dark Descent</td>\n",
       "      <td>57300</td>\n",
       "      <td>0</td>\n",
       "    </tr>\n",
       "    <tr>\n",
       "      <th>2</th>\n",
       "      <td>2010.0</td>\n",
       "      <td>ArcaniA</td>\n",
       "      <td>39690</td>\n",
       "      <td>0</td>\n",
       "    </tr>\n",
       "    <tr>\n",
       "      <th>3</th>\n",
       "      <td>2010.0</td>\n",
       "      <td>AudioSurf</td>\n",
       "      <td>12900</td>\n",
       "      <td>0</td>\n",
       "    </tr>\n",
       "    <tr>\n",
       "      <th>4</th>\n",
       "      <td>2010.0</td>\n",
       "      <td>Chime</td>\n",
       "      <td>62100</td>\n",
       "      <td>0</td>\n",
       "    </tr>\n",
       "    <tr>\n",
       "      <th>...</th>\n",
       "      <td>...</td>\n",
       "      <td>...</td>\n",
       "      <td>...</td>\n",
       "      <td>...</td>\n",
       "    </tr>\n",
       "    <tr>\n",
       "      <th>4295</th>\n",
       "      <td>2015.0</td>\n",
       "      <td>sZone-Online</td>\n",
       "      <td>316390</td>\n",
       "      <td>1</td>\n",
       "    </tr>\n",
       "    <tr>\n",
       "      <th>4296</th>\n",
       "      <td>2015.0</td>\n",
       "      <td>the static speaks my name</td>\n",
       "      <td>387860</td>\n",
       "      <td>3</td>\n",
       "    </tr>\n",
       "    <tr>\n",
       "      <th>4297</th>\n",
       "      <td>2015.0</td>\n",
       "      <td>theHunter Classic</td>\n",
       "      <td>253710</td>\n",
       "      <td>13</td>\n",
       "    </tr>\n",
       "    <tr>\n",
       "      <th>4298</th>\n",
       "      <td>2015.0</td>\n",
       "      <td>theHunter: Primal</td>\n",
       "      <td>322920</td>\n",
       "      <td>3</td>\n",
       "    </tr>\n",
       "    <tr>\n",
       "      <th>4299</th>\n",
       "      <td>2015.0</td>\n",
       "      <td>Астролорды: Облако Оорта</td>\n",
       "      <td>385530</td>\n",
       "      <td>0</td>\n",
       "    </tr>\n",
       "  </tbody>\n",
       "</table>\n",
       "<p>4300 rows × 4 columns</p>\n",
       "</div>"
      ],
      "text/plain": [
       "      review_year                   app_name      id  not_recommend\n",
       "0          2010.0                Alien Swarm     630              0\n",
       "1          2010.0  Amnesia: The Dark Descent   57300              0\n",
       "2          2010.0                    ArcaniA   39690              0\n",
       "3          2010.0                  AudioSurf   12900              0\n",
       "4          2010.0                      Chime   62100              0\n",
       "...           ...                        ...     ...            ...\n",
       "4295       2015.0               sZone-Online  316390              1\n",
       "4296       2015.0  the static speaks my name  387860              3\n",
       "4297       2015.0          theHunter Classic  253710             13\n",
       "4298       2015.0          theHunter: Primal  322920              3\n",
       "4299       2015.0   Астролорды: Облако Оорта  385530              0\n",
       "\n",
       "[4300 rows x 4 columns]"
      ]
     },
     "execution_count": 68,
     "metadata": {},
     "output_type": "execute_result"
    }
   ],
   "source": [
    "# Resetear el indice\n",
    "UsersNotRecommend_df = UsersNotRecommend_df.reset_index()\n",
    "\n",
    "UsersNotRecommend_df"
   ]
  },
  {
   "cell_type": "markdown",
   "metadata": {},
   "source": [
    "Ahora uniremos UsersNotRecommend_df y reviews_df."
   ]
  },
  {
   "cell_type": "code",
   "execution_count": 69,
   "metadata": {},
   "outputs": [
    {
     "data": {
      "text/html": [
       "<div>\n",
       "<style scoped>\n",
       "    .dataframe tbody tr th:only-of-type {\n",
       "        vertical-align: middle;\n",
       "    }\n",
       "\n",
       "    .dataframe tbody tr th {\n",
       "        vertical-align: top;\n",
       "    }\n",
       "\n",
       "    .dataframe thead th {\n",
       "        text-align: right;\n",
       "    }\n",
       "</style>\n",
       "<table border=\"1\" class=\"dataframe\">\n",
       "  <thead>\n",
       "    <tr style=\"text-align: right;\">\n",
       "      <th></th>\n",
       "      <th>review_year</th>\n",
       "      <th>app_name</th>\n",
       "      <th>id</th>\n",
       "      <th>not_recommend</th>\n",
       "      <th>sentiment_analysis</th>\n",
       "    </tr>\n",
       "  </thead>\n",
       "  <tbody>\n",
       "    <tr>\n",
       "      <th>0</th>\n",
       "      <td>2010.0</td>\n",
       "      <td>Alien Swarm</td>\n",
       "      <td>630</td>\n",
       "      <td>0</td>\n",
       "      <td>-0.5</td>\n",
       "    </tr>\n",
       "    <tr>\n",
       "      <th>1</th>\n",
       "      <td>2011.0</td>\n",
       "      <td>Alien Swarm</td>\n",
       "      <td>630</td>\n",
       "      <td>0</td>\n",
       "      <td>-0.5</td>\n",
       "    </tr>\n",
       "    <tr>\n",
       "      <th>2</th>\n",
       "      <td>2012.0</td>\n",
       "      <td>Alien Swarm</td>\n",
       "      <td>630</td>\n",
       "      <td>0</td>\n",
       "      <td>-0.5</td>\n",
       "    </tr>\n",
       "    <tr>\n",
       "      <th>3</th>\n",
       "      <td>2013.0</td>\n",
       "      <td>Alien Swarm</td>\n",
       "      <td>630</td>\n",
       "      <td>0</td>\n",
       "      <td>-0.5</td>\n",
       "    </tr>\n",
       "    <tr>\n",
       "      <th>4</th>\n",
       "      <td>2014.0</td>\n",
       "      <td>Alien Swarm</td>\n",
       "      <td>630</td>\n",
       "      <td>2</td>\n",
       "      <td>-0.5</td>\n",
       "    </tr>\n",
       "  </tbody>\n",
       "</table>\n",
       "</div>"
      ],
      "text/plain": [
       "   review_year     app_name   id  not_recommend  sentiment_analysis\n",
       "0       2010.0  Alien Swarm  630              0                -0.5\n",
       "1       2011.0  Alien Swarm  630              0                -0.5\n",
       "2       2012.0  Alien Swarm  630              0                -0.5\n",
       "3       2013.0  Alien Swarm  630              0                -0.5\n",
       "4       2014.0  Alien Swarm  630              2                -0.5"
      ]
     },
     "execution_count": 69,
     "metadata": {},
     "output_type": "execute_result"
    }
   ],
   "source": [
    "UsersNotRecommend_df = UsersNotRecommend_df.merge(reviews_df, left_on=\"id\", \n",
    "                                                  right_on=\"item_id\",\n",
    "                                                  how=\"inner\")\n",
    "\n",
    "# Visualizar los primeros resultados.\n",
    "UsersNotRecommend_df.head()"
   ]
  },
  {
   "cell_type": "markdown",
   "metadata": {},
   "source": [
    "En la tabla anterior tenemos para cada juego y año, el número de recomendaciones negativas y el promedio de análisis de sentimiento. Podemos crear ahora la columna __score_not_recommend__ que será la combinación lineal de las 2 últimas, otorgándoles el mismo peso.\n",
    "\n",
    "Mientras mas alto sea este score, menos recomendados será el juego"
   ]
  },
  {
   "cell_type": "code",
   "execution_count": 70,
   "metadata": {},
   "outputs": [],
   "source": [
    "UsersNotRecommend_df[\"score_not_recommend\"] = UsersNotRecommend_df[\"not_recommend\"]\\\n",
    "+ UsersNotRecommend_df[\"sentiment_analysis\"] "
   ]
  },
  {
   "cell_type": "code",
   "execution_count": 71,
   "metadata": {},
   "outputs": [
    {
     "data": {
      "text/html": [
       "<div>\n",
       "<style scoped>\n",
       "    .dataframe tbody tr th:only-of-type {\n",
       "        vertical-align: middle;\n",
       "    }\n",
       "\n",
       "    .dataframe tbody tr th {\n",
       "        vertical-align: top;\n",
       "    }\n",
       "\n",
       "    .dataframe thead th {\n",
       "        text-align: right;\n",
       "    }\n",
       "</style>\n",
       "<table border=\"1\" class=\"dataframe\">\n",
       "  <thead>\n",
       "    <tr style=\"text-align: right;\">\n",
       "      <th></th>\n",
       "      <th>review_year</th>\n",
       "      <th>app_name</th>\n",
       "      <th>id</th>\n",
       "      <th>not_recommend</th>\n",
       "      <th>sentiment_analysis</th>\n",
       "      <th>score_not_recommend</th>\n",
       "    </tr>\n",
       "  </thead>\n",
       "  <tbody>\n",
       "    <tr>\n",
       "      <th>692</th>\n",
       "      <td>2013.0</td>\n",
       "      <td>Back to the Future: The Game</td>\n",
       "      <td>31290</td>\n",
       "      <td>0</td>\n",
       "      <td>0.0</td>\n",
       "      <td>0.0</td>\n",
       "    </tr>\n",
       "    <tr>\n",
       "      <th>2947</th>\n",
       "      <td>2015.0</td>\n",
       "      <td>STAR WARS™ Empire at War - Gold Pack</td>\n",
       "      <td>32470</td>\n",
       "      <td>0</td>\n",
       "      <td>-0.8</td>\n",
       "      <td>-0.8</td>\n",
       "    </tr>\n",
       "    <tr>\n",
       "      <th>1479</th>\n",
       "      <td>2013.0</td>\n",
       "      <td>Fortix</td>\n",
       "      <td>45400</td>\n",
       "      <td>0</td>\n",
       "      <td>0.0</td>\n",
       "      <td>0.0</td>\n",
       "    </tr>\n",
       "  </tbody>\n",
       "</table>\n",
       "</div>"
      ],
      "text/plain": [
       "      review_year                              app_name     id  not_recommend  \\\n",
       "692        2013.0          Back to the Future: The Game  31290              0   \n",
       "2947       2015.0  STAR WARS™ Empire at War - Gold Pack  32470              0   \n",
       "1479       2013.0                                Fortix  45400              0   \n",
       "\n",
       "      sentiment_analysis  score_not_recommend  \n",
       "692                  0.0                  0.0  \n",
       "2947                -0.8                 -0.8  \n",
       "1479                 0.0                  0.0  "
      ]
     },
     "execution_count": 71,
     "metadata": {},
     "output_type": "execute_result"
    }
   ],
   "source": [
    "# Visualizar algunos resultados para UsersNotRecommend_df.\n",
    "UsersNotRecommend_df.sample(3)"
   ]
  },
  {
   "cell_type": "markdown",
   "metadata": {},
   "source": [
    "A fin de tener mas claridad, eliminaremos las columnas __id__, __not_recommend__ y __sentiment_analysis__."
   ]
  },
  {
   "cell_type": "code",
   "execution_count": 72,
   "metadata": {},
   "outputs": [
    {
     "data": {
      "text/html": [
       "<div>\n",
       "<style scoped>\n",
       "    .dataframe tbody tr th:only-of-type {\n",
       "        vertical-align: middle;\n",
       "    }\n",
       "\n",
       "    .dataframe tbody tr th {\n",
       "        vertical-align: top;\n",
       "    }\n",
       "\n",
       "    .dataframe thead th {\n",
       "        text-align: right;\n",
       "    }\n",
       "</style>\n",
       "<table border=\"1\" class=\"dataframe\">\n",
       "  <thead>\n",
       "    <tr style=\"text-align: right;\">\n",
       "      <th></th>\n",
       "      <th>review_year</th>\n",
       "      <th>app_name</th>\n",
       "      <th>score_not_recommend</th>\n",
       "    </tr>\n",
       "  </thead>\n",
       "  <tbody>\n",
       "    <tr>\n",
       "      <th>0</th>\n",
       "      <td>2010.0</td>\n",
       "      <td>Alien Swarm</td>\n",
       "      <td>-0.5</td>\n",
       "    </tr>\n",
       "    <tr>\n",
       "      <th>1</th>\n",
       "      <td>2011.0</td>\n",
       "      <td>Alien Swarm</td>\n",
       "      <td>-0.5</td>\n",
       "    </tr>\n",
       "    <tr>\n",
       "      <th>2</th>\n",
       "      <td>2012.0</td>\n",
       "      <td>Alien Swarm</td>\n",
       "      <td>-0.5</td>\n",
       "    </tr>\n",
       "    <tr>\n",
       "      <th>3</th>\n",
       "      <td>2013.0</td>\n",
       "      <td>Alien Swarm</td>\n",
       "      <td>-0.5</td>\n",
       "    </tr>\n",
       "    <tr>\n",
       "      <th>4</th>\n",
       "      <td>2014.0</td>\n",
       "      <td>Alien Swarm</td>\n",
       "      <td>1.5</td>\n",
       "    </tr>\n",
       "  </tbody>\n",
       "</table>\n",
       "</div>"
      ],
      "text/plain": [
       "   review_year     app_name  score_not_recommend\n",
       "0       2010.0  Alien Swarm                 -0.5\n",
       "1       2011.0  Alien Swarm                 -0.5\n",
       "2       2012.0  Alien Swarm                 -0.5\n",
       "3       2013.0  Alien Swarm                 -0.5\n",
       "4       2014.0  Alien Swarm                  1.5"
      ]
     },
     "execution_count": 72,
     "metadata": {},
     "output_type": "execute_result"
    }
   ],
   "source": [
    "UsersNotRecommend_df.drop(columns=[\"id\", \"not_recommend\", \"sentiment_analysis\"],\n",
    "                          inplace=True)\n",
    "\n",
    "# Visualizar los primeros resultados.\n",
    "UsersNotRecommend_df.head()"
   ]
  },
  {
   "cell_type": "markdown",
   "metadata": {},
   "source": [
    "Procederemos a guardar este DataFrame en un archivo .csv para ser consultado por la API."
   ]
  },
  {
   "cell_type": "code",
   "execution_count": 73,
   "metadata": {},
   "outputs": [],
   "source": [
    "UsersNotRecommend_df.to_csv(\"./Datasets_API/UsersNotRecommend.csv\", index=False)"
   ]
  },
  {
   "cell_type": "markdown",
   "metadata": {},
   "source": [
    "## sentiment_analysis"
   ]
  },
  {
   "cell_type": "markdown",
   "metadata": {},
   "source": [
    "**Consigna:**\n",
    "\n",
    "__def sentiment_analysis(año : int):__ Según el año de lanzamiento, se devuelve una lista con la cantidad de registros de reseñas de usuarios que se encuentren categorizados con un análisis de sentimiento.\n",
    "\n",
    "Ejemplo de retorno: {Negative = 182, Neutral = 120, Positive = 278}"
   ]
  },
  {
   "cell_type": "markdown",
   "metadata": {},
   "source": [
    "Algunas consideraciones:\n",
    "* El **análisis de sentimientos** está en la columna \"sentiment_analysis\" del dataset \"user_reviews_procesado.csv\".\n",
    "* El **año de lanzamiento** está en la columna \"year\" del dataset \"steam_games_procesado.csv\".\n",
    "* Podemos vincular ambos datasets a través de la columna **\"id\"** de \"steam_games_procesado.csv\" y la columna **\"item_id\"** de \"user_reviews_procesado.csv\"."
   ]
  },
  {
   "cell_type": "markdown",
   "metadata": {},
   "source": [
    "Cargamos el dataset de steam_games."
   ]
  },
  {
   "cell_type": "code",
   "execution_count": 74,
   "metadata": {},
   "outputs": [
    {
     "data": {
      "text/html": [
       "<div>\n",
       "<style scoped>\n",
       "    .dataframe tbody tr th:only-of-type {\n",
       "        vertical-align: middle;\n",
       "    }\n",
       "\n",
       "    .dataframe tbody tr th {\n",
       "        vertical-align: top;\n",
       "    }\n",
       "\n",
       "    .dataframe thead th {\n",
       "        text-align: right;\n",
       "    }\n",
       "</style>\n",
       "<table border=\"1\" class=\"dataframe\">\n",
       "  <thead>\n",
       "    <tr style=\"text-align: right;\">\n",
       "      <th></th>\n",
       "      <th>id</th>\n",
       "      <th>year</th>\n",
       "    </tr>\n",
       "  </thead>\n",
       "  <tbody>\n",
       "    <tr>\n",
       "      <th>0</th>\n",
       "      <td>761140</td>\n",
       "      <td>2018.0</td>\n",
       "    </tr>\n",
       "    <tr>\n",
       "      <th>1</th>\n",
       "      <td>643980</td>\n",
       "      <td>2018.0</td>\n",
       "    </tr>\n",
       "    <tr>\n",
       "      <th>2</th>\n",
       "      <td>670290</td>\n",
       "      <td>2017.0</td>\n",
       "    </tr>\n",
       "    <tr>\n",
       "      <th>3</th>\n",
       "      <td>767400</td>\n",
       "      <td>2017.0</td>\n",
       "    </tr>\n",
       "    <tr>\n",
       "      <th>4</th>\n",
       "      <td>773570</td>\n",
       "      <td>NaN</td>\n",
       "    </tr>\n",
       "  </tbody>\n",
       "</table>\n",
       "</div>"
      ],
      "text/plain": [
       "       id    year\n",
       "0  761140  2018.0\n",
       "1  643980  2018.0\n",
       "2  670290  2017.0\n",
       "3  767400  2017.0\n",
       "4  773570     NaN"
      ]
     },
     "execution_count": 74,
     "metadata": {},
     "output_type": "execute_result"
    }
   ],
   "source": [
    "# Cargar steam_games_procesado.csv.\n",
    "games_df = pd.read_csv(\"./Datasets/steam_games_procesado.csv\")\n",
    "\n",
    "# Seleccionar columnas de interés.\n",
    "games_df = games_df[[\"id\", \"year\"]]\n",
    "\n",
    "# Visualizar los primeros resultados.\n",
    "games_df.head()"
   ]
  },
  {
   "cell_type": "code",
   "execution_count": 75,
   "metadata": {},
   "outputs": [
    {
     "data": {
      "text/plain": [
       "id         0\n",
       "year    2170\n",
       "dtype: int64"
      ]
     },
     "execution_count": 75,
     "metadata": {},
     "output_type": "execute_result"
    }
   ],
   "source": [
    "# Analizar los valores nulos.\n",
    "games_df.isna().sum()"
   ]
  },
  {
   "cell_type": "markdown",
   "metadata": {},
   "source": [
    "Para esta consulta no nos sirven aquellos registros que tengan valores nulos en __year__ por lo que los eliminaremos."
   ]
  },
  {
   "cell_type": "code",
   "execution_count": 76,
   "metadata": {},
   "outputs": [],
   "source": [
    "# Borrar valores nulos.\n",
    "games_df.dropna(subset=[\"year\"], inplace=True, ignore_index=True)\n",
    "\n",
    "# Castear \"year\" a entero.\n",
    "games_df[\"year\"] = games_df[\"year\"].astype(\"int32\")"
   ]
  },
  {
   "cell_type": "code",
   "execution_count": 77,
   "metadata": {},
   "outputs": [
    {
     "name": "stdout",
     "output_type": "stream",
     "text": [
      "<class 'pandas.core.frame.DataFrame'>\n",
      "RangeIndex: 29955 entries, 0 to 29954\n",
      "Data columns (total 2 columns):\n",
      " #   Column  Non-Null Count  Dtype\n",
      "---  ------  --------------  -----\n",
      " 0   id      29955 non-null  int64\n",
      " 1   year    29955 non-null  int32\n",
      "dtypes: int32(1), int64(1)\n",
      "memory usage: 351.2 KB\n"
     ]
    }
   ],
   "source": [
    "# Obtener información de games_df.\n",
    "games_df.info()"
   ]
  },
  {
   "cell_type": "markdown",
   "metadata": {},
   "source": [
    "Cargamos el dataset de user_reviews."
   ]
  },
  {
   "cell_type": "code",
   "execution_count": 78,
   "metadata": {},
   "outputs": [
    {
     "data": {
      "text/html": [
       "<div>\n",
       "<style scoped>\n",
       "    .dataframe tbody tr th:only-of-type {\n",
       "        vertical-align: middle;\n",
       "    }\n",
       "\n",
       "    .dataframe tbody tr th {\n",
       "        vertical-align: top;\n",
       "    }\n",
       "\n",
       "    .dataframe thead th {\n",
       "        text-align: right;\n",
       "    }\n",
       "</style>\n",
       "<table border=\"1\" class=\"dataframe\">\n",
       "  <thead>\n",
       "    <tr style=\"text-align: right;\">\n",
       "      <th></th>\n",
       "      <th>item_id</th>\n",
       "      <th>sentiment_analysis</th>\n",
       "    </tr>\n",
       "  </thead>\n",
       "  <tbody>\n",
       "    <tr>\n",
       "      <th>0</th>\n",
       "      <td>1250</td>\n",
       "      <td>2</td>\n",
       "    </tr>\n",
       "    <tr>\n",
       "      <th>1</th>\n",
       "      <td>22200</td>\n",
       "      <td>2</td>\n",
       "    </tr>\n",
       "    <tr>\n",
       "      <th>2</th>\n",
       "      <td>43110</td>\n",
       "      <td>2</td>\n",
       "    </tr>\n",
       "    <tr>\n",
       "      <th>3</th>\n",
       "      <td>251610</td>\n",
       "      <td>2</td>\n",
       "    </tr>\n",
       "    <tr>\n",
       "      <th>4</th>\n",
       "      <td>227300</td>\n",
       "      <td>0</td>\n",
       "    </tr>\n",
       "  </tbody>\n",
       "</table>\n",
       "</div>"
      ],
      "text/plain": [
       "   item_id  sentiment_analysis\n",
       "0     1250                   2\n",
       "1    22200                   2\n",
       "2    43110                   2\n",
       "3   251610                   2\n",
       "4   227300                   0"
      ]
     },
     "execution_count": 78,
     "metadata": {},
     "output_type": "execute_result"
    }
   ],
   "source": [
    "# Cargar user_reviews_procesado.csv.\n",
    "reviews_df = pd.read_csv(\"./Datasets/user_reviews_procesado.csv\")\n",
    "\n",
    "# Seleccionar columnas de interés.\n",
    "reviews_df = reviews_df[[\"item_id\", \"sentiment_analysis\"]]\n",
    "\n",
    "# Visualizar los primeros resultados.\n",
    "reviews_df.head()"
   ]
  },
  {
   "cell_type": "code",
   "execution_count": 79,
   "metadata": {},
   "outputs": [
    {
     "data": {
      "text/plain": [
       "item_id               0\n",
       "sentiment_analysis    0\n",
       "dtype: int64"
      ]
     },
     "execution_count": 79,
     "metadata": {},
     "output_type": "execute_result"
    }
   ],
   "source": [
    "# Analizar los valores nulos.\n",
    "reviews_df.isna().sum()"
   ]
  },
  {
   "cell_type": "code",
   "execution_count": 80,
   "metadata": {},
   "outputs": [
    {
     "name": "stdout",
     "output_type": "stream",
     "text": [
      "<class 'pandas.core.frame.DataFrame'>\n",
      "RangeIndex: 58431 entries, 0 to 58430\n",
      "Data columns (total 2 columns):\n",
      " #   Column              Non-Null Count  Dtype\n",
      "---  ------              --------------  -----\n",
      " 0   item_id             58431 non-null  int64\n",
      " 1   sentiment_analysis  58431 non-null  int64\n",
      "dtypes: int64(2)\n",
      "memory usage: 913.1 KB\n"
     ]
    }
   ],
   "source": [
    "# Obtener información de reviews_df.\n",
    "reviews_df.info()"
   ]
  },
  {
   "cell_type": "markdown",
   "metadata": {},
   "source": [
    "Para saber cuántos sentimientos negativos (0), neutrales (1) y positivos (2) hay por cada videojuego, tendremos que hacer __one-hot encoding__ en la columna __sentiment_analysis__."
   ]
  },
  {
   "cell_type": "code",
   "execution_count": 81,
   "metadata": {},
   "outputs": [
    {
     "data": {
      "text/html": [
       "<div>\n",
       "<style scoped>\n",
       "    .dataframe tbody tr th:only-of-type {\n",
       "        vertical-align: middle;\n",
       "    }\n",
       "\n",
       "    .dataframe tbody tr th {\n",
       "        vertical-align: top;\n",
       "    }\n",
       "\n",
       "    .dataframe thead th {\n",
       "        text-align: right;\n",
       "    }\n",
       "</style>\n",
       "<table border=\"1\" class=\"dataframe\">\n",
       "  <thead>\n",
       "    <tr style=\"text-align: right;\">\n",
       "      <th></th>\n",
       "      <th>item_id</th>\n",
       "      <th>0</th>\n",
       "      <th>1</th>\n",
       "      <th>2</th>\n",
       "    </tr>\n",
       "  </thead>\n",
       "  <tbody>\n",
       "    <tr>\n",
       "      <th>0</th>\n",
       "      <td>1250</td>\n",
       "      <td>0</td>\n",
       "      <td>0</td>\n",
       "      <td>1</td>\n",
       "    </tr>\n",
       "    <tr>\n",
       "      <th>1</th>\n",
       "      <td>22200</td>\n",
       "      <td>0</td>\n",
       "      <td>0</td>\n",
       "      <td>1</td>\n",
       "    </tr>\n",
       "    <tr>\n",
       "      <th>2</th>\n",
       "      <td>43110</td>\n",
       "      <td>0</td>\n",
       "      <td>0</td>\n",
       "      <td>1</td>\n",
       "    </tr>\n",
       "    <tr>\n",
       "      <th>3</th>\n",
       "      <td>251610</td>\n",
       "      <td>0</td>\n",
       "      <td>0</td>\n",
       "      <td>1</td>\n",
       "    </tr>\n",
       "    <tr>\n",
       "      <th>4</th>\n",
       "      <td>227300</td>\n",
       "      <td>1</td>\n",
       "      <td>0</td>\n",
       "      <td>0</td>\n",
       "    </tr>\n",
       "  </tbody>\n",
       "</table>\n",
       "</div>"
      ],
      "text/plain": [
       "   item_id  0  1  2\n",
       "0     1250  0  0  1\n",
       "1    22200  0  0  1\n",
       "2    43110  0  0  1\n",
       "3   251610  0  0  1\n",
       "4   227300  1  0  0"
      ]
     },
     "execution_count": 81,
     "metadata": {},
     "output_type": "execute_result"
    }
   ],
   "source": [
    "# Crear variables dummies para sentiment_analysis.\n",
    "sentiment_dummies = pd.get_dummies(reviews_df.sentiment_analysis).astype(int)\n",
    "\n",
    "# Concatenar reviews_df con sentiment_dummies.\n",
    "reviews_df = pd.concat([reviews_df, sentiment_dummies], axis = 1)\n",
    "\n",
    "# Eliminar la columna \"sentiment_analysis\".\n",
    "reviews_df.drop(\"sentiment_analysis\", axis=1, inplace=True)\n",
    "\n",
    "# Visualizar los primeros resultados.\n",
    "reviews_df.head()"
   ]
  },
  {
   "cell_type": "markdown",
   "metadata": {},
   "source": [
    "Vamos a agrupar por __item_id__ para saber el número de reseñas para cada juego."
   ]
  },
  {
   "cell_type": "code",
   "execution_count": 82,
   "metadata": {},
   "outputs": [
    {
     "data": {
      "text/html": [
       "<div>\n",
       "<style scoped>\n",
       "    .dataframe tbody tr th:only-of-type {\n",
       "        vertical-align: middle;\n",
       "    }\n",
       "\n",
       "    .dataframe tbody tr th {\n",
       "        vertical-align: top;\n",
       "    }\n",
       "\n",
       "    .dataframe thead th {\n",
       "        text-align: right;\n",
       "    }\n",
       "</style>\n",
       "<table border=\"1\" class=\"dataframe\">\n",
       "  <thead>\n",
       "    <tr style=\"text-align: right;\">\n",
       "      <th></th>\n",
       "      <th>0</th>\n",
       "      <th>1</th>\n",
       "      <th>2</th>\n",
       "    </tr>\n",
       "    <tr>\n",
       "      <th>item_id</th>\n",
       "      <th></th>\n",
       "      <th></th>\n",
       "      <th></th>\n",
       "    </tr>\n",
       "  </thead>\n",
       "  <tbody>\n",
       "    <tr>\n",
       "      <th>10</th>\n",
       "      <td>4</td>\n",
       "      <td>26</td>\n",
       "      <td>26</td>\n",
       "    </tr>\n",
       "    <tr>\n",
       "      <th>20</th>\n",
       "      <td>4</td>\n",
       "      <td>6</td>\n",
       "      <td>7</td>\n",
       "    </tr>\n",
       "    <tr>\n",
       "      <th>30</th>\n",
       "      <td>1</td>\n",
       "      <td>1</td>\n",
       "      <td>2</td>\n",
       "    </tr>\n",
       "  </tbody>\n",
       "</table>\n",
       "</div>"
      ],
      "text/plain": [
       "         0   1   2\n",
       "item_id           \n",
       "10       4  26  26\n",
       "20       4   6   7\n",
       "30       1   1   2"
      ]
     },
     "execution_count": 82,
     "metadata": {},
     "output_type": "execute_result"
    }
   ],
   "source": [
    "reviews_df = reviews_df.groupby(\"item_id\").sum()\n",
    "\n",
    "# Visualizar los primeros resultados.\n",
    "reviews_df.head(3)"
   ]
  },
  {
   "cell_type": "code",
   "execution_count": 83,
   "metadata": {},
   "outputs": [
    {
     "data": {
      "text/html": [
       "<div>\n",
       "<style scoped>\n",
       "    .dataframe tbody tr th:only-of-type {\n",
       "        vertical-align: middle;\n",
       "    }\n",
       "\n",
       "    .dataframe tbody tr th {\n",
       "        vertical-align: top;\n",
       "    }\n",
       "\n",
       "    .dataframe thead th {\n",
       "        text-align: right;\n",
       "    }\n",
       "</style>\n",
       "<table border=\"1\" class=\"dataframe\">\n",
       "  <thead>\n",
       "    <tr style=\"text-align: right;\">\n",
       "      <th></th>\n",
       "      <th>item_id</th>\n",
       "      <th>0</th>\n",
       "      <th>1</th>\n",
       "      <th>2</th>\n",
       "    </tr>\n",
       "  </thead>\n",
       "  <tbody>\n",
       "    <tr>\n",
       "      <th>0</th>\n",
       "      <td>10</td>\n",
       "      <td>4</td>\n",
       "      <td>26</td>\n",
       "      <td>26</td>\n",
       "    </tr>\n",
       "    <tr>\n",
       "      <th>1</th>\n",
       "      <td>20</td>\n",
       "      <td>4</td>\n",
       "      <td>6</td>\n",
       "      <td>7</td>\n",
       "    </tr>\n",
       "    <tr>\n",
       "      <th>2</th>\n",
       "      <td>30</td>\n",
       "      <td>1</td>\n",
       "      <td>1</td>\n",
       "      <td>2</td>\n",
       "    </tr>\n",
       "  </tbody>\n",
       "</table>\n",
       "</div>"
      ],
      "text/plain": [
       "   item_id  0   1   2\n",
       "0       10  4  26  26\n",
       "1       20  4   6   7\n",
       "2       30  1   1   2"
      ]
     },
     "execution_count": 83,
     "metadata": {},
     "output_type": "execute_result"
    }
   ],
   "source": [
    "# Resetear el indice para que \"item_id\" pase a ser una columna.\n",
    "reviews_df.reset_index(inplace=True)\n",
    "\n",
    "# Visualizar los primeros resultados.\n",
    "reviews_df.head(3)"
   ]
  },
  {
   "cell_type": "markdown",
   "metadata": {},
   "source": [
    "Procedemos a hacer un __inner join__ de ambos dataframes."
   ]
  },
  {
   "cell_type": "code",
   "execution_count": 84,
   "metadata": {},
   "outputs": [
    {
     "data": {
      "text/html": [
       "<div>\n",
       "<style scoped>\n",
       "    .dataframe tbody tr th:only-of-type {\n",
       "        vertical-align: middle;\n",
       "    }\n",
       "\n",
       "    .dataframe tbody tr th {\n",
       "        vertical-align: top;\n",
       "    }\n",
       "\n",
       "    .dataframe thead th {\n",
       "        text-align: right;\n",
       "    }\n",
       "</style>\n",
       "<table border=\"1\" class=\"dataframe\">\n",
       "  <thead>\n",
       "    <tr style=\"text-align: right;\">\n",
       "      <th></th>\n",
       "      <th>id</th>\n",
       "      <th>year</th>\n",
       "      <th>item_id</th>\n",
       "      <th>0</th>\n",
       "      <th>1</th>\n",
       "      <th>2</th>\n",
       "    </tr>\n",
       "  </thead>\n",
       "  <tbody>\n",
       "    <tr>\n",
       "      <th>0</th>\n",
       "      <td>282010</td>\n",
       "      <td>1997</td>\n",
       "      <td>282010</td>\n",
       "      <td>0</td>\n",
       "      <td>1</td>\n",
       "      <td>0</td>\n",
       "    </tr>\n",
       "    <tr>\n",
       "      <th>1</th>\n",
       "      <td>70</td>\n",
       "      <td>1998</td>\n",
       "      <td>70</td>\n",
       "      <td>15</td>\n",
       "      <td>12</td>\n",
       "      <td>34</td>\n",
       "    </tr>\n",
       "    <tr>\n",
       "      <th>2</th>\n",
       "      <td>2400</td>\n",
       "      <td>2006</td>\n",
       "      <td>2400</td>\n",
       "      <td>6</td>\n",
       "      <td>5</td>\n",
       "      <td>12</td>\n",
       "    </tr>\n",
       "  </tbody>\n",
       "</table>\n",
       "</div>"
      ],
      "text/plain": [
       "       id  year  item_id   0   1   2\n",
       "0  282010  1997   282010   0   1   0\n",
       "1      70  1998       70  15  12  34\n",
       "2    2400  2006     2400   6   5  12"
      ]
     },
     "execution_count": 84,
     "metadata": {},
     "output_type": "execute_result"
    }
   ],
   "source": [
    "sentiment_analysis_df = games_df.merge(reviews_df, left_on='id', right_on='item_id', \n",
    "                                  how='inner')\n",
    "\n",
    "# Visualizar los primeros resultados.\n",
    "sentiment_analysis_df.head(3)"
   ]
  },
  {
   "cell_type": "markdown",
   "metadata": {},
   "source": [
    "Podemos eliminar las columnas __id__ e __item_id__."
   ]
  },
  {
   "cell_type": "code",
   "execution_count": 85,
   "metadata": {},
   "outputs": [],
   "source": [
    "sentiment_analysis_df.drop([\"id\", \"item_id\"], axis=1, inplace=True)"
   ]
  },
  {
   "cell_type": "markdown",
   "metadata": {},
   "source": [
    "Ahora agruparemos por año y sumaremos el análisis de sentimientos de cada tipo."
   ]
  },
  {
   "cell_type": "code",
   "execution_count": 86,
   "metadata": {},
   "outputs": [
    {
     "data": {
      "text/html": [
       "<div>\n",
       "<style scoped>\n",
       "    .dataframe tbody tr th:only-of-type {\n",
       "        vertical-align: middle;\n",
       "    }\n",
       "\n",
       "    .dataframe tbody tr th {\n",
       "        vertical-align: top;\n",
       "    }\n",
       "\n",
       "    .dataframe thead th {\n",
       "        text-align: right;\n",
       "    }\n",
       "</style>\n",
       "<table border=\"1\" class=\"dataframe\">\n",
       "  <thead>\n",
       "    <tr style=\"text-align: right;\">\n",
       "      <th></th>\n",
       "      <th>0</th>\n",
       "      <th>1</th>\n",
       "      <th>2</th>\n",
       "    </tr>\n",
       "    <tr>\n",
       "      <th>year</th>\n",
       "      <th></th>\n",
       "      <th></th>\n",
       "      <th></th>\n",
       "    </tr>\n",
       "  </thead>\n",
       "  <tbody>\n",
       "    <tr>\n",
       "      <th>1989</th>\n",
       "      <td>0</td>\n",
       "      <td>0</td>\n",
       "      <td>1</td>\n",
       "    </tr>\n",
       "    <tr>\n",
       "      <th>1990</th>\n",
       "      <td>1</td>\n",
       "      <td>0</td>\n",
       "      <td>4</td>\n",
       "    </tr>\n",
       "    <tr>\n",
       "      <th>1991</th>\n",
       "      <td>0</td>\n",
       "      <td>0</td>\n",
       "      <td>1</td>\n",
       "    </tr>\n",
       "  </tbody>\n",
       "</table>\n",
       "</div>"
      ],
      "text/plain": [
       "      0  1  2\n",
       "year         \n",
       "1989  0  0  1\n",
       "1990  1  0  4\n",
       "1991  0  0  1"
      ]
     },
     "execution_count": 86,
     "metadata": {},
     "output_type": "execute_result"
    }
   ],
   "source": [
    "sentiment_analysis_df = sentiment_analysis_df.groupby(\"year\").sum()\n",
    "\n",
    "# Visualizar los primeros resultados.\n",
    "sentiment_analysis_df.head(3)"
   ]
  },
  {
   "cell_type": "markdown",
   "metadata": {},
   "source": [
    "Procederemos a guardar este dataframe en un archivo .csv para ser consultado por la API."
   ]
  },
  {
   "cell_type": "code",
   "execution_count": 87,
   "metadata": {},
   "outputs": [],
   "source": [
    "sentiment_analysis_df.to_csv(\"./Datasets_API/sentiment_analysis.csv\")"
   ]
  }
 ],
 "metadata": {
  "kernelspec": {
   "display_name": "PI-01-env",
   "language": "python",
   "name": "python3"
  },
  "language_info": {
   "codemirror_mode": {
    "name": "ipython",
    "version": 3
   },
   "file_extension": ".py",
   "mimetype": "text/x-python",
   "name": "python",
   "nbconvert_exporter": "python",
   "pygments_lexer": "ipython3",
   "version": "3.9.16"
  }
 },
 "nbformat": 4,
 "nbformat_minor": 2
}
