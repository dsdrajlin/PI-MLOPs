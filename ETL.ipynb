{
 "cells": [
  {
   "cell_type": "markdown",
   "metadata": {},
   "source": [
    "# ETL"
   ]
  },
  {
   "cell_type": "markdown",
   "metadata": {},
   "source": [
    "En este primer notebook se realizará el ETL de los datasets y un primera exploración de los datos"
   ]
  },
  {
   "cell_type": "markdown",
   "metadata": {},
   "source": [
    "## steam_games"
   ]
  },
  {
   "cell_type": "markdown",
   "metadata": {},
   "source": [
    "Este Dataset contiene información sobre los videojuegos. Se puede saber mas sobre sus atributos en el `Diccionario de Datos STEAM`."
   ]
  },
  {
   "cell_type": "code",
   "execution_count": 1,
   "metadata": {},
   "outputs": [],
   "source": [
    "import pandas as pd\n",
    "import numpy as np\n",
    "import gzip\n",
    "import json\n",
    "import ast\n",
    "import matplotlib.pyplot as plt\n",
    "import seaborn as sns\n",
    "sns.set()"
   ]
  },
  {
   "cell_type": "code",
   "execution_count": 2,
   "metadata": {},
   "outputs": [],
   "source": [
    "# Extraer los datos a partir del archivo JSON comprimido con gzip.\n",
    "\n",
    "file_path = \"./Datasets/steam_games.json.gz\"\n",
    "\n",
    "data_list = []  # Lista para almacenar los objetos JSON\n",
    "\n",
    "# Se requiere este metodo porque el archivo contiene datos anidados.\n",
    "with gzip.open(file_path, 'rt', encoding='utf-8') as f:\n",
    "    for line in f:\n",
    "        try:\n",
    "            obj = json.loads(line)\n",
    "            data_list.append(obj)\n",
    "        except json.JSONDecodeError:\n",
    "            print(f\"Error al cargar línea: {line}\")"
   ]
  },
  {
   "cell_type": "code",
   "execution_count": 3,
   "metadata": {},
   "outputs": [
    {
     "data": {
      "text/html": [
       "<div>\n",
       "<style scoped>\n",
       "    .dataframe tbody tr th:only-of-type {\n",
       "        vertical-align: middle;\n",
       "    }\n",
       "\n",
       "    .dataframe tbody tr th {\n",
       "        vertical-align: top;\n",
       "    }\n",
       "\n",
       "    .dataframe thead th {\n",
       "        text-align: right;\n",
       "    }\n",
       "</style>\n",
       "<table border=\"1\" class=\"dataframe\">\n",
       "  <thead>\n",
       "    <tr style=\"text-align: right;\">\n",
       "      <th></th>\n",
       "      <th>publisher</th>\n",
       "      <th>genres</th>\n",
       "      <th>app_name</th>\n",
       "      <th>title</th>\n",
       "      <th>url</th>\n",
       "      <th>release_date</th>\n",
       "      <th>tags</th>\n",
       "      <th>reviews_url</th>\n",
       "      <th>specs</th>\n",
       "      <th>price</th>\n",
       "      <th>early_access</th>\n",
       "      <th>id</th>\n",
       "      <th>developer</th>\n",
       "    </tr>\n",
       "  </thead>\n",
       "  <tbody>\n",
       "    <tr>\n",
       "      <th>0</th>\n",
       "      <td>NaN</td>\n",
       "      <td>NaN</td>\n",
       "      <td>NaN</td>\n",
       "      <td>NaN</td>\n",
       "      <td>NaN</td>\n",
       "      <td>NaN</td>\n",
       "      <td>NaN</td>\n",
       "      <td>NaN</td>\n",
       "      <td>NaN</td>\n",
       "      <td>NaN</td>\n",
       "      <td>NaN</td>\n",
       "      <td>NaN</td>\n",
       "      <td>NaN</td>\n",
       "    </tr>\n",
       "    <tr>\n",
       "      <th>1</th>\n",
       "      <td>NaN</td>\n",
       "      <td>NaN</td>\n",
       "      <td>NaN</td>\n",
       "      <td>NaN</td>\n",
       "      <td>NaN</td>\n",
       "      <td>NaN</td>\n",
       "      <td>NaN</td>\n",
       "      <td>NaN</td>\n",
       "      <td>NaN</td>\n",
       "      <td>NaN</td>\n",
       "      <td>NaN</td>\n",
       "      <td>NaN</td>\n",
       "      <td>NaN</td>\n",
       "    </tr>\n",
       "    <tr>\n",
       "      <th>2</th>\n",
       "      <td>NaN</td>\n",
       "      <td>NaN</td>\n",
       "      <td>NaN</td>\n",
       "      <td>NaN</td>\n",
       "      <td>NaN</td>\n",
       "      <td>NaN</td>\n",
       "      <td>NaN</td>\n",
       "      <td>NaN</td>\n",
       "      <td>NaN</td>\n",
       "      <td>NaN</td>\n",
       "      <td>NaN</td>\n",
       "      <td>NaN</td>\n",
       "      <td>NaN</td>\n",
       "    </tr>\n",
       "    <tr>\n",
       "      <th>3</th>\n",
       "      <td>NaN</td>\n",
       "      <td>NaN</td>\n",
       "      <td>NaN</td>\n",
       "      <td>NaN</td>\n",
       "      <td>NaN</td>\n",
       "      <td>NaN</td>\n",
       "      <td>NaN</td>\n",
       "      <td>NaN</td>\n",
       "      <td>NaN</td>\n",
       "      <td>NaN</td>\n",
       "      <td>NaN</td>\n",
       "      <td>NaN</td>\n",
       "      <td>NaN</td>\n",
       "    </tr>\n",
       "    <tr>\n",
       "      <th>4</th>\n",
       "      <td>NaN</td>\n",
       "      <td>NaN</td>\n",
       "      <td>NaN</td>\n",
       "      <td>NaN</td>\n",
       "      <td>NaN</td>\n",
       "      <td>NaN</td>\n",
       "      <td>NaN</td>\n",
       "      <td>NaN</td>\n",
       "      <td>NaN</td>\n",
       "      <td>NaN</td>\n",
       "      <td>NaN</td>\n",
       "      <td>NaN</td>\n",
       "      <td>NaN</td>\n",
       "    </tr>\n",
       "  </tbody>\n",
       "</table>\n",
       "</div>"
      ],
      "text/plain": [
       "  publisher genres app_name title  url release_date tags reviews_url specs  \\\n",
       "0       NaN    NaN      NaN   NaN  NaN          NaN  NaN         NaN   NaN   \n",
       "1       NaN    NaN      NaN   NaN  NaN          NaN  NaN         NaN   NaN   \n",
       "2       NaN    NaN      NaN   NaN  NaN          NaN  NaN         NaN   NaN   \n",
       "3       NaN    NaN      NaN   NaN  NaN          NaN  NaN         NaN   NaN   \n",
       "4       NaN    NaN      NaN   NaN  NaN          NaN  NaN         NaN   NaN   \n",
       "\n",
       "  price early_access   id developer  \n",
       "0   NaN          NaN  NaN       NaN  \n",
       "1   NaN          NaN  NaN       NaN  \n",
       "2   NaN          NaN  NaN       NaN  \n",
       "3   NaN          NaN  NaN       NaN  \n",
       "4   NaN          NaN  NaN       NaN  "
      ]
     },
     "execution_count": 3,
     "metadata": {},
     "output_type": "execute_result"
    }
   ],
   "source": [
    "games_df = pd.DataFrame(data_list)\n",
    "games_df.head()"
   ]
  },
  {
   "cell_type": "code",
   "execution_count": 4,
   "metadata": {},
   "outputs": [
    {
     "name": "stdout",
     "output_type": "stream",
     "text": [
      "El df tiene 120445 filas y 13 columnas.\n"
     ]
    }
   ],
   "source": [
    "print(f\"El df tiene {games_df.shape[0]} filas y {games_df.shape[1]} columnas.\")"
   ]
  },
  {
   "cell_type": "code",
   "execution_count": 5,
   "metadata": {},
   "outputs": [
    {
     "data": {
      "text/plain": [
       "publisher       0.800050\n",
       "genres          0.760455\n",
       "app_name        0.733214\n",
       "title           0.750218\n",
       "url             0.733198\n",
       "release_date    0.750359\n",
       "tags            0.734551\n",
       "reviews_url     0.733214\n",
       "specs           0.738760\n",
       "price           0.744630\n",
       "early_access    0.733198\n",
       "id              0.733214\n",
       "developer       0.760588\n",
       "dtype: float64"
      ]
     },
     "execution_count": 5,
     "metadata": {},
     "output_type": "execute_result"
    }
   ],
   "source": [
    "# Obtener el promedio de nulos en cada columna.\n",
    "games_df.isnull().mean()"
   ]
  },
  {
   "cell_type": "markdown",
   "metadata": {},
   "source": [
    "Se observa que todas las columnas tienen mas de 70% de nulos y en algunas filas todos sus valores son nulos, por lo que se eliminará dichas filas."
   ]
  },
  {
   "cell_type": "code",
   "execution_count": 6,
   "metadata": {},
   "outputs": [],
   "source": [
    "games_df = games_df.dropna(how=\"all\").reset_index(drop=True)"
   ]
  },
  {
   "cell_type": "code",
   "execution_count": 7,
   "metadata": {},
   "outputs": [
    {
     "name": "stdout",
     "output_type": "stream",
     "text": [
      "El df tiene 32135 filas y 13 columnas.\n"
     ]
    }
   ],
   "source": [
    "# Quedaron aprox. 25% de las filas.\n",
    "print(f\"El df tiene {games_df.shape[0]} filas y {games_df.shape[1]} columnas.\")"
   ]
  },
  {
   "cell_type": "code",
   "execution_count": 8,
   "metadata": {},
   "outputs": [
    {
     "data": {
      "text/plain": [
       "publisher       0.250568\n",
       "genres          0.102163\n",
       "app_name        0.000062\n",
       "title           0.063793\n",
       "url             0.000000\n",
       "release_date    0.064322\n",
       "tags            0.005072\n",
       "reviews_url     0.000062\n",
       "specs           0.020850\n",
       "price           0.042850\n",
       "early_access    0.000000\n",
       "id              0.000062\n",
       "developer       0.102661\n",
       "dtype: float64"
      ]
     },
     "execution_count": 8,
     "metadata": {},
     "output_type": "execute_result"
    }
   ],
   "source": [
    "# El promedio de nulos bajó notablemente.\n",
    "games_df.isnull().mean()"
   ]
  },
  {
   "cell_type": "code",
   "execution_count": 9,
   "metadata": {},
   "outputs": [
    {
     "data": {
      "text/html": [
       "<div>\n",
       "<style scoped>\n",
       "    .dataframe tbody tr th:only-of-type {\n",
       "        vertical-align: middle;\n",
       "    }\n",
       "\n",
       "    .dataframe tbody tr th {\n",
       "        vertical-align: top;\n",
       "    }\n",
       "\n",
       "    .dataframe thead th {\n",
       "        text-align: right;\n",
       "    }\n",
       "</style>\n",
       "<table border=\"1\" class=\"dataframe\">\n",
       "  <thead>\n",
       "    <tr style=\"text-align: right;\">\n",
       "      <th></th>\n",
       "      <th>publisher</th>\n",
       "      <th>genres</th>\n",
       "      <th>app_name</th>\n",
       "      <th>title</th>\n",
       "      <th>url</th>\n",
       "      <th>release_date</th>\n",
       "      <th>tags</th>\n",
       "      <th>reviews_url</th>\n",
       "      <th>specs</th>\n",
       "      <th>price</th>\n",
       "      <th>early_access</th>\n",
       "      <th>id</th>\n",
       "      <th>developer</th>\n",
       "    </tr>\n",
       "  </thead>\n",
       "  <tbody>\n",
       "    <tr>\n",
       "      <th>0</th>\n",
       "      <td>Kotoshiro</td>\n",
       "      <td>[Action, Casual, Indie, Simulation, Strategy]</td>\n",
       "      <td>Lost Summoner Kitty</td>\n",
       "      <td>Lost Summoner Kitty</td>\n",
       "      <td>http://store.steampowered.com/app/761140/Lost_...</td>\n",
       "      <td>2018-01-04</td>\n",
       "      <td>[Strategy, Action, Indie, Casual, Simulation]</td>\n",
       "      <td>http://steamcommunity.com/app/761140/reviews/?...</td>\n",
       "      <td>[Single-player]</td>\n",
       "      <td>4.99</td>\n",
       "      <td>False</td>\n",
       "      <td>761140</td>\n",
       "      <td>Kotoshiro</td>\n",
       "    </tr>\n",
       "    <tr>\n",
       "      <th>1</th>\n",
       "      <td>Making Fun, Inc.</td>\n",
       "      <td>[Free to Play, Indie, RPG, Strategy]</td>\n",
       "      <td>Ironbound</td>\n",
       "      <td>Ironbound</td>\n",
       "      <td>http://store.steampowered.com/app/643980/Ironb...</td>\n",
       "      <td>2018-01-04</td>\n",
       "      <td>[Free to Play, Strategy, Indie, RPG, Card Game...</td>\n",
       "      <td>http://steamcommunity.com/app/643980/reviews/?...</td>\n",
       "      <td>[Single-player, Multi-player, Online Multi-Pla...</td>\n",
       "      <td>Free To Play</td>\n",
       "      <td>False</td>\n",
       "      <td>643980</td>\n",
       "      <td>Secret Level SRL</td>\n",
       "    </tr>\n",
       "    <tr>\n",
       "      <th>2</th>\n",
       "      <td>Poolians.com</td>\n",
       "      <td>[Casual, Free to Play, Indie, Simulation, Sports]</td>\n",
       "      <td>Real Pool 3D - Poolians</td>\n",
       "      <td>Real Pool 3D - Poolians</td>\n",
       "      <td>http://store.steampowered.com/app/670290/Real_...</td>\n",
       "      <td>2017-07-24</td>\n",
       "      <td>[Free to Play, Simulation, Sports, Casual, Ind...</td>\n",
       "      <td>http://steamcommunity.com/app/670290/reviews/?...</td>\n",
       "      <td>[Single-player, Multi-player, Online Multi-Pla...</td>\n",
       "      <td>Free to Play</td>\n",
       "      <td>False</td>\n",
       "      <td>670290</td>\n",
       "      <td>Poolians.com</td>\n",
       "    </tr>\n",
       "    <tr>\n",
       "      <th>3</th>\n",
       "      <td>彼岸领域</td>\n",
       "      <td>[Action, Adventure, Casual]</td>\n",
       "      <td>弹炸人2222</td>\n",
       "      <td>弹炸人2222</td>\n",
       "      <td>http://store.steampowered.com/app/767400/2222/</td>\n",
       "      <td>2017-12-07</td>\n",
       "      <td>[Action, Adventure, Casual]</td>\n",
       "      <td>http://steamcommunity.com/app/767400/reviews/?...</td>\n",
       "      <td>[Single-player]</td>\n",
       "      <td>0.99</td>\n",
       "      <td>False</td>\n",
       "      <td>767400</td>\n",
       "      <td>彼岸领域</td>\n",
       "    </tr>\n",
       "    <tr>\n",
       "      <th>4</th>\n",
       "      <td>NaN</td>\n",
       "      <td>NaN</td>\n",
       "      <td>Log Challenge</td>\n",
       "      <td>NaN</td>\n",
       "      <td>http://store.steampowered.com/app/773570/Log_C...</td>\n",
       "      <td>NaN</td>\n",
       "      <td>[Action, Indie, Casual, Sports]</td>\n",
       "      <td>http://steamcommunity.com/app/773570/reviews/?...</td>\n",
       "      <td>[Single-player, Full controller support, HTC V...</td>\n",
       "      <td>2.99</td>\n",
       "      <td>False</td>\n",
       "      <td>773570</td>\n",
       "      <td>NaN</td>\n",
       "    </tr>\n",
       "  </tbody>\n",
       "</table>\n",
       "</div>"
      ],
      "text/plain": [
       "          publisher                                             genres  \\\n",
       "0         Kotoshiro      [Action, Casual, Indie, Simulation, Strategy]   \n",
       "1  Making Fun, Inc.               [Free to Play, Indie, RPG, Strategy]   \n",
       "2      Poolians.com  [Casual, Free to Play, Indie, Simulation, Sports]   \n",
       "3              彼岸领域                        [Action, Adventure, Casual]   \n",
       "4               NaN                                                NaN   \n",
       "\n",
       "                  app_name                    title  \\\n",
       "0      Lost Summoner Kitty      Lost Summoner Kitty   \n",
       "1                Ironbound                Ironbound   \n",
       "2  Real Pool 3D - Poolians  Real Pool 3D - Poolians   \n",
       "3                  弹炸人2222                  弹炸人2222   \n",
       "4            Log Challenge                      NaN   \n",
       "\n",
       "                                                 url release_date  \\\n",
       "0  http://store.steampowered.com/app/761140/Lost_...   2018-01-04   \n",
       "1  http://store.steampowered.com/app/643980/Ironb...   2018-01-04   \n",
       "2  http://store.steampowered.com/app/670290/Real_...   2017-07-24   \n",
       "3     http://store.steampowered.com/app/767400/2222/   2017-12-07   \n",
       "4  http://store.steampowered.com/app/773570/Log_C...          NaN   \n",
       "\n",
       "                                                tags  \\\n",
       "0      [Strategy, Action, Indie, Casual, Simulation]   \n",
       "1  [Free to Play, Strategy, Indie, RPG, Card Game...   \n",
       "2  [Free to Play, Simulation, Sports, Casual, Ind...   \n",
       "3                        [Action, Adventure, Casual]   \n",
       "4                    [Action, Indie, Casual, Sports]   \n",
       "\n",
       "                                         reviews_url  \\\n",
       "0  http://steamcommunity.com/app/761140/reviews/?...   \n",
       "1  http://steamcommunity.com/app/643980/reviews/?...   \n",
       "2  http://steamcommunity.com/app/670290/reviews/?...   \n",
       "3  http://steamcommunity.com/app/767400/reviews/?...   \n",
       "4  http://steamcommunity.com/app/773570/reviews/?...   \n",
       "\n",
       "                                               specs         price  \\\n",
       "0                                    [Single-player]          4.99   \n",
       "1  [Single-player, Multi-player, Online Multi-Pla...  Free To Play   \n",
       "2  [Single-player, Multi-player, Online Multi-Pla...  Free to Play   \n",
       "3                                    [Single-player]          0.99   \n",
       "4  [Single-player, Full controller support, HTC V...          2.99   \n",
       "\n",
       "  early_access      id         developer  \n",
       "0        False  761140         Kotoshiro  \n",
       "1        False  643980  Secret Level SRL  \n",
       "2        False  670290      Poolians.com  \n",
       "3        False  767400              彼岸领域  \n",
       "4        False  773570               NaN  "
      ]
     },
     "execution_count": 9,
     "metadata": {},
     "output_type": "execute_result"
    }
   ],
   "source": [
    "games_df.head()"
   ]
  },
  {
   "cell_type": "code",
   "execution_count": 10,
   "metadata": {},
   "outputs": [
    {
     "name": "stdout",
     "output_type": "stream",
     "text": [
      "<class 'pandas.core.frame.DataFrame'>\n",
      "RangeIndex: 32135 entries, 0 to 32134\n",
      "Data columns (total 13 columns):\n",
      " #   Column        Non-Null Count  Dtype \n",
      "---  ------        --------------  ----- \n",
      " 0   publisher     24083 non-null  object\n",
      " 1   genres        28852 non-null  object\n",
      " 2   app_name      32133 non-null  object\n",
      " 3   title         30085 non-null  object\n",
      " 4   url           32135 non-null  object\n",
      " 5   release_date  30068 non-null  object\n",
      " 6   tags          31972 non-null  object\n",
      " 7   reviews_url   32133 non-null  object\n",
      " 8   specs         31465 non-null  object\n",
      " 9   price         30758 non-null  object\n",
      " 10  early_access  32135 non-null  object\n",
      " 11  id            32133 non-null  object\n",
      " 12  developer     28836 non-null  object\n",
      "dtypes: object(13)\n",
      "memory usage: 3.2+ MB\n"
     ]
    }
   ],
   "source": [
    "games_df.info()"
   ]
  },
  {
   "cell_type": "markdown",
   "metadata": {},
   "source": [
    "Se seleccionarán solo algunas columnas, que sean útiles para el EDA."
   ]
  },
  {
   "cell_type": "code",
   "execution_count": 11,
   "metadata": {},
   "outputs": [
    {
     "data": {
      "text/html": [
       "<div>\n",
       "<style scoped>\n",
       "    .dataframe tbody tr th:only-of-type {\n",
       "        vertical-align: middle;\n",
       "    }\n",
       "\n",
       "    .dataframe tbody tr th {\n",
       "        vertical-align: top;\n",
       "    }\n",
       "\n",
       "    .dataframe thead th {\n",
       "        text-align: right;\n",
       "    }\n",
       "</style>\n",
       "<table border=\"1\" class=\"dataframe\">\n",
       "  <thead>\n",
       "    <tr style=\"text-align: right;\">\n",
       "      <th></th>\n",
       "      <th>id</th>\n",
       "      <th>app_name</th>\n",
       "      <th>title</th>\n",
       "      <th>url</th>\n",
       "      <th>release_date</th>\n",
       "      <th>genres</th>\n",
       "      <th>tags</th>\n",
       "      <th>specs</th>\n",
       "    </tr>\n",
       "  </thead>\n",
       "  <tbody>\n",
       "    <tr>\n",
       "      <th>0</th>\n",
       "      <td>761140</td>\n",
       "      <td>Lost Summoner Kitty</td>\n",
       "      <td>Lost Summoner Kitty</td>\n",
       "      <td>http://store.steampowered.com/app/761140/Lost_...</td>\n",
       "      <td>2018-01-04</td>\n",
       "      <td>[Action, Casual, Indie, Simulation, Strategy]</td>\n",
       "      <td>[Strategy, Action, Indie, Casual, Simulation]</td>\n",
       "      <td>[Single-player]</td>\n",
       "    </tr>\n",
       "    <tr>\n",
       "      <th>1</th>\n",
       "      <td>643980</td>\n",
       "      <td>Ironbound</td>\n",
       "      <td>Ironbound</td>\n",
       "      <td>http://store.steampowered.com/app/643980/Ironb...</td>\n",
       "      <td>2018-01-04</td>\n",
       "      <td>[Free to Play, Indie, RPG, Strategy]</td>\n",
       "      <td>[Free to Play, Strategy, Indie, RPG, Card Game...</td>\n",
       "      <td>[Single-player, Multi-player, Online Multi-Pla...</td>\n",
       "    </tr>\n",
       "    <tr>\n",
       "      <th>2</th>\n",
       "      <td>670290</td>\n",
       "      <td>Real Pool 3D - Poolians</td>\n",
       "      <td>Real Pool 3D - Poolians</td>\n",
       "      <td>http://store.steampowered.com/app/670290/Real_...</td>\n",
       "      <td>2017-07-24</td>\n",
       "      <td>[Casual, Free to Play, Indie, Simulation, Sports]</td>\n",
       "      <td>[Free to Play, Simulation, Sports, Casual, Ind...</td>\n",
       "      <td>[Single-player, Multi-player, Online Multi-Pla...</td>\n",
       "    </tr>\n",
       "  </tbody>\n",
       "</table>\n",
       "</div>"
      ],
      "text/plain": [
       "       id                 app_name                    title  \\\n",
       "0  761140      Lost Summoner Kitty      Lost Summoner Kitty   \n",
       "1  643980                Ironbound                Ironbound   \n",
       "2  670290  Real Pool 3D - Poolians  Real Pool 3D - Poolians   \n",
       "\n",
       "                                                 url release_date  \\\n",
       "0  http://store.steampowered.com/app/761140/Lost_...   2018-01-04   \n",
       "1  http://store.steampowered.com/app/643980/Ironb...   2018-01-04   \n",
       "2  http://store.steampowered.com/app/670290/Real_...   2017-07-24   \n",
       "\n",
       "                                              genres  \\\n",
       "0      [Action, Casual, Indie, Simulation, Strategy]   \n",
       "1               [Free to Play, Indie, RPG, Strategy]   \n",
       "2  [Casual, Free to Play, Indie, Simulation, Sports]   \n",
       "\n",
       "                                                tags  \\\n",
       "0      [Strategy, Action, Indie, Casual, Simulation]   \n",
       "1  [Free to Play, Strategy, Indie, RPG, Card Game...   \n",
       "2  [Free to Play, Simulation, Sports, Casual, Ind...   \n",
       "\n",
       "                                               specs  \n",
       "0                                    [Single-player]  \n",
       "1  [Single-player, Multi-player, Online Multi-Pla...  \n",
       "2  [Single-player, Multi-player, Online Multi-Pla...  "
      ]
     },
     "execution_count": 11,
     "metadata": {},
     "output_type": "execute_result"
    }
   ],
   "source": [
    "columnas_seleccionadas = [\"id\", \"app_name\", \"title\", \"url\", \"release_date\", \n",
    "                          \"genres\", \"tags\", \"specs\"]\n",
    "\n",
    "games_df = games_df[columnas_seleccionadas]\n",
    "games_df.head(3)"
   ]
  },
  {
   "cell_type": "markdown",
   "metadata": {},
   "source": [
    "Vamos a empezar la exploración univariable."
   ]
  },
  {
   "cell_type": "markdown",
   "metadata": {},
   "source": [
    "### id"
   ]
  },
  {
   "cell_type": "code",
   "execution_count": 12,
   "metadata": {},
   "outputs": [
    {
     "data": {
      "text/plain": [
       "2"
      ]
     },
     "execution_count": 12,
     "metadata": {},
     "output_type": "execute_result"
    }
   ],
   "source": [
    "# El Dataframe tiene 32135 filas\n",
    "games_df.id.isna().sum()"
   ]
  },
  {
   "cell_type": "markdown",
   "metadata": {},
   "source": [
    "Hay 2 valores nulos, vamos a explorarlos."
   ]
  },
  {
   "cell_type": "code",
   "execution_count": 13,
   "metadata": {},
   "outputs": [
    {
     "data": {
      "text/html": [
       "<div>\n",
       "<style scoped>\n",
       "    .dataframe tbody tr th:only-of-type {\n",
       "        vertical-align: middle;\n",
       "    }\n",
       "\n",
       "    .dataframe tbody tr th {\n",
       "        vertical-align: top;\n",
       "    }\n",
       "\n",
       "    .dataframe thead th {\n",
       "        text-align: right;\n",
       "    }\n",
       "</style>\n",
       "<table border=\"1\" class=\"dataframe\">\n",
       "  <thead>\n",
       "    <tr style=\"text-align: right;\">\n",
       "      <th></th>\n",
       "      <th>id</th>\n",
       "      <th>app_name</th>\n",
       "      <th>title</th>\n",
       "      <th>url</th>\n",
       "      <th>release_date</th>\n",
       "      <th>genres</th>\n",
       "      <th>tags</th>\n",
       "      <th>specs</th>\n",
       "    </tr>\n",
       "  </thead>\n",
       "  <tbody>\n",
       "    <tr>\n",
       "      <th>74</th>\n",
       "      <td>NaN</td>\n",
       "      <td>NaN</td>\n",
       "      <td>NaN</td>\n",
       "      <td>http://store.steampowered.com/</td>\n",
       "      <td>NaN</td>\n",
       "      <td>NaN</td>\n",
       "      <td>NaN</td>\n",
       "      <td>NaN</td>\n",
       "    </tr>\n",
       "    <tr>\n",
       "      <th>30961</th>\n",
       "      <td>NaN</td>\n",
       "      <td>Batman: Arkham City - Game of the Year Edition</td>\n",
       "      <td>Batman: Arkham City - Game of the Year Edition</td>\n",
       "      <td>http://store.steampowered.com/app/200260</td>\n",
       "      <td>2012-09-07</td>\n",
       "      <td>[Action, Adventure]</td>\n",
       "      <td>[Action, Open World, Batman, Adventure, Stealt...</td>\n",
       "      <td>[Single-player, Steam Achievements, Steam Trad...</td>\n",
       "    </tr>\n",
       "  </tbody>\n",
       "</table>\n",
       "</div>"
      ],
      "text/plain": [
       "        id                                        app_name  \\\n",
       "74     NaN                                             NaN   \n",
       "30961  NaN  Batman: Arkham City - Game of the Year Edition   \n",
       "\n",
       "                                                title  \\\n",
       "74                                                NaN   \n",
       "30961  Batman: Arkham City - Game of the Year Edition   \n",
       "\n",
       "                                            url release_date  \\\n",
       "74               http://store.steampowered.com/          NaN   \n",
       "30961  http://store.steampowered.com/app/200260   2012-09-07   \n",
       "\n",
       "                    genres                                               tags  \\\n",
       "74                     NaN                                                NaN   \n",
       "30961  [Action, Adventure]  [Action, Open World, Batman, Adventure, Stealt...   \n",
       "\n",
       "                                                   specs  \n",
       "74                                                   NaN  \n",
       "30961  [Single-player, Steam Achievements, Steam Trad...  "
      ]
     },
     "execution_count": 13,
     "metadata": {},
     "output_type": "execute_result"
    }
   ],
   "source": [
    "games_df[games_df.id.isna()]"
   ]
  },
  {
   "cell_type": "markdown",
   "metadata": {},
   "source": [
    "La primera fila (indice 74) tiene casi todos sus valores vacios por lo que podemos eliminarla con seguridad.\n",
    "\n",
    "La segunda fila (indice 30961) tiene el id nulo, pero podemos ver en el url que debería ser 200260 asique imputaremos este valor. Esto se confirmó en el sitio de Steam."
   ]
  },
  {
   "cell_type": "code",
   "execution_count": 14,
   "metadata": {},
   "outputs": [],
   "source": [
    "games_df.drop(74, axis=0, inplace=True)\n",
    "games_df.loc[30961, \"id\"] = \"200260\"\n",
    "games_df.reset_index(drop=True, inplace=True)"
   ]
  },
  {
   "cell_type": "code",
   "execution_count": 15,
   "metadata": {},
   "outputs": [],
   "source": [
    "games_df.id.duplicated().sum() # Hay 2 duplicados que se dropean\n",
    "games_df.drop_duplicates(subset=[\"id\"], inplace=True)\n",
    "games_df.reset_index(drop=True, inplace=True)"
   ]
  },
  {
   "cell_type": "code",
   "execution_count": 16,
   "metadata": {},
   "outputs": [
    {
     "data": {
      "text/plain": [
       "32132"
      ]
     },
     "execution_count": 16,
     "metadata": {},
     "output_type": "execute_result"
    }
   ],
   "source": [
    "# games_df tiene ahora 32132 filas.\n",
    "games_df.id.nunique() \n",
    "\n",
    "# El número de ids únicos coincide con el número de filas por lo que puede\n",
    "# servir como clave primaria y para conectar con otras tablas."
   ]
  },
  {
   "cell_type": "code",
   "execution_count": 17,
   "metadata": {},
   "outputs": [],
   "source": [
    "# Convertir \"id\" a número para ahorrar espacio de almacenamiento. \n",
    "games_df[\"id\"] = games_df[\"id\"].astype(\"int32\")"
   ]
  },
  {
   "cell_type": "markdown",
   "metadata": {},
   "source": [
    "### app_name y title"
   ]
  },
  {
   "cell_type": "markdown",
   "metadata": {},
   "source": [
    "Las columnas `app_name` y `title` se ven bastante similares. Vamos a explorar las diferencias."
   ]
  },
  {
   "cell_type": "code",
   "execution_count": 18,
   "metadata": {},
   "outputs": [
    {
     "data": {
      "text/plain": [
       "2604"
      ]
     },
     "execution_count": 18,
     "metadata": {},
     "output_type": "execute_result"
    }
   ],
   "source": [
    "(games_df[\"app_name\"] != games_df[\"title\"]).sum()"
   ]
  },
  {
   "cell_type": "code",
   "execution_count": 19,
   "metadata": {},
   "outputs": [
    {
     "data": {
      "text/html": [
       "<div>\n",
       "<style scoped>\n",
       "    .dataframe tbody tr th:only-of-type {\n",
       "        vertical-align: middle;\n",
       "    }\n",
       "\n",
       "    .dataframe tbody tr th {\n",
       "        vertical-align: top;\n",
       "    }\n",
       "\n",
       "    .dataframe thead th {\n",
       "        text-align: right;\n",
       "    }\n",
       "</style>\n",
       "<table border=\"1\" class=\"dataframe\">\n",
       "  <thead>\n",
       "    <tr style=\"text-align: right;\">\n",
       "      <th></th>\n",
       "      <th>app_name</th>\n",
       "      <th>title</th>\n",
       "    </tr>\n",
       "  </thead>\n",
       "  <tbody>\n",
       "    <tr>\n",
       "      <th>31818</th>\n",
       "      <td>Sam &amp; Max 205: What&amp;#146;s New Beelzebub?</td>\n",
       "      <td>Sam &amp;amp; Max 205: What&amp;amp;#146;s New Beelzebub?</td>\n",
       "    </tr>\n",
       "    <tr>\n",
       "      <th>19583</th>\n",
       "      <td>Toricky - OST by Hiroki Kikuta &amp; Dale North</td>\n",
       "      <td>Toricky - OST by Hiroki Kikuta &amp;amp; Dale North</td>\n",
       "    </tr>\n",
       "    <tr>\n",
       "      <th>15086</th>\n",
       "      <td>Hanako: Honor &amp; Blade</td>\n",
       "      <td>Hanako: Honor &amp;amp; Blade</td>\n",
       "    </tr>\n",
       "    <tr>\n",
       "      <th>15042</th>\n",
       "      <td>Rocket League® – Fast &amp; Furious™ '99 Nissan Sk...</td>\n",
       "      <td>Rocket League® – Fast &amp;amp; Furious™ '99 Nissa...</td>\n",
       "    </tr>\n",
       "    <tr>\n",
       "      <th>3448</th>\n",
       "      <td>Fantasy Grounds - D&amp;D Warlock Class Pack</td>\n",
       "      <td>Fantasy Grounds - D&amp;amp;D Warlock Class Pack</td>\n",
       "    </tr>\n",
       "    <tr>\n",
       "      <th>31019</th>\n",
       "      <td>Superbrothers: Sword &amp; Sworcery EP</td>\n",
       "      <td>Superbrothers: Sword &amp;amp; Sworcery EP</td>\n",
       "    </tr>\n",
       "    <tr>\n",
       "      <th>10942</th>\n",
       "      <td>Fantasy Grounds - B07: Beauty &amp; Blood (5E)</td>\n",
       "      <td>Fantasy Grounds - B07: Beauty &amp;amp; Blood (5E)</td>\n",
       "    </tr>\n",
       "    <tr>\n",
       "      <th>10839</th>\n",
       "      <td>Slice&amp;Dice</td>\n",
       "      <td>Slice&amp;amp;Dice</td>\n",
       "    </tr>\n",
       "    <tr>\n",
       "      <th>8059</th>\n",
       "      <td>Virtual Battlemap DLC - Castles &amp; Chill</td>\n",
       "      <td>Virtual Battlemap DLC - Castles &amp;amp; Chill</td>\n",
       "    </tr>\n",
       "    <tr>\n",
       "      <th>22495</th>\n",
       "      <td>Short Bob &amp; Golden Short Bob</td>\n",
       "      <td>Short Bob &amp;amp; Golden Short Bob</td>\n",
       "    </tr>\n",
       "  </tbody>\n",
       "</table>\n",
       "</div>"
      ],
      "text/plain": [
       "                                                app_name  \\\n",
       "31818          Sam & Max 205: What&#146;s New Beelzebub?   \n",
       "19583        Toricky - OST by Hiroki Kikuta & Dale North   \n",
       "15086                              Hanako: Honor & Blade   \n",
       "15042  Rocket League® – Fast & Furious™ '99 Nissan Sk...   \n",
       "3448            Fantasy Grounds - D&D Warlock Class Pack   \n",
       "31019                 Superbrothers: Sword & Sworcery EP   \n",
       "10942         Fantasy Grounds - B07: Beauty & Blood (5E)   \n",
       "10839                                         Slice&Dice   \n",
       "8059             Virtual Battlemap DLC - Castles & Chill   \n",
       "22495                       Short Bob & Golden Short Bob   \n",
       "\n",
       "                                                   title  \n",
       "31818  Sam &amp; Max 205: What&amp;#146;s New Beelzebub?  \n",
       "19583    Toricky - OST by Hiroki Kikuta &amp; Dale North  \n",
       "15086                          Hanako: Honor &amp; Blade  \n",
       "15042  Rocket League® – Fast &amp; Furious™ '99 Nissa...  \n",
       "3448        Fantasy Grounds - D&amp;D Warlock Class Pack  \n",
       "31019             Superbrothers: Sword &amp; Sworcery EP  \n",
       "10942     Fantasy Grounds - B07: Beauty &amp; Blood (5E)  \n",
       "10839                                     Slice&amp;Dice  \n",
       "8059         Virtual Battlemap DLC - Castles &amp; Chill  \n",
       "22495                   Short Bob &amp; Golden Short Bob  "
      ]
     },
     "execution_count": 19,
     "metadata": {},
     "output_type": "execute_result"
    }
   ],
   "source": [
    "# Filtrar filas sin nulos en app_name o title.\n",
    "games_df2 = games_df[(games_df.app_name.notna()) & (games_df.title.notna())] \n",
    "\n",
    "# Hacer una mascara cuando app_name sea diferente a title.\n",
    "diferentes = (games_df2[\"app_name\"] != games_df2[\"title\"])\n",
    "\n",
    "# Obtener los indices True de diferentes.\n",
    "indices_true = diferentes.index[diferentes]\n",
    "indices_true\n",
    "\n",
    "# Visualizar los primeros resultados después de aplicar los filtros.\n",
    "games_df2.loc[indices_true, [\"app_name\", \"title\"]].sample(10)"
   ]
  },
  {
   "cell_type": "markdown",
   "metadata": {},
   "source": [
    "Las columnas `app_name` y `title` son casi idénticas. Las mayores diferencias parecer estar en la mala lectura del caracter `&` en `title`, y algunas otras menores, por lo que se eliminará la columna `title`."
   ]
  },
  {
   "cell_type": "code",
   "execution_count": 20,
   "metadata": {},
   "outputs": [],
   "source": [
    "games_df.drop(\"title\", axis=1, inplace=True)"
   ]
  },
  {
   "cell_type": "markdown",
   "metadata": {},
   "source": [
    "Vamos a analizar los valores faltantes en app_name."
   ]
  },
  {
   "cell_type": "code",
   "execution_count": 21,
   "metadata": {},
   "outputs": [
    {
     "data": {
      "text/html": [
       "<div>\n",
       "<style scoped>\n",
       "    .dataframe tbody tr th:only-of-type {\n",
       "        vertical-align: middle;\n",
       "    }\n",
       "\n",
       "    .dataframe tbody tr th {\n",
       "        vertical-align: top;\n",
       "    }\n",
       "\n",
       "    .dataframe thead th {\n",
       "        text-align: right;\n",
       "    }\n",
       "</style>\n",
       "<table border=\"1\" class=\"dataframe\">\n",
       "  <thead>\n",
       "    <tr style=\"text-align: right;\">\n",
       "      <th></th>\n",
       "      <th>id</th>\n",
       "      <th>app_name</th>\n",
       "      <th>url</th>\n",
       "      <th>release_date</th>\n",
       "      <th>genres</th>\n",
       "      <th>tags</th>\n",
       "      <th>specs</th>\n",
       "    </tr>\n",
       "  </thead>\n",
       "  <tbody>\n",
       "    <tr>\n",
       "      <th>2579</th>\n",
       "      <td>317160</td>\n",
       "      <td>NaN</td>\n",
       "      <td>http://store.steampowered.com/app/317160/_/</td>\n",
       "      <td>2014-08-26</td>\n",
       "      <td>[Action, Indie]</td>\n",
       "      <td>[Action, Indie]</td>\n",
       "      <td>[Single-player, Game demo]</td>\n",
       "    </tr>\n",
       "  </tbody>\n",
       "</table>\n",
       "</div>"
      ],
      "text/plain": [
       "          id app_name                                          url  \\\n",
       "2579  317160      NaN  http://store.steampowered.com/app/317160/_/   \n",
       "\n",
       "     release_date           genres             tags  \\\n",
       "2579   2014-08-26  [Action, Indie]  [Action, Indie]   \n",
       "\n",
       "                           specs  \n",
       "2579  [Single-player, Game demo]  "
      ]
     },
     "execution_count": 21,
     "metadata": {},
     "output_type": "execute_result"
    }
   ],
   "source": [
    "games_df.app_name.isna().sum() # 1 valor faltante\n",
    "games_df[games_df.app_name.isna()]"
   ]
  },
  {
   "cell_type": "markdown",
   "metadata": {},
   "source": [
    "A partir del url podemos saber que el `app_name` es \"Duet\" por lo que imputamos ese valor."
   ]
  },
  {
   "cell_type": "code",
   "execution_count": 22,
   "metadata": {},
   "outputs": [],
   "source": [
    "games_df.loc[2579, \"app_name\"] = \"Duet\""
   ]
  },
  {
   "cell_type": "code",
   "execution_count": 23,
   "metadata": {},
   "outputs": [
    {
     "data": {
      "text/html": [
       "<div>\n",
       "<style scoped>\n",
       "    .dataframe tbody tr th:only-of-type {\n",
       "        vertical-align: middle;\n",
       "    }\n",
       "\n",
       "    .dataframe tbody tr th {\n",
       "        vertical-align: top;\n",
       "    }\n",
       "\n",
       "    .dataframe thead th {\n",
       "        text-align: right;\n",
       "    }\n",
       "</style>\n",
       "<table border=\"1\" class=\"dataframe\">\n",
       "  <thead>\n",
       "    <tr style=\"text-align: right;\">\n",
       "      <th></th>\n",
       "      <th>id</th>\n",
       "      <th>app_name</th>\n",
       "      <th>url</th>\n",
       "      <th>release_date</th>\n",
       "      <th>genres</th>\n",
       "      <th>tags</th>\n",
       "      <th>specs</th>\n",
       "    </tr>\n",
       "  </thead>\n",
       "  <tbody>\n",
       "    <tr>\n",
       "      <th>30545</th>\n",
       "      <td>216173</td>\n",
       "      <td>AirMech® Soundtrack</td>\n",
       "      <td>http://store.steampowered.com/app/216173/AirMe...</td>\n",
       "      <td>2012-11-13</td>\n",
       "      <td>[Action, Free to Play, Indie, Strategy]</td>\n",
       "      <td>[Strategy, Action, Free to Play, Indie]</td>\n",
       "      <td>[Single-player, Multi-player, Co-op, Downloada...</td>\n",
       "    </tr>\n",
       "    <tr>\n",
       "      <th>18846</th>\n",
       "      <td>599520</td>\n",
       "      <td>AirMech® Soundtrack</td>\n",
       "      <td>http://store.steampowered.com/app/599520/AirMe...</td>\n",
       "      <td>NaN</td>\n",
       "      <td>NaN</td>\n",
       "      <td>[Strategy, Action, Indie]</td>\n",
       "      <td>[Single-player, Multi-player, Online Multi-Pla...</td>\n",
       "    </tr>\n",
       "    <tr>\n",
       "      <th>30177</th>\n",
       "      <td>219441</td>\n",
       "      <td>Aliens: Colonial Marines - Reconnaissance Pack</td>\n",
       "      <td>http://store.steampowered.com/app/219441/Alien...</td>\n",
       "      <td>2013-05-07</td>\n",
       "      <td>[Action]</td>\n",
       "      <td>[Action]</td>\n",
       "      <td>[Single-player, Multi-player, Co-op, Downloada...</td>\n",
       "    </tr>\n",
       "    <tr>\n",
       "      <th>30176</th>\n",
       "      <td>224850</td>\n",
       "      <td>Aliens: Colonial Marines - Reconnaissance Pack</td>\n",
       "      <td>http://store.steampowered.com/app/224850/Alien...</td>\n",
       "      <td>2013-05-07</td>\n",
       "      <td>[Action]</td>\n",
       "      <td>[Action]</td>\n",
       "      <td>[Single-player, Multi-player, Co-op, Downloada...</td>\n",
       "    </tr>\n",
       "  </tbody>\n",
       "</table>\n",
       "</div>"
      ],
      "text/plain": [
       "           id                                        app_name  \\\n",
       "30545  216173                             AirMech® Soundtrack   \n",
       "18846  599520                             AirMech® Soundtrack   \n",
       "30177  219441  Aliens: Colonial Marines - Reconnaissance Pack   \n",
       "30176  224850  Aliens: Colonial Marines - Reconnaissance Pack   \n",
       "\n",
       "                                                     url release_date  \\\n",
       "30545  http://store.steampowered.com/app/216173/AirMe...   2012-11-13   \n",
       "18846  http://store.steampowered.com/app/599520/AirMe...          NaN   \n",
       "30177  http://store.steampowered.com/app/219441/Alien...   2013-05-07   \n",
       "30176  http://store.steampowered.com/app/224850/Alien...   2013-05-07   \n",
       "\n",
       "                                        genres  \\\n",
       "30545  [Action, Free to Play, Indie, Strategy]   \n",
       "18846                                      NaN   \n",
       "30177                                 [Action]   \n",
       "30176                                 [Action]   \n",
       "\n",
       "                                          tags  \\\n",
       "30545  [Strategy, Action, Free to Play, Indie]   \n",
       "18846                [Strategy, Action, Indie]   \n",
       "30177                                 [Action]   \n",
       "30176                                 [Action]   \n",
       "\n",
       "                                                   specs  \n",
       "30545  [Single-player, Multi-player, Co-op, Downloada...  \n",
       "18846  [Single-player, Multi-player, Online Multi-Pla...  \n",
       "30177  [Single-player, Multi-player, Co-op, Downloada...  \n",
       "30176  [Single-player, Multi-player, Co-op, Downloada...  "
      ]
     },
     "execution_count": 23,
     "metadata": {},
     "output_type": "execute_result"
    }
   ],
   "source": [
    "games_df.app_name.duplicated().sum() # 38 duplicados\n",
    "games_df[games_df['app_name'].duplicated(keep=False)].sort_values(by=\"app_name\").head(4)"
   ]
  },
  {
   "cell_type": "markdown",
   "metadata": {},
   "source": [
    "En el análisis de duplicados en esta columna, se observan 38 duplicados. Sin embargo, analizando los url en la web de Steam, se verifica que son productos distintos con algunas diferencias por lo que se opta por conservar todos los resultados."
   ]
  },
  {
   "cell_type": "markdown",
   "metadata": {},
   "source": [
    "### url"
   ]
  },
  {
   "cell_type": "code",
   "execution_count": 24,
   "metadata": {},
   "outputs": [
    {
     "data": {
      "text/plain": [
       "0"
      ]
     },
     "execution_count": 24,
     "metadata": {},
     "output_type": "execute_result"
    }
   ],
   "source": [
    "games_df.url.isna().sum()"
   ]
  },
  {
   "cell_type": "code",
   "execution_count": 25,
   "metadata": {},
   "outputs": [
    {
     "data": {
      "text/plain": [
       "0"
      ]
     },
     "execution_count": 25,
     "metadata": {},
     "output_type": "execute_result"
    }
   ],
   "source": [
    "games_df.url.duplicated().sum()"
   ]
  },
  {
   "cell_type": "markdown",
   "metadata": {},
   "source": [
    "La columna `url` no contiene valores faltantes ni duplicados por lo que no requiere mayor exploración."
   ]
  },
  {
   "cell_type": "markdown",
   "metadata": {},
   "source": [
    "### release_date"
   ]
  },
  {
   "cell_type": "markdown",
   "metadata": {},
   "source": [
    "La fecha de lanzamiento (`release_date`) debe castearse al formato datetime. Esto se hace con la función `pd.to_datetime` con `errors=raise`.\n",
    "\n",
    "Luego de encontrar varios strings que no pueden ser casteados a fecha, se escribe un bloque try-except para ver cuantos registros tienen problemas, y cuál es el string, para ver si es un problema de formato que pueda ser resuelto con el parámetro `format`."
   ]
  },
  {
   "cell_type": "code",
   "execution_count": 26,
   "metadata": {},
   "outputs": [
    {
     "name": "stdout",
     "output_type": "stream",
     "text": [
      "Unknown datetime string format, unable to parse: Soon.., at position 0\n",
      "Unknown datetime string format, unable to parse: Beta测试已开启, at position 0\n"
     ]
    },
    {
     "name": "stdout",
     "output_type": "stream",
     "text": [
      "Unknown datetime string format, unable to parse: Coming Soon, at position 0\n",
      "Unknown datetime string format, unable to parse: Q2 2017, at position 0\n",
      "Unknown datetime string format, unable to parse: Coming Soon, at position 0\n",
      "Unknown datetime string format, unable to parse: TBA, at position 0\n",
      "Unknown datetime string format, unable to parse: When it's done, at position 0\n",
      "Unknown datetime string format, unable to parse: coming soon, at position 0\n",
      "Unknown datetime string format, unable to parse: Q2 2018, at position 0\n",
      "Unknown datetime string format, unable to parse: TBA, at position 0\n",
      "Unknown datetime string format, unable to parse: Winter 2017, at position 0\n",
      "Unknown datetime string format, unable to parse: soon, at position 0\n",
      "Out of bounds nanosecond timestamp: 14 July, at position 0\n",
      "Unknown datetime string format, unable to parse: Summer 2017, at position 0\n",
      "Unknown datetime string format, unable to parse: Summer 2017, at position 0\n",
      "Unknown datetime string format, unable to parse: Coming Soon, at position 0\n",
      "Unknown datetime string format, unable to parse: Spring 2018, at position 0\n",
      "Unknown datetime string format, unable to parse: Winter 2018, at position 0\n",
      "Unknown datetime string format, unable to parse: To be Announced, at position 0\n",
      "Unknown datetime string format, unable to parse: Winter 2017, at position 0\n",
      "Unknown datetime string format, unable to parse: TBA, at position 0\n",
      "Unknown datetime string format, unable to parse: Coming Soon, at position 0\n",
      "Unknown datetime string format, unable to parse: TBD, at position 0\n",
      "Unknown datetime string format, unable to parse: Fall 2017, at position 0\n",
      "Unknown datetime string format, unable to parse: Coming Soon, at position 0\n",
      "Unknown datetime string format, unable to parse: Coming Soon, at position 0\n",
      "Unknown datetime string format, unable to parse: Coming Soon, at position 0\n",
      "Unknown datetime string format, unable to parse: TBD, at position 0\n",
      "Unknown datetime string format, unable to parse: Summer 2017, at position 0\n",
      "Unknown datetime string format, unable to parse: Q1 2018, at position 0\n",
      "Unknown datetime string format, unable to parse: Январь 2018, at position 0\n",
      "Unknown datetime string format, unable to parse: Soon, at position 0\n",
      "Unknown datetime string format, unable to parse: First quarter of 2018, at position 0\n",
      "Unknown datetime string format, unable to parse: H2 2018, at position 0\n",
      "Unknown datetime string format, unable to parse: Soon, at position 0\n",
      "Unknown datetime string format, unable to parse: 2018年初頭発売予定, at position 0\n",
      "Unknown datetime string format, unable to parse: Please wait warmly, at position 0\n",
      "Unknown datetime string format, unable to parse: early access, at position 0\n",
      "Unknown datetime string format, unable to parse: SOON, at position 0\n",
      "Unknown datetime string format, unable to parse: Coming Soon/Próximamente, at position 0\n",
      "Unknown datetime string format, unable to parse: Soon, at position 0\n",
      "Unknown datetime string format, unable to parse: TBD, at position 0\n",
      "Unknown datetime string format, unable to parse: 2018 [Now get free Pre Alpha], at position 0\n",
      "Unknown datetime string format, unable to parse: 1st Quarter 2018, at position 0\n",
      "Unknown datetime string format, unable to parse: SOON, at position 0\n",
      "Unknown datetime string format, unable to parse: SOON, at position 0\n",
      "Unknown datetime string format, unable to parse: TBA, at position 0\n",
      "Unknown datetime string format, unable to parse: TBA, at position 0\n",
      "Unknown datetime string format, unable to parse: TBA, at position 0\n",
      "Unknown datetime string format, unable to parse: TBA, at position 0\n",
      "Unknown datetime string format, unable to parse: TBA, at position 0\n",
      "Unknown datetime string format, unable to parse: TBA, at position 0\n",
      "Unknown datetime string format, unable to parse: Coming Soon, at position 0\n",
      "Unknown datetime string format, unable to parse: TBA, at position 0\n",
      "Unknown datetime string format, unable to parse: TBA, at position 0\n",
      "Unknown datetime string format, unable to parse: Soon, at position 0\n",
      "Unknown datetime string format, unable to parse: 预热群52756441, at position 0\n",
      "Unknown datetime string format, unable to parse: TBA, at position 0\n",
      "Unknown datetime string format, unable to parse: 2018年1月, at position 0\n",
      "Unknown datetime string format, unable to parse: Coming soon, at position 0\n",
      "Unknown datetime string format, unable to parse: Fall 2018, at position 0\n",
      "Unknown datetime string format, unable to parse: Q1 2018, at position 0\n",
      "Unknown datetime string format, unable to parse: 0̵1̴0̵0̶1̷0̶0̵0̴ ̴0̶0̶1̶1̶0̷0̶1̵1̴ ̸0̶0̶1̶1̵0̶1̷0̴0̵ ̴0̶1̷0̸1̵0̷0̴1̶0̴ ̴0̷0̴1̷1̶0̶1̵1̷1̵ ̵, at position 0\n",
      "Unknown datetime string format, unable to parse: \"\"\"Soon\"\"\", at position 0\n",
      "Unknown datetime string format, unable to parse: Coming Soon, at position 0\n",
      "Unknown datetime string format, unable to parse: Spring 2017, at position 0\n",
      "Unknown datetime string format, unable to parse: SOON, at position 0\n",
      "Unknown datetime string format, unable to parse: Demo coming soon., at position 0\n",
      "Unknown datetime string format, unable to parse: Coming 2017, at position 0\n",
      "Unknown datetime string format, unable to parse: Winter 2017, at position 0\n",
      "Unknown datetime string format, unable to parse: Q1 2018, at position 0\n",
      "Unknown datetime string format, unable to parse: TBD, at position 0\n",
      "Unknown datetime string format, unable to parse: Not yet available, at position 0\n",
      "Unknown datetime string format, unable to parse: Winter 2017, at position 0\n",
      "Unknown datetime string format, unable to parse: C'est bientôt...                    (ou pas), at position 0\n",
      "Unknown datetime string format, unable to parse: Q1 2018, at position 0\n",
      "Unknown datetime string format, unable to parse: Spring 2018, at position 0\n",
      "Unknown datetime string format, unable to parse: Coming Soon, at position 0\n",
      "Unknown datetime string format, unable to parse: TBA, at position 0\n",
      "Unknown datetime string format, unable to parse: Q4 2017, at position 0\n",
      "Unknown datetime string format, unable to parse: Early 2018, at position 0\n",
      "Unknown datetime string format, unable to parse: Datachunks conflicted. Be vigiliant., at position 0\n",
      "Unknown datetime string format, unable to parse: Coming Soon, at position 0\n",
      "Unknown datetime string format, unable to parse: Q1 2018, at position 0\n",
      "Unknown datetime string format, unable to parse: Coming soon, at position 0\n",
      "Unknown datetime string format, unable to parse: Coming Soon, at position 0\n",
      "Unknown datetime string format, unable to parse: Q2 2018 (Tentative), at position 0\n",
      "Unknown datetime string format, unable to parse: Q1 2018, at position 0\n",
      "Unknown datetime string format, unable to parse: Early 2018, at position 0\n",
      "Unknown datetime string format, unable to parse: Demo is available now!, at position 0\n",
      "Unknown datetime string format, unable to parse: When it's done, at position 0\n",
      "Unknown datetime string format, unable to parse: Fall 2017, at position 0\n",
      "Unknown datetime string format, unable to parse: Early 2018, at position 0\n",
      "Unknown datetime string format, unable to parse: Play Beta in demo!, at position 0\n",
      "Unknown datetime string format, unable to parse: 2017 Q4, at position 0\n",
      "Unknown datetime string format, unable to parse: Fall 2017, at position 0\n",
      "Unknown datetime string format, unable to parse: Q4 2017, at position 0\n",
      "Unknown datetime string format, unable to parse: Coming soon, at position 0\n",
      "Unknown datetime string format, unable to parse: Fall 2017, at position 0\n",
      "Unknown datetime string format, unable to parse: SOON, at position 0\n",
      "Unknown datetime string format, unable to parse: Coming Soon!, at position 0\n",
      "Unknown datetime string format, unable to parse: Early 2018, at position 0\n",
      "Unknown datetime string format, unable to parse: Early Spring 2018, at position 0\n",
      "Unknown datetime string format, unable to parse: Coming soon, at position 0\n",
      "Unknown datetime string format, unable to parse: Q2 2018, at position 0\n",
      "Unknown datetime string format, unable to parse: TBA 2017, at position 0\n",
      "Unknown datetime string format, unable to parse: Winter 2018, at position 0\n",
      "Unknown datetime string format, unable to parse: To be announced, at position 0\n",
      "Unknown datetime string format, unable to parse: When it is finished, at position 0\n",
      "Unknown datetime string format, unable to parse: Coming Soon, at position 0\n",
      "Unknown datetime string format, unable to parse: Winter 2017, at position 0\n",
      "Unknown datetime string format, unable to parse: Release Date TBA, at position 0\n",
      "Unknown datetime string format, unable to parse: Early 2018, at position 0\n",
      "Unknown datetime string format, unable to parse: Coming Q1 2018, at position 0\n",
      "Unknown datetime string format, unable to parse: Coming soon, at position 0\n",
      "Unknown datetime string format, unable to parse: Spring 2017, at position 0\n",
      "Unknown datetime string format, unable to parse: Coming soon, at position 0\n",
      "Unknown datetime string format, unable to parse: Coming Soon, at position 0\n",
      "Unknown datetime string format, unable to parse: When it is ready, at position 0\n",
      "Unknown datetime string format, unable to parse: Coming 2017, at position 0\n",
      "Unknown datetime string format, unable to parse: Early Access Starting Soon!, at position 0\n",
      "Unknown datetime string format, unable to parse: TBA, at position 0\n",
      "Unknown datetime string format, unable to parse: Comming Soon, at position 0\n",
      "Unknown datetime string format, unable to parse: Coming Soon, at position 0\n",
      "Unknown datetime string format, unable to parse: Early Access soon, at position 0\n",
      "Unknown datetime string format, unable to parse: Q2 2018, at position 0\n",
      "Unknown datetime string format, unable to parse: To Be Announced, at position 0\n",
      "Unknown datetime string format, unable to parse: Coming Q3 2017, at position 0\n",
      "Unknown datetime string format, unable to parse: Coming Soon, at position 0\n",
      "Unknown datetime string format, unable to parse: Coming Soon, at position 0\n",
      "Unknown datetime string format, unable to parse: Coming Soon, at position 0\n",
      "Unknown datetime string format, unable to parse: Coming soon.., at position 0\n",
      "Unknown datetime string format, unable to parse: Coming Soon, at position 0\n",
      "Unknown datetime string format, unable to parse: TBA, at position 0\n",
      "Unknown datetime string format, unable to parse: Early 2017, at position 0\n",
      "Unknown datetime string format, unable to parse: Q4 2017, at position 0\n",
      "Unknown datetime string format, unable to parse: End 2017, at position 0\n",
      "Unknown datetime string format, unable to parse: 2017 Q1, at position 0\n",
      "Unknown datetime string format, unable to parse: Q1 2017, at position 0\n",
      "Unknown datetime string format, unable to parse: Not yet available, at position 0\n",
      "Unknown datetime string format, unable to parse: Coming Soon!, at position 0\n",
      "Unknown datetime string format, unable to parse: When it's done (2017), at position 0\n",
      "Unknown datetime string format, unable to parse: Q1 (ish), 2017, at position 0\n",
      "Unknown datetime string format, unable to parse: Coming Soon, at position 0\n",
      "Unknown datetime string format, unable to parse: Coming Soon, at position 0\n",
      "Unknown datetime string format, unable to parse: Coming Soon, at position 0\n",
      "Unknown datetime string format, unable to parse: Coming soon, at position 0\n",
      "Unknown datetime string format, unable to parse: Soon™, at position 0\n",
      "Unknown datetime string format, unable to parse: TBA, at position 0\n",
      "Unknown datetime string format, unable to parse: TBD, at position 0\n",
      "Unknown datetime string format, unable to parse: When it's done!, at position 0\n",
      "Unknown datetime string format, unable to parse: Q1 2018, at position 0\n",
      "Unknown datetime string format, unable to parse: Coming Soon, at position 0\n",
      "Unknown datetime string format, unable to parse: Fall 2017, at position 0\n",
      "Unknown datetime string format, unable to parse: Q4 2017, at position 0\n",
      "Unknown datetime string format, unable to parse: Coming Soon, at position 0\n",
      "Unknown datetime string format, unable to parse: Late 2016 - Early 2017, at position 0\n",
      "Unknown datetime string format, unable to parse: Coming Soon, at position 0\n",
      "Unknown datetime string format, unable to parse: Coming Fall 2017, at position 0\n",
      "Unknown datetime string format, unable to parse: Q1 2018, at position 0\n",
      "Unknown datetime string format, unable to parse: coming soon, at position 0\n",
      "Unknown datetime string format, unable to parse: Coming late 2017, at position 0\n",
      "Unknown datetime string format, unable to parse: Coming soon, at position 0\n",
      "Unknown datetime string format, unable to parse: TBD, at position 0\n",
      "Unknown datetime string format, unable to parse: Hitting Early Access in 2017, at position 0\n",
      "Unknown datetime string format, unable to parse: Q4 2017, at position 0\n",
      "Unknown datetime string format, unable to parse: Coming Soon, at position 0\n",
      "Unknown datetime string format, unable to parse: SOON™, at position 0\n",
      "Unknown datetime string format, unable to parse: Q1 2018, at position 0\n",
      "Unknown datetime string format, unable to parse: Winter 2018, at position 0\n",
      "Unknown datetime string format, unable to parse: 2018 early, at position 0\n",
      "Unknown datetime string format, unable to parse: Q1 2018, at position 0\n",
      "Unknown datetime string format, unable to parse: Q1, 2018, at position 0\n",
      "Unknown datetime string format, unable to parse: Coming Soon, at position 0\n",
      "Errores de conversión: 174\n"
     ]
    },
    {
     "name": "stderr",
     "output_type": "stream",
     "text": [
      "/var/folders/zh/9nwz8r2n7jgcph8k9gcsvvwc0000gn/T/ipykernel_1391/2242160098.py:5: UserWarning: Parsing dates in %d.%m.%Y format when dayfirst=False (the default) was specified. Pass `dayfirst=True` or specify a format to silence this warning.\n",
      "  pd.to_datetime(fecha_str)\n"
     ]
    }
   ],
   "source": [
    "errores = 0\n",
    "\n",
    "for fecha_str in games_df['release_date']:\n",
    "    try:\n",
    "        pd.to_datetime(fecha_str)\n",
    "    except ValueError as v:\n",
    "        errores += 1\n",
    "        print(v)\n",
    "\n",
    "print(f\"Errores de conversión: {errores}\")"
   ]
  },
  {
   "cell_type": "markdown",
   "metadata": {},
   "source": [
    "Se puede ver que hay valores que no contienen ningún número por lo que será imposible castearlos a fecha. Se los identificará y reemplazará por valores nulos."
   ]
  },
  {
   "cell_type": "code",
   "execution_count": 27,
   "metadata": {},
   "outputs": [
    {
     "data": {
      "text/html": [
       "<div>\n",
       "<style scoped>\n",
       "    .dataframe tbody tr th:only-of-type {\n",
       "        vertical-align: middle;\n",
       "    }\n",
       "\n",
       "    .dataframe tbody tr th {\n",
       "        vertical-align: top;\n",
       "    }\n",
       "\n",
       "    .dataframe thead th {\n",
       "        text-align: right;\n",
       "    }\n",
       "</style>\n",
       "<table border=\"1\" class=\"dataframe\">\n",
       "  <thead>\n",
       "    <tr style=\"text-align: right;\">\n",
       "      <th></th>\n",
       "      <th>id</th>\n",
       "      <th>app_name</th>\n",
       "      <th>url</th>\n",
       "      <th>release_date</th>\n",
       "      <th>genres</th>\n",
       "      <th>tags</th>\n",
       "      <th>specs</th>\n",
       "    </tr>\n",
       "  </thead>\n",
       "  <tbody>\n",
       "    <tr>\n",
       "      <th>10</th>\n",
       "      <td>768570</td>\n",
       "      <td>Uncanny Islands</td>\n",
       "      <td>http://store.steampowered.com/app/768570/Uncan...</td>\n",
       "      <td>Soon..</td>\n",
       "      <td>[Action, Indie, Simulation, Early Access]</td>\n",
       "      <td>[Early Access, Action, Indie, Simulation, Surv...</td>\n",
       "      <td>[Single-player]</td>\n",
       "    </tr>\n",
       "    <tr>\n",
       "      <th>44</th>\n",
       "      <td>714020</td>\n",
       "      <td>Idle Adventure</td>\n",
       "      <td>http://store.steampowered.com/app/714020/Idle_...</td>\n",
       "      <td>Beta测试已开启</td>\n",
       "      <td>[Adventure, Free to Play, RPG, Early Access]</td>\n",
       "      <td>[Early Access, Free to Play, Adventure, RPG]</td>\n",
       "      <td>[MMO, Steam Achievements]</td>\n",
       "    </tr>\n",
       "  </tbody>\n",
       "</table>\n",
       "</div>"
      ],
      "text/plain": [
       "        id         app_name  \\\n",
       "10  768570  Uncanny Islands   \n",
       "44  714020   Idle Adventure   \n",
       "\n",
       "                                                  url release_date  \\\n",
       "10  http://store.steampowered.com/app/768570/Uncan...       Soon..   \n",
       "44  http://store.steampowered.com/app/714020/Idle_...    Beta测试已开启   \n",
       "\n",
       "                                          genres  \\\n",
       "10     [Action, Indie, Simulation, Early Access]   \n",
       "44  [Adventure, Free to Play, RPG, Early Access]   \n",
       "\n",
       "                                                 tags  \\\n",
       "10  [Early Access, Action, Indie, Simulation, Surv...   \n",
       "44       [Early Access, Free to Play, Adventure, RPG]   \n",
       "\n",
       "                        specs  \n",
       "10            [Single-player]  \n",
       "44  [MMO, Steam Achievements]  "
      ]
     },
     "execution_count": 27,
     "metadata": {},
     "output_type": "execute_result"
    }
   ],
   "source": [
    "# Crear máscara de campos que contengan números.\n",
    "mascara = games_df.release_date.str.contains(r'\\d')\n",
    "\n",
    "# Crear máscara de campos que no contengan números.\n",
    "mascara_negada = [not valor for valor in mascara]\n",
    "\n",
    "fechas_sin_numeros = games_df[mascara_negada]\n",
    "\n",
    "fechas_sin_numeros.head(2)"
   ]
  },
  {
   "cell_type": "code",
   "execution_count": 28,
   "metadata": {},
   "outputs": [],
   "source": [
    "games_df.loc[fechas_sin_numeros.index, \"release_date\"] = np.nan"
   ]
  },
  {
   "cell_type": "markdown",
   "metadata": {},
   "source": [
    "Volvemos a correr el bloque try-except."
   ]
  },
  {
   "cell_type": "code",
   "execution_count": 29,
   "metadata": {},
   "outputs": [
    {
     "name": "stdout",
     "output_type": "stream",
     "text": [
      "Unknown datetime string format, unable to parse: Q2 2017, at position 0\n",
      "Unknown datetime string format, unable to parse: Q2 2018, at position 0\n",
      "Unknown datetime string format, unable to parse: Winter 2017, at position 0\n",
      "Out of bounds nanosecond timestamp: 14 July, at position 0\n",
      "Unknown datetime string format, unable to parse: Summer 2017, at position 0\n",
      "Unknown datetime string format, unable to parse: Summer 2017, at position 0\n",
      "Unknown datetime string format, unable to parse: Spring 2018, at position 0\n",
      "Unknown datetime string format, unable to parse: Winter 2018, at position 0\n",
      "Unknown datetime string format, unable to parse: Winter 2017, at position 0\n",
      "Unknown datetime string format, unable to parse: Fall 2017, at position 0\n",
      "Unknown datetime string format, unable to parse: Summer 2017, at position 0\n",
      "Unknown datetime string format, unable to parse: Q1 2018, at position 0\n",
      "Unknown datetime string format, unable to parse: Январь 2018, at position 0\n",
      "Unknown datetime string format, unable to parse: First quarter of 2018, at position 0\n",
      "Unknown datetime string format, unable to parse: H2 2018, at position 0\n",
      "Unknown datetime string format, unable to parse: 2018年初頭発売予定, at position 0\n",
      "Unknown datetime string format, unable to parse: 2018 [Now get free Pre Alpha], at position 0\n",
      "Unknown datetime string format, unable to parse: 1st Quarter 2018, at position 0\n",
      "Unknown datetime string format, unable to parse: 预热群52756441, at position 0\n",
      "Unknown datetime string format, unable to parse: 2018年1月, at position 0\n",
      "Unknown datetime string format, unable to parse: Fall 2018, at position 0\n",
      "Unknown datetime string format, unable to parse: Q1 2018, at position 0\n",
      "Unknown datetime string format, unable to parse: 0̵1̴0̵0̶1̷0̶0̵0̴ ̴0̶0̶1̶1̶0̷0̶1̵1̴ ̸0̶0̶1̶1̵0̶1̷0̴0̵ ̴0̶1̷0̸1̵0̷0̴1̶0̴ ̴0̷0̴1̷1̶0̶1̵1̷1̵ ̵, at position 0\n",
      "Unknown datetime string format, unable to parse: Spring 2017, at position 0\n",
      "Unknown datetime string format, unable to parse: Coming 2017, at position 0\n",
      "Unknown datetime string format, unable to parse: Winter 2017, at position 0\n",
      "Unknown datetime string format, unable to parse: Q1 2018, at position 0\n",
      "Unknown datetime string format, unable to parse: Winter 2017, at position 0\n",
      "Unknown datetime string format, unable to parse: Q1 2018, at position 0\n",
      "Unknown datetime string format, unable to parse: Spring 2018, at position 0\n",
      "Unknown datetime string format, unable to parse: Q4 2017, at position 0\n",
      "Unknown datetime string format, unable to parse: Early 2018, at position 0\n",
      "Unknown datetime string format, unable to parse: Q1 2018, at position 0\n",
      "Unknown datetime string format, unable to parse: Q2 2018 (Tentative), at position 0\n",
      "Unknown datetime string format, unable to parse: Q1 2018, at position 0\n",
      "Unknown datetime string format, unable to parse: Early 2018, at position 0\n",
      "Unknown datetime string format, unable to parse: Fall 2017, at position 0\n",
      "Unknown datetime string format, unable to parse: Early 2018, at position 0\n",
      "Unknown datetime string format, unable to parse: 2017 Q4, at position 0\n",
      "Unknown datetime string format, unable to parse: Fall 2017, at position 0\n",
      "Unknown datetime string format, unable to parse: Q4 2017, at position 0\n",
      "Unknown datetime string format, unable to parse: Fall 2017, at position 0\n",
      "Unknown datetime string format, unable to parse: Early 2018, at position 0\n",
      "Unknown datetime string format, unable to parse: Early Spring 2018, at position 0\n",
      "Unknown datetime string format, unable to parse: Q2 2018, at position 0\n",
      "Unknown datetime string format, unable to parse: TBA 2017, at position 0\n",
      "Unknown datetime string format, unable to parse: Winter 2018, at position 0\n",
      "Unknown datetime string format, unable to parse: Winter 2017, at position 0\n",
      "Unknown datetime string format, unable to parse: Early 2018, at position 0\n",
      "Unknown datetime string format, unable to parse: Coming Q1 2018, at position 0\n",
      "Unknown datetime string format, unable to parse: Spring 2017, at position 0\n",
      "Unknown datetime string format, unable to parse: Coming 2017, at position 0\n",
      "Unknown datetime string format, unable to parse: Q2 2018, at position 0\n",
      "Unknown datetime string format, unable to parse: Coming Q3 2017, at position 0\n",
      "Unknown datetime string format, unable to parse: Early 2017, at position 0\n",
      "Unknown datetime string format, unable to parse: Q4 2017, at position 0\n",
      "Unknown datetime string format, unable to parse: End 2017, at position 0\n",
      "Unknown datetime string format, unable to parse: 2017 Q1, at position 0\n",
      "Unknown datetime string format, unable to parse: Q1 2017, at position 0\n",
      "Unknown datetime string format, unable to parse: When it's done (2017), at position 0\n",
      "Unknown datetime string format, unable to parse: Q1 (ish), 2017, at position 0\n",
      "Unknown datetime string format, unable to parse: Q1 2018, at position 0\n",
      "Unknown datetime string format, unable to parse: Fall 2017, at position 0\n",
      "Unknown datetime string format, unable to parse: Q4 2017, at position 0\n",
      "Unknown datetime string format, unable to parse: Late 2016 - Early 2017, at position 0\n",
      "Unknown datetime string format, unable to parse: Coming Fall 2017, at position 0\n",
      "Unknown datetime string format, unable to parse: Q1 2018, at position 0\n",
      "Unknown datetime string format, unable to parse: Coming late 2017, at position 0\n",
      "Unknown datetime string format, unable to parse: Hitting Early Access in 2017, at position 0\n",
      "Unknown datetime string format, unable to parse: Q4 2017, at position 0\n",
      "Unknown datetime string format, unable to parse: Q1 2018, at position 0\n",
      "Unknown datetime string format, unable to parse: Winter 2018, at position 0\n",
      "Unknown datetime string format, unable to parse: 2018 early, at position 0\n",
      "Unknown datetime string format, unable to parse: Q1 2018, at position 0\n",
      "Unknown datetime string format, unable to parse: Q1, 2018, at position 0\n",
      "Errores de conversión: 75\n"
     ]
    },
    {
     "name": "stderr",
     "output_type": "stream",
     "text": [
      "/var/folders/zh/9nwz8r2n7jgcph8k9gcsvvwc0000gn/T/ipykernel_1391/2242160098.py:5: UserWarning: Parsing dates in %d.%m.%Y format when dayfirst=False (the default) was specified. Pass `dayfirst=True` or specify a format to silence this warning.\n",
      "  pd.to_datetime(fecha_str)\n"
     ]
    }
   ],
   "source": [
    "errores = 0\n",
    "\n",
    "for fecha_str in games_df['release_date']:\n",
    "    try:\n",
    "        pd.to_datetime(fecha_str)\n",
    "    except ValueError as v:\n",
    "        errores += 1\n",
    "        print(v)\n",
    "\n",
    "print(f\"Errores de conversión: {errores}\")"
   ]
  },
  {
   "cell_type": "markdown",
   "metadata": {},
   "source": [
    "Si bien para estos valores tampoco podremos convertirlos a fecha, podemos extraer el año de lanzamiento, que luego nos servirá para los endpoints de la API."
   ]
  },
  {
   "cell_type": "code",
   "execution_count": 30,
   "metadata": {},
   "outputs": [],
   "source": [
    "# Utilizar una expresión regular para encontrar años (4 dígitos)\n",
    "patron_anio = r'(\\b\\d{4}\\b)'\n",
    "\n",
    "# Aplicar la expresión regular con str.extract()\n",
    "games_df['year'] = games_df['release_date'].str.extract(patron_anio)"
   ]
  },
  {
   "cell_type": "markdown",
   "metadata": {},
   "source": [
    "Finalmente, podemos castear `release_date` a datetime, usando `format=\"coerce\"` para que los errores pasen como valores nulos."
   ]
  },
  {
   "cell_type": "code",
   "execution_count": 31,
   "metadata": {},
   "outputs": [],
   "source": [
    "games_df[\"release_date\"] = pd.to_datetime(games_df[\"release_date\"], \n",
    "                                          format=\"ISO8601\", errors=\"coerce\")"
   ]
  },
  {
   "cell_type": "code",
   "execution_count": 32,
   "metadata": {},
   "outputs": [
    {
     "data": {
      "text/plain": [
       "0.07185982820863936"
      ]
     },
     "execution_count": 32,
     "metadata": {},
     "output_type": "execute_result"
    }
   ],
   "source": [
    "# Verificar los valores faltantes\n",
    "games_df.release_date.isna().mean()"
   ]
  },
  {
   "cell_type": "markdown",
   "metadata": {},
   "source": [
    "El porcentaje de valores nulos en esta columna es bajo (7% aprox.) por lo que no se tomará ninguna otra medida, salvo que mas adelante resulte necesaria para el modelo de ML."
   ]
  },
  {
   "cell_type": "markdown",
   "metadata": {},
   "source": [
    "### year"
   ]
  },
  {
   "cell_type": "markdown",
   "metadata": {},
   "source": [
    "`year` quedó como tipo objeto por lo que debemos castearlo a un tipo numérico. En este caso al tener NaNs no podremos convertirlo a int por lo que lo convertiremos a float. No se opta por eliminar los NaNs ya que representan aprox. un 6% de las filas y por la naturaleza de la columna tampoco tiene sentido imputarlos."
   ]
  },
  {
   "cell_type": "code",
   "execution_count": 33,
   "metadata": {},
   "outputs": [],
   "source": [
    "games_df['year'] = pd.to_numeric(games_df['year'], errors='coerce')"
   ]
  },
  {
   "cell_type": "code",
   "execution_count": 34,
   "metadata": {},
   "outputs": [
    {
     "data": {
      "text/plain": [
       "0.06753392256940122"
      ]
     },
     "execution_count": 34,
     "metadata": {},
     "output_type": "execute_result"
    }
   ],
   "source": [
    "games_df.year.isna().mean() # Hay aprox. 6% de valores nulos"
   ]
  },
  {
   "cell_type": "code",
   "execution_count": 35,
   "metadata": {},
   "outputs": [
    {
     "data": {
      "text/plain": [
       "count    29962.000000\n",
       "mean      2014.769842\n",
       "std          3.504130\n",
       "min       1970.000000\n",
       "25%       2014.000000\n",
       "50%       2016.000000\n",
       "75%       2017.000000\n",
       "max       2021.000000\n",
       "Name: year, dtype: float64"
      ]
     },
     "execution_count": 35,
     "metadata": {},
     "output_type": "execute_result"
    }
   ],
   "source": [
    "# Describir la columna year\n",
    "games_df.year.describe()"
   ]
  },
  {
   "cell_type": "code",
   "execution_count": 36,
   "metadata": {},
   "outputs": [
    {
     "name": "stdout",
     "output_type": "stream",
     "text": [
      "El número de años únicos es 43.\n"
     ]
    }
   ],
   "source": [
    "print(f\"El número de años únicos es {games_df.year.nunique()}.\")"
   ]
  },
  {
   "cell_type": "markdown",
   "metadata": {},
   "source": [
    "Vamos a analizar como se distribuyen los juegos según el año de lanzamiento."
   ]
  },
  {
   "cell_type": "code",
   "execution_count": 37,
   "metadata": {},
   "outputs": [
    {
     "data": {
      "image/png": "[encoded data removed]",
      "text/plain": [
       "<Figure size 640x480 with 1 Axes>"
      ]
     },
     "metadata": {},
     "output_type": "display_data"
    }
   ],
   "source": [
    "# Agrupar la cantidad de videojuegos según su año de lanzamiento\n",
    "games_by_year = (games_df.groupby(\"year\").id.count())\n",
    "\n",
    "# Hacer un gráfico de barras de games_by_year\n",
    "plt.bar(games_by_year.index, games_by_year.values)\n",
    "\n",
    "plt.xlabel(\"Año\")\n",
    "plt.ylabel(\"Cantidad de videojuegos\")\n",
    "plt.title(\"Cantidad de videojuegos según su año de lanzamiento\")\n",
    "plt.xlim(1970, 2025);"
   ]
  },
  {
   "cell_type": "markdown",
   "metadata": {},
   "source": [
    "Se observa un aumento exponencial del número de videojuegos lanzados al mercado desde 1970 hasta 2017. Luego cae sustancialmente hasta el 2021, pero esto es mas probable que se deba a como se recolectó la información que a un cambio en la tendencia."
   ]
  },
  {
   "cell_type": "markdown",
   "metadata": {},
   "source": [
    "### genres"
   ]
  },
  {
   "cell_type": "markdown",
   "metadata": {},
   "source": [
    "La columna genres está formada por un conjunto de géneros. Veremos cuáles son las combinaciones más habituales."
   ]
  },
  {
   "cell_type": "code",
   "execution_count": 38,
   "metadata": {},
   "outputs": [
    {
     "data": {
      "text/plain": [
       "genres_temp\n",
       "(Action,)                     1879\n",
       "(Action, Indie)               1650\n",
       "(Simulation,)                 1396\n",
       "(Casual, Simulation)          1359\n",
       "(Action, Adventure, Indie)    1082\n",
       "(Strategy,)                   1056\n",
       "(Adventure, Indie)            1007\n",
       "(Indie, RPG, Strategy)         945\n",
       "(Casual, Indie)                899\n",
       "(Action, Adventure)            761\n",
       "Name: count, dtype: int64"
      ]
     },
     "execution_count": 38,
     "metadata": {},
     "output_type": "execute_result"
    }
   ],
   "source": [
    "games_df['genres_temp'] = games_df['genres'].dropna().apply(tuple)\n",
    "\n",
    "games_df['genres_temp'].value_counts()[:10]"
   ]
  },
  {
   "cell_type": "markdown",
   "metadata": {},
   "source": [
    "Entre las combinaciones más habituales, se repiten algunos generos como  \"Action\", \"Indie\", \"Simulation\", \"Casual\" y \"Strategy\"."
   ]
  },
  {
   "cell_type": "code",
   "execution_count": 39,
   "metadata": {},
   "outputs": [],
   "source": [
    "games_df.drop(columns=[\"genres_temp\"], inplace=True)"
   ]
  },
  {
   "cell_type": "markdown",
   "metadata": {},
   "source": [
    "Las columnas genres, tags y specs están formadas por varias etiquetas por lo que haremos una función para separarlas en columnas individuales aplicando one-hot encoding.\n",
    "\n",
    "Es de hacer notar que los valores nulos se reemplazarán por un string vacío, para no generar nuevas columnas, lo que debe ser tenido en cuenta a la hora de hacer el sistema de recomendación."
   ]
  },
  {
   "cell_type": "code",
   "execution_count": 40,
   "metadata": {},
   "outputs": [],
   "source": [
    "from sklearn.preprocessing import MultiLabelBinarizer\n",
    "\n",
    "def separar_columna_multilabel(df, columna):\n",
    "    # Reemplazar los valores nulos con un string vacío.\n",
    "    df[columna].fillna(value=\"\", inplace=True)\n",
    "\n",
    "    # Crear una instancia de MultiLabelBinarizer.\n",
    "    mlb = MultiLabelBinarizer()\n",
    "\n",
    "    # Aplicar one-hot encoding a la columna y agregar un prefijo personalizado.\n",
    "    encoded_columns = pd.DataFrame(mlb.fit_transform(df[columna]), columns=mlb.classes_)\n",
    "    encoded_columns.columns = [f'{columna}_{col}' for col in encoded_columns.columns]\n",
    "    \n",
    "    # Imprimir los nombres de las columnas generadas.\n",
    "    print(encoded_columns.columns)\n",
    "\n",
    "    return encoded_columns"
   ]
  },
  {
   "cell_type": "code",
   "execution_count": 41,
   "metadata": {},
   "outputs": [
    {
     "name": "stdout",
     "output_type": "stream",
     "text": [
      "Index(['genres_Accounting', 'genres_Action', 'genres_Adventure',\n",
      "       'genres_Animation &amp; Modeling', 'genres_Audio Production',\n",
      "       'genres_Casual', 'genres_Design &amp; Illustration',\n",
      "       'genres_Early Access', 'genres_Education', 'genres_Free to Play',\n",
      "       'genres_Indie', 'genres_Massively Multiplayer', 'genres_Photo Editing',\n",
      "       'genres_RPG', 'genres_Racing', 'genres_Simulation',\n",
      "       'genres_Software Training', 'genres_Sports', 'genres_Strategy',\n",
      "       'genres_Utilities', 'genres_Video Production', 'genres_Web Publishing'],\n",
      "      dtype='object')\n"
     ]
    },
    {
     "data": {
      "text/html": [
       "<div>\n",
       "<style scoped>\n",
       "    .dataframe tbody tr th:only-of-type {\n",
       "        vertical-align: middle;\n",
       "    }\n",
       "\n",
       "    .dataframe tbody tr th {\n",
       "        vertical-align: top;\n",
       "    }\n",
       "\n",
       "    .dataframe thead th {\n",
       "        text-align: right;\n",
       "    }\n",
       "</style>\n",
       "<table border=\"1\" class=\"dataframe\">\n",
       "  <thead>\n",
       "    <tr style=\"text-align: right;\">\n",
       "      <th></th>\n",
       "      <th>id</th>\n",
       "      <th>app_name</th>\n",
       "      <th>url</th>\n",
       "      <th>release_date</th>\n",
       "      <th>genres</th>\n",
       "      <th>tags</th>\n",
       "      <th>specs</th>\n",
       "      <th>year</th>\n",
       "      <th>genres_Accounting</th>\n",
       "      <th>genres_Action</th>\n",
       "      <th>...</th>\n",
       "      <th>genres_Photo Editing</th>\n",
       "      <th>genres_RPG</th>\n",
       "      <th>genres_Racing</th>\n",
       "      <th>genres_Simulation</th>\n",
       "      <th>genres_Software Training</th>\n",
       "      <th>genres_Sports</th>\n",
       "      <th>genres_Strategy</th>\n",
       "      <th>genres_Utilities</th>\n",
       "      <th>genres_Video Production</th>\n",
       "      <th>genres_Web Publishing</th>\n",
       "    </tr>\n",
       "  </thead>\n",
       "  <tbody>\n",
       "    <tr>\n",
       "      <th>0</th>\n",
       "      <td>761140</td>\n",
       "      <td>Lost Summoner Kitty</td>\n",
       "      <td>http://store.steampowered.com/app/761140/Lost_...</td>\n",
       "      <td>2018-01-04</td>\n",
       "      <td>[Action, Casual, Indie, Simulation, Strategy]</td>\n",
       "      <td>[Strategy, Action, Indie, Casual, Simulation]</td>\n",
       "      <td>[Single-player]</td>\n",
       "      <td>2018.0</td>\n",
       "      <td>0</td>\n",
       "      <td>1</td>\n",
       "      <td>...</td>\n",
       "      <td>0</td>\n",
       "      <td>0</td>\n",
       "      <td>0</td>\n",
       "      <td>1</td>\n",
       "      <td>0</td>\n",
       "      <td>0</td>\n",
       "      <td>1</td>\n",
       "      <td>0</td>\n",
       "      <td>0</td>\n",
       "      <td>0</td>\n",
       "    </tr>\n",
       "    <tr>\n",
       "      <th>1</th>\n",
       "      <td>643980</td>\n",
       "      <td>Ironbound</td>\n",
       "      <td>http://store.steampowered.com/app/643980/Ironb...</td>\n",
       "      <td>2018-01-04</td>\n",
       "      <td>[Free to Play, Indie, RPG, Strategy]</td>\n",
       "      <td>[Free to Play, Strategy, Indie, RPG, Card Game...</td>\n",
       "      <td>[Single-player, Multi-player, Online Multi-Pla...</td>\n",
       "      <td>2018.0</td>\n",
       "      <td>0</td>\n",
       "      <td>0</td>\n",
       "      <td>...</td>\n",
       "      <td>0</td>\n",
       "      <td>1</td>\n",
       "      <td>0</td>\n",
       "      <td>0</td>\n",
       "      <td>0</td>\n",
       "      <td>0</td>\n",
       "      <td>1</td>\n",
       "      <td>0</td>\n",
       "      <td>0</td>\n",
       "      <td>0</td>\n",
       "    </tr>\n",
       "    <tr>\n",
       "      <th>2</th>\n",
       "      <td>670290</td>\n",
       "      <td>Real Pool 3D - Poolians</td>\n",
       "      <td>http://store.steampowered.com/app/670290/Real_...</td>\n",
       "      <td>2017-07-24</td>\n",
       "      <td>[Casual, Free to Play, Indie, Simulation, Sports]</td>\n",
       "      <td>[Free to Play, Simulation, Sports, Casual, Ind...</td>\n",
       "      <td>[Single-player, Multi-player, Online Multi-Pla...</td>\n",
       "      <td>2017.0</td>\n",
       "      <td>0</td>\n",
       "      <td>0</td>\n",
       "      <td>...</td>\n",
       "      <td>0</td>\n",
       "      <td>0</td>\n",
       "      <td>0</td>\n",
       "      <td>1</td>\n",
       "      <td>0</td>\n",
       "      <td>1</td>\n",
       "      <td>0</td>\n",
       "      <td>0</td>\n",
       "      <td>0</td>\n",
       "      <td>0</td>\n",
       "    </tr>\n",
       "  </tbody>\n",
       "</table>\n",
       "<p>3 rows × 30 columns</p>\n",
       "</div>"
      ],
      "text/plain": [
       "       id                 app_name  \\\n",
       "0  761140      Lost Summoner Kitty   \n",
       "1  643980                Ironbound   \n",
       "2  670290  Real Pool 3D - Poolians   \n",
       "\n",
       "                                                 url release_date  \\\n",
       "0  http://store.steampowered.com/app/761140/Lost_...   2018-01-04   \n",
       "1  http://store.steampowered.com/app/643980/Ironb...   2018-01-04   \n",
       "2  http://store.steampowered.com/app/670290/Real_...   2017-07-24   \n",
       "\n",
       "                                              genres  \\\n",
       "0      [Action, Casual, Indie, Simulation, Strategy]   \n",
       "1               [Free to Play, Indie, RPG, Strategy]   \n",
       "2  [Casual, Free to Play, Indie, Simulation, Sports]   \n",
       "\n",
       "                                                tags  \\\n",
       "0      [Strategy, Action, Indie, Casual, Simulation]   \n",
       "1  [Free to Play, Strategy, Indie, RPG, Card Game...   \n",
       "2  [Free to Play, Simulation, Sports, Casual, Ind...   \n",
       "\n",
       "                                               specs    year  \\\n",
       "0                                    [Single-player]  2018.0   \n",
       "1  [Single-player, Multi-player, Online Multi-Pla...  2018.0   \n",
       "2  [Single-player, Multi-player, Online Multi-Pla...  2017.0   \n",
       "\n",
       "   genres_Accounting  genres_Action  ...  genres_Photo Editing  genres_RPG  \\\n",
       "0                  0              1  ...                     0           0   \n",
       "1                  0              0  ...                     0           1   \n",
       "2                  0              0  ...                     0           0   \n",
       "\n",
       "   genres_Racing  genres_Simulation  genres_Software Training  genres_Sports  \\\n",
       "0              0                  1                         0              0   \n",
       "1              0                  0                         0              0   \n",
       "2              0                  1                         0              1   \n",
       "\n",
       "   genres_Strategy  genres_Utilities  genres_Video Production  \\\n",
       "0                1                 0                        0   \n",
       "1                1                 0                        0   \n",
       "2                0                 0                        0   \n",
       "\n",
       "   genres_Web Publishing  \n",
       "0                      0  \n",
       "1                      0  \n",
       "2                      0  \n",
       "\n",
       "[3 rows x 30 columns]"
      ]
     },
     "execution_count": 41,
     "metadata": {},
     "output_type": "execute_result"
    }
   ],
   "source": [
    "# Llamar a la función, asignar el resultado a encoded_genres y modificar df.\n",
    "encoded_genres = separar_columna_multilabel(games_df, 'genres')\n",
    "\n",
    "# Combinar el DataFrame original con el DataFrame codificado.\n",
    "games_df = pd.concat([games_df, encoded_genres], axis=1)\n",
    "games_df.head(3)"
   ]
  },
  {
   "cell_type": "code",
   "execution_count": 42,
   "metadata": {},
   "outputs": [],
   "source": [
    "# Renombrar algunas columnas para mejorar la prolijidad\n",
    "games_df.rename(\n",
    "    columns={'genres_Animation &amp; Modeling': 'genres_Animation & Modeling',\n",
    "             'genres_Design &amp; Illustration': 'genres_Design & Illustration'},\n",
    "             inplace=True)"
   ]
  },
  {
   "cell_type": "markdown",
   "metadata": {},
   "source": [
    "Analizaremos ahora la distribución de videojuegos según genero."
   ]
  },
  {
   "cell_type": "code",
   "execution_count": 43,
   "metadata": {},
   "outputs": [
    {
     "data": {
      "image/png": "[encoded data removed]",
      "text/plain": [
       "<Figure size 640x480 with 1 Axes>"
      ]
     },
     "metadata": {},
     "output_type": "display_data"
    }
   ],
   "source": [
    "games_by_genre = games_df.loc[:, \"genres_Accounting\":\"genres_Web Publishing\"].sum()\n",
    "\n",
    "# Utiliza el DataFrame df para crear el gráfico\n",
    "sns.barplot(x=games_by_genre.values, y=games_by_genre.index)\n",
    "\n",
    "# Puedes personalizar el gráfico, como agregar etiquetas a los ejes\n",
    "plt.xlabel(\"Cantidad de videojuegos\")\n",
    "plt.ylabel(\"Género\")\n",
    "plt.title(\"Cantidad de videojuegos según su género\");"
   ]
  },
  {
   "cell_type": "markdown",
   "metadata": {},
   "source": [
    "Si bien \"Action\" en el primer lugar entre los juegos que contenían solo esa etiqueta, \"Indie\" es el genero que mas aparece, considerando todas sus combinaciones. Los siguen en cercanos tercer y cuarto lugar \"Casual\" y \"Adventure\"."
   ]
  },
  {
   "cell_type": "markdown",
   "metadata": {},
   "source": [
    "### tags"
   ]
  },
  {
   "cell_type": "markdown",
   "metadata": {},
   "source": [
    "Esta columna hace referencia a etiquetas del juego. Vemos las combinaciones más habituales de tags."
   ]
  },
  {
   "cell_type": "code",
   "execution_count": 44,
   "metadata": {},
   "outputs": [
    {
     "data": {
      "text/plain": [
       "tags_temp\n",
       "(Casual, Simulation)          1292\n",
       "(Action,)                     1105\n",
       "(Simulation,)                 1085\n",
       "(Strategy, RPG, Indie)         632\n",
       "(Strategy,)                    625\n",
       "(Action, Indie)                508\n",
       "(Action, Adventure)            364\n",
       "(Indie, Casual)                339\n",
       "(Action, Adventure, Indie)     338\n",
       "(Adventure, Indie)             288\n",
       "Name: count, dtype: int64"
      ]
     },
     "execution_count": 44,
     "metadata": {},
     "output_type": "execute_result"
    }
   ],
   "source": [
    "games_df['tags_temp'] = games_df['tags'].dropna().apply(tuple)\n",
    "\n",
    "games_df['tags_temp'].value_counts()[:10]"
   ]
  },
  {
   "cell_type": "markdown",
   "metadata": {},
   "source": [
    "Entre las combinaciones más habituales, se repiten algunos tags similares a los de la columna genres."
   ]
  },
  {
   "cell_type": "code",
   "execution_count": 45,
   "metadata": {},
   "outputs": [],
   "source": [
    "games_df.drop(columns=[\"tags_temp\"], inplace=True)"
   ]
  },
  {
   "cell_type": "code",
   "execution_count": 46,
   "metadata": {},
   "outputs": [
    {
     "name": "stdout",
     "output_type": "stream",
     "text": [
      "Index(['tags_1980s', 'tags_1990's', 'tags_2.5D', 'tags_2D', 'tags_2D Fighter',\n",
      "       'tags_360 Video', 'tags_3D Platformer', 'tags_3D Vision',\n",
      "       'tags_4 Player Local', 'tags_4X',\n",
      "       ...\n",
      "       'tags_Warhammer 40K', 'tags_Web Publishing', 'tags_Werewolves',\n",
      "       'tags_Western', 'tags_Word Game', 'tags_World War I',\n",
      "       'tags_World War II', 'tags_Wrestling', 'tags_Zombies', 'tags_e-sports'],\n",
      "      dtype='object', length=339)\n"
     ]
    },
    {
     "data": {
      "text/html": [
       "<div>\n",
       "<style scoped>\n",
       "    .dataframe tbody tr th:only-of-type {\n",
       "        vertical-align: middle;\n",
       "    }\n",
       "\n",
       "    .dataframe tbody tr th {\n",
       "        vertical-align: top;\n",
       "    }\n",
       "\n",
       "    .dataframe thead th {\n",
       "        text-align: right;\n",
       "    }\n",
       "</style>\n",
       "<table border=\"1\" class=\"dataframe\">\n",
       "  <thead>\n",
       "    <tr style=\"text-align: right;\">\n",
       "      <th></th>\n",
       "      <th>id</th>\n",
       "      <th>app_name</th>\n",
       "      <th>url</th>\n",
       "      <th>release_date</th>\n",
       "      <th>genres</th>\n",
       "      <th>tags</th>\n",
       "      <th>specs</th>\n",
       "      <th>year</th>\n",
       "      <th>genres_Accounting</th>\n",
       "      <th>genres_Action</th>\n",
       "      <th>...</th>\n",
       "      <th>tags_Warhammer 40K</th>\n",
       "      <th>tags_Web Publishing</th>\n",
       "      <th>tags_Werewolves</th>\n",
       "      <th>tags_Western</th>\n",
       "      <th>tags_Word Game</th>\n",
       "      <th>tags_World War I</th>\n",
       "      <th>tags_World War II</th>\n",
       "      <th>tags_Wrestling</th>\n",
       "      <th>tags_Zombies</th>\n",
       "      <th>tags_e-sports</th>\n",
       "    </tr>\n",
       "  </thead>\n",
       "  <tbody>\n",
       "    <tr>\n",
       "      <th>0</th>\n",
       "      <td>761140</td>\n",
       "      <td>Lost Summoner Kitty</td>\n",
       "      <td>http://store.steampowered.com/app/761140/Lost_...</td>\n",
       "      <td>2018-01-04</td>\n",
       "      <td>[Action, Casual, Indie, Simulation, Strategy]</td>\n",
       "      <td>[Strategy, Action, Indie, Casual, Simulation]</td>\n",
       "      <td>[Single-player]</td>\n",
       "      <td>2018.0</td>\n",
       "      <td>0</td>\n",
       "      <td>1</td>\n",
       "      <td>...</td>\n",
       "      <td>0</td>\n",
       "      <td>0</td>\n",
       "      <td>0</td>\n",
       "      <td>0</td>\n",
       "      <td>0</td>\n",
       "      <td>0</td>\n",
       "      <td>0</td>\n",
       "      <td>0</td>\n",
       "      <td>0</td>\n",
       "      <td>0</td>\n",
       "    </tr>\n",
       "    <tr>\n",
       "      <th>1</th>\n",
       "      <td>643980</td>\n",
       "      <td>Ironbound</td>\n",
       "      <td>http://store.steampowered.com/app/643980/Ironb...</td>\n",
       "      <td>2018-01-04</td>\n",
       "      <td>[Free to Play, Indie, RPG, Strategy]</td>\n",
       "      <td>[Free to Play, Strategy, Indie, RPG, Card Game...</td>\n",
       "      <td>[Single-player, Multi-player, Online Multi-Pla...</td>\n",
       "      <td>2018.0</td>\n",
       "      <td>0</td>\n",
       "      <td>0</td>\n",
       "      <td>...</td>\n",
       "      <td>0</td>\n",
       "      <td>0</td>\n",
       "      <td>0</td>\n",
       "      <td>0</td>\n",
       "      <td>0</td>\n",
       "      <td>0</td>\n",
       "      <td>0</td>\n",
       "      <td>0</td>\n",
       "      <td>0</td>\n",
       "      <td>0</td>\n",
       "    </tr>\n",
       "    <tr>\n",
       "      <th>2</th>\n",
       "      <td>670290</td>\n",
       "      <td>Real Pool 3D - Poolians</td>\n",
       "      <td>http://store.steampowered.com/app/670290/Real_...</td>\n",
       "      <td>2017-07-24</td>\n",
       "      <td>[Casual, Free to Play, Indie, Simulation, Sports]</td>\n",
       "      <td>[Free to Play, Simulation, Sports, Casual, Ind...</td>\n",
       "      <td>[Single-player, Multi-player, Online Multi-Pla...</td>\n",
       "      <td>2017.0</td>\n",
       "      <td>0</td>\n",
       "      <td>0</td>\n",
       "      <td>...</td>\n",
       "      <td>0</td>\n",
       "      <td>0</td>\n",
       "      <td>0</td>\n",
       "      <td>0</td>\n",
       "      <td>0</td>\n",
       "      <td>0</td>\n",
       "      <td>0</td>\n",
       "      <td>0</td>\n",
       "      <td>0</td>\n",
       "      <td>0</td>\n",
       "    </tr>\n",
       "  </tbody>\n",
       "</table>\n",
       "<p>3 rows × 369 columns</p>\n",
       "</div>"
      ],
      "text/plain": [
       "       id                 app_name  \\\n",
       "0  761140      Lost Summoner Kitty   \n",
       "1  643980                Ironbound   \n",
       "2  670290  Real Pool 3D - Poolians   \n",
       "\n",
       "                                                 url release_date  \\\n",
       "0  http://store.steampowered.com/app/761140/Lost_...   2018-01-04   \n",
       "1  http://store.steampowered.com/app/643980/Ironb...   2018-01-04   \n",
       "2  http://store.steampowered.com/app/670290/Real_...   2017-07-24   \n",
       "\n",
       "                                              genres  \\\n",
       "0      [Action, Casual, Indie, Simulation, Strategy]   \n",
       "1               [Free to Play, Indie, RPG, Strategy]   \n",
       "2  [Casual, Free to Play, Indie, Simulation, Sports]   \n",
       "\n",
       "                                                tags  \\\n",
       "0      [Strategy, Action, Indie, Casual, Simulation]   \n",
       "1  [Free to Play, Strategy, Indie, RPG, Card Game...   \n",
       "2  [Free to Play, Simulation, Sports, Casual, Ind...   \n",
       "\n",
       "                                               specs    year  \\\n",
       "0                                    [Single-player]  2018.0   \n",
       "1  [Single-player, Multi-player, Online Multi-Pla...  2018.0   \n",
       "2  [Single-player, Multi-player, Online Multi-Pla...  2017.0   \n",
       "\n",
       "   genres_Accounting  genres_Action  ...  tags_Warhammer 40K  \\\n",
       "0                  0              1  ...                   0   \n",
       "1                  0              0  ...                   0   \n",
       "2                  0              0  ...                   0   \n",
       "\n",
       "   tags_Web Publishing  tags_Werewolves  tags_Western  tags_Word Game  \\\n",
       "0                    0                0             0               0   \n",
       "1                    0                0             0               0   \n",
       "2                    0                0             0               0   \n",
       "\n",
       "   tags_World War I  tags_World War II  tags_Wrestling  tags_Zombies  \\\n",
       "0                 0                  0               0             0   \n",
       "1                 0                  0               0             0   \n",
       "2                 0                  0               0             0   \n",
       "\n",
       "   tags_e-sports  \n",
       "0              0  \n",
       "1              0  \n",
       "2              0  \n",
       "\n",
       "[3 rows x 369 columns]"
      ]
     },
     "execution_count": 46,
     "metadata": {},
     "output_type": "execute_result"
    }
   ],
   "source": [
    "# Llamar a la función, asignar el resultado a encoded_tags y modificar df.\n",
    "encoded_tags = separar_columna_multilabel(games_df, 'tags')\n",
    "\n",
    "# Combinar el DataFrame original con el DataFrame codificado.\n",
    "games_df = pd.concat([games_df, encoded_tags], axis=1)\n",
    "games_df.head(3)"
   ]
  },
  {
   "cell_type": "markdown",
   "metadata": {},
   "source": [
    "Analizaremos ahora la distribución de videojuegos según tag. Al haber 339 tags, solo graficaremos las primeras 20 para poder tener una idea mejor de las mas comunes."
   ]
  },
  {
   "cell_type": "code",
   "execution_count": 47,
   "metadata": {},
   "outputs": [
    {
     "data": {
      "image/png": "[encoded data removed]",
      "text/plain": [
       "<Figure size 640x480 with 1 Axes>"
      ]
     },
     "metadata": {},
     "output_type": "display_data"
    }
   ],
   "source": [
    "games_by_tag = games_df.loc[:, \"tags_1980s\":\"tags_e-sports\"].sum()\n",
    "games_by_tag = games_by_tag.sort_values(ascending=False)[:20]\n",
    "\n",
    "\n",
    "# Utiliza el DataFrame df para crear el gráfico\n",
    "sns.barplot(x=games_by_tag.values, y=games_by_tag.index)\n",
    "\n",
    "# Puedes personalizar el gráfico, como agregar etiquetas a los ejes\n",
    "plt.xlabel(\"Cantidad de videojuegos\")\n",
    "plt.ylabel(\"Tag\")\n",
    "plt.title(\"Cantidad de videojuegos según su tag\");"
   ]
  },
  {
   "cell_type": "markdown",
   "metadata": {},
   "source": [
    "La tendencia es similar a la columna genres. \"Indie\" en primer lugar, \"Action\" segunda y \"Adventure\" y \"Casual\" cercanas en el tercer y cuarto lugar. Esto podría indicar una fuerte asociación entre las columnas genres y tags, aunque es de hacer notar que hay 22 géneros y 339 tags, por lo que vale la pena conservar ambos atributos, a pesar de cierta redundancia."
   ]
  },
  {
   "cell_type": "markdown",
   "metadata": {},
   "source": [
    "### specs"
   ]
  },
  {
   "cell_type": "markdown",
   "metadata": {},
   "source": [
    "Esta columna hace referencia a especificaciones del juego. Vemos las combinaciones más habituales."
   ]
  },
  {
   "cell_type": "code",
   "execution_count": 48,
   "metadata": {},
   "outputs": [
    {
     "data": {
      "text/plain": [
       "specs_temp\n",
       "(Single-player,)                                                                                                                                                    2794\n",
       "(Single-player, Downloadable Content)                                                                                                                               1204\n",
       "(Single-player, Shared/Split Screen, Downloadable Content, Steam Achievements, Steam Trading Cards, Partial Controller Support, Steam Cloud, Steam Leaderboards)    1015\n",
       "(Single-player, Steam Achievements)                                                                                                                                  824\n",
       "(Multi-player, Co-op, Cross-Platform Multiplayer, Downloadable Content)                                                                                              756\n",
       "(Single-player, Steam Achievements, Steam Trading Cards)                                                                                                             733\n",
       "(Single-player, Steam Trading Cards)                                                                                                                                 716\n",
       "(Captions available,)                                                                                                                                                643\n",
       "(Single-player, Steam Achievements, Steam Trading Cards, Steam Cloud)                                                                                                494\n",
       "(Single-player, Partial Controller Support)                                                                                                                          440\n",
       "Name: count, dtype: int64"
      ]
     },
     "execution_count": 48,
     "metadata": {},
     "output_type": "execute_result"
    }
   ],
   "source": [
    "games_df['specs_temp'] = games_df['specs'].dropna().apply(tuple)\n",
    "\n",
    "games_df['specs_temp'].value_counts()[:10]"
   ]
  },
  {
   "cell_type": "markdown",
   "metadata": {},
   "source": [
    "Entre las combinaciones mas habituales están \"Single-Player\" y otras referidas a la plataforma Steam (\"Steam Achievements\", \"Steam Trading Cards\", etc.)."
   ]
  },
  {
   "cell_type": "code",
   "execution_count": 49,
   "metadata": {},
   "outputs": [],
   "source": [
    "games_df.drop(columns=[\"specs_temp\"], inplace=True)"
   ]
  },
  {
   "cell_type": "code",
   "execution_count": 50,
   "metadata": {},
   "outputs": [
    {
     "name": "stdout",
     "output_type": "stream",
     "text": [
      "Index(['specs_Captions available', 'specs_Co-op', 'specs_Commentary available',\n",
      "       'specs_Cross-Platform Multiplayer', 'specs_Downloadable Content',\n",
      "       'specs_Full controller support', 'specs_Game demo', 'specs_Gamepad',\n",
      "       'specs_HTC Vive', 'specs_In-App Purchases', 'specs_Includes Source SDK',\n",
      "       'specs_Includes level editor', 'specs_Keyboard / Mouse',\n",
      "       'specs_Local Co-op', 'specs_Local Multi-Player', 'specs_MMO',\n",
      "       'specs_Mods', 'specs_Mods (require HL1)', 'specs_Mods (require HL2)',\n",
      "       'specs_Multi-player', 'specs_Oculus Rift', 'specs_Online Co-op',\n",
      "       'specs_Online Multi-Player', 'specs_Partial Controller Support',\n",
      "       'specs_Room-Scale', 'specs_Seated', 'specs_Shared/Split Screen',\n",
      "       'specs_Single-player', 'specs_Standing', 'specs_Stats',\n",
      "       'specs_Steam Achievements', 'specs_Steam Cloud',\n",
      "       'specs_Steam Leaderboards', 'specs_Steam Trading Cards',\n",
      "       'specs_Steam Turn Notifications', 'specs_Steam Workshop',\n",
      "       'specs_SteamVR Collectibles', 'specs_Tracked Motion Controllers',\n",
      "       'specs_Valve Anti-Cheat enabled', 'specs_Windows Mixed Reality'],\n",
      "      dtype='object')\n"
     ]
    },
    {
     "data": {
      "text/html": [
       "<div>\n",
       "<style scoped>\n",
       "    .dataframe tbody tr th:only-of-type {\n",
       "        vertical-align: middle;\n",
       "    }\n",
       "\n",
       "    .dataframe tbody tr th {\n",
       "        vertical-align: top;\n",
       "    }\n",
       "\n",
       "    .dataframe thead th {\n",
       "        text-align: right;\n",
       "    }\n",
       "</style>\n",
       "<table border=\"1\" class=\"dataframe\">\n",
       "  <thead>\n",
       "    <tr style=\"text-align: right;\">\n",
       "      <th></th>\n",
       "      <th>id</th>\n",
       "      <th>app_name</th>\n",
       "      <th>url</th>\n",
       "      <th>release_date</th>\n",
       "      <th>genres</th>\n",
       "      <th>tags</th>\n",
       "      <th>specs</th>\n",
       "      <th>year</th>\n",
       "      <th>genres_Accounting</th>\n",
       "      <th>genres_Action</th>\n",
       "      <th>...</th>\n",
       "      <th>specs_Steam Achievements</th>\n",
       "      <th>specs_Steam Cloud</th>\n",
       "      <th>specs_Steam Leaderboards</th>\n",
       "      <th>specs_Steam Trading Cards</th>\n",
       "      <th>specs_Steam Turn Notifications</th>\n",
       "      <th>specs_Steam Workshop</th>\n",
       "      <th>specs_SteamVR Collectibles</th>\n",
       "      <th>specs_Tracked Motion Controllers</th>\n",
       "      <th>specs_Valve Anti-Cheat enabled</th>\n",
       "      <th>specs_Windows Mixed Reality</th>\n",
       "    </tr>\n",
       "  </thead>\n",
       "  <tbody>\n",
       "    <tr>\n",
       "      <th>0</th>\n",
       "      <td>761140</td>\n",
       "      <td>Lost Summoner Kitty</td>\n",
       "      <td>http://store.steampowered.com/app/761140/Lost_...</td>\n",
       "      <td>2018-01-04</td>\n",
       "      <td>[Action, Casual, Indie, Simulation, Strategy]</td>\n",
       "      <td>[Strategy, Action, Indie, Casual, Simulation]</td>\n",
       "      <td>[Single-player]</td>\n",
       "      <td>2018.0</td>\n",
       "      <td>0</td>\n",
       "      <td>1</td>\n",
       "      <td>...</td>\n",
       "      <td>0</td>\n",
       "      <td>0</td>\n",
       "      <td>0</td>\n",
       "      <td>0</td>\n",
       "      <td>0</td>\n",
       "      <td>0</td>\n",
       "      <td>0</td>\n",
       "      <td>0</td>\n",
       "      <td>0</td>\n",
       "      <td>0</td>\n",
       "    </tr>\n",
       "    <tr>\n",
       "      <th>1</th>\n",
       "      <td>643980</td>\n",
       "      <td>Ironbound</td>\n",
       "      <td>http://store.steampowered.com/app/643980/Ironb...</td>\n",
       "      <td>2018-01-04</td>\n",
       "      <td>[Free to Play, Indie, RPG, Strategy]</td>\n",
       "      <td>[Free to Play, Strategy, Indie, RPG, Card Game...</td>\n",
       "      <td>[Single-player, Multi-player, Online Multi-Pla...</td>\n",
       "      <td>2018.0</td>\n",
       "      <td>0</td>\n",
       "      <td>0</td>\n",
       "      <td>...</td>\n",
       "      <td>1</td>\n",
       "      <td>0</td>\n",
       "      <td>0</td>\n",
       "      <td>1</td>\n",
       "      <td>0</td>\n",
       "      <td>0</td>\n",
       "      <td>0</td>\n",
       "      <td>0</td>\n",
       "      <td>0</td>\n",
       "      <td>0</td>\n",
       "    </tr>\n",
       "    <tr>\n",
       "      <th>2</th>\n",
       "      <td>670290</td>\n",
       "      <td>Real Pool 3D - Poolians</td>\n",
       "      <td>http://store.steampowered.com/app/670290/Real_...</td>\n",
       "      <td>2017-07-24</td>\n",
       "      <td>[Casual, Free to Play, Indie, Simulation, Sports]</td>\n",
       "      <td>[Free to Play, Simulation, Sports, Casual, Ind...</td>\n",
       "      <td>[Single-player, Multi-player, Online Multi-Pla...</td>\n",
       "      <td>2017.0</td>\n",
       "      <td>0</td>\n",
       "      <td>0</td>\n",
       "      <td>...</td>\n",
       "      <td>0</td>\n",
       "      <td>0</td>\n",
       "      <td>0</td>\n",
       "      <td>0</td>\n",
       "      <td>0</td>\n",
       "      <td>0</td>\n",
       "      <td>0</td>\n",
       "      <td>0</td>\n",
       "      <td>0</td>\n",
       "      <td>0</td>\n",
       "    </tr>\n",
       "  </tbody>\n",
       "</table>\n",
       "<p>3 rows × 409 columns</p>\n",
       "</div>"
      ],
      "text/plain": [
       "       id                 app_name  \\\n",
       "0  761140      Lost Summoner Kitty   \n",
       "1  643980                Ironbound   \n",
       "2  670290  Real Pool 3D - Poolians   \n",
       "\n",
       "                                                 url release_date  \\\n",
       "0  http://store.steampowered.com/app/761140/Lost_...   2018-01-04   \n",
       "1  http://store.steampowered.com/app/643980/Ironb...   2018-01-04   \n",
       "2  http://store.steampowered.com/app/670290/Real_...   2017-07-24   \n",
       "\n",
       "                                              genres  \\\n",
       "0      [Action, Casual, Indie, Simulation, Strategy]   \n",
       "1               [Free to Play, Indie, RPG, Strategy]   \n",
       "2  [Casual, Free to Play, Indie, Simulation, Sports]   \n",
       "\n",
       "                                                tags  \\\n",
       "0      [Strategy, Action, Indie, Casual, Simulation]   \n",
       "1  [Free to Play, Strategy, Indie, RPG, Card Game...   \n",
       "2  [Free to Play, Simulation, Sports, Casual, Ind...   \n",
       "\n",
       "                                               specs    year  \\\n",
       "0                                    [Single-player]  2018.0   \n",
       "1  [Single-player, Multi-player, Online Multi-Pla...  2018.0   \n",
       "2  [Single-player, Multi-player, Online Multi-Pla...  2017.0   \n",
       "\n",
       "   genres_Accounting  genres_Action  ...  specs_Steam Achievements  \\\n",
       "0                  0              1  ...                         0   \n",
       "1                  0              0  ...                         1   \n",
       "2                  0              0  ...                         0   \n",
       "\n",
       "   specs_Steam Cloud  specs_Steam Leaderboards  specs_Steam Trading Cards  \\\n",
       "0                  0                         0                          0   \n",
       "1                  0                         0                          1   \n",
       "2                  0                         0                          0   \n",
       "\n",
       "   specs_Steam Turn Notifications  specs_Steam Workshop  \\\n",
       "0                               0                     0   \n",
       "1                               0                     0   \n",
       "2                               0                     0   \n",
       "\n",
       "   specs_SteamVR Collectibles  specs_Tracked Motion Controllers  \\\n",
       "0                           0                                 0   \n",
       "1                           0                                 0   \n",
       "2                           0                                 0   \n",
       "\n",
       "   specs_Valve Anti-Cheat enabled  specs_Windows Mixed Reality  \n",
       "0                               0                            0  \n",
       "1                               0                            0  \n",
       "2                               0                            0  \n",
       "\n",
       "[3 rows x 409 columns]"
      ]
     },
     "execution_count": 50,
     "metadata": {},
     "output_type": "execute_result"
    }
   ],
   "source": [
    "# Llamar a la función, asignar el resultado a encoded_specs y modificar df.\n",
    "encoded_specs = separar_columna_multilabel(games_df, 'specs')\n",
    "\n",
    "# Combinar el DabtaFrame original con el DataFrame codificado.\n",
    "games_df = pd.concat([games_df, encoded_specs], axis=1)\n",
    "games_df.head(3)"
   ]
  },
  {
   "cell_type": "markdown",
   "metadata": {},
   "source": [
    "Analizaremos ahora la distribución de videojuegos según spec. Al haber 40 specs, solo graficaremos las primeras 20 para poder tener una idea mejor de las mas comunes."
   ]
  },
  {
   "cell_type": "code",
   "execution_count": 51,
   "metadata": {},
   "outputs": [
    {
     "data": {
      "image/png": "[encoded data removed]",
      "text/plain": [
       "<Figure size 640x480 with 1 Axes>"
      ]
     },
     "metadata": {},
     "output_type": "display_data"
    }
   ],
   "source": [
    "games_by_spec = games_df.loc[:, \"specs_Captions available\":\"specs_Windows Mixed Reality\"].sum()\n",
    "games_by_spec = games_by_spec.sort_values(ascending=False)[:20]\n",
    "\n",
    "\n",
    "# Utiliza el DataFrame df para crear el gráfico\n",
    "sns.barplot(x=games_by_spec.values, y=games_by_spec.index)\n",
    "\n",
    "# Puedes personalizar el gráfico, como agregar etiquetas a los ejes\n",
    "plt.xlabel(\"Cantidad de videojuegos\")\n",
    "plt.ylabel(\"Spec\")\n",
    "plt.title(\"Cantidad de videojuegos según su spec\");"
   ]
  },
  {
   "cell_type": "markdown",
   "metadata": {},
   "source": [
    "El spec más repetido es \"Single-Player\", seguido de \"Steam Achievements\" y \"Downloadable content\"."
   ]
  },
  {
   "cell_type": "markdown",
   "metadata": {},
   "source": [
    "### Carga del DataFrame procesado"
   ]
  },
  {
   "cell_type": "markdown",
   "metadata": {},
   "source": [
    "Habiendo finalizado esta etapa del EDA, se seleccionarán aquellas columnas relevantes para la API y los modelos de machine learning y se guardará en un archivo .csv"
   ]
  },
  {
   "cell_type": "markdown",
   "metadata": {},
   "source": [
    "Usaremos las columnas \"genres\", \"tags\" y \"specs\" para el sistema de recomendación, por lo que aquellos registros que no tengan información en ninguna de estas 3, no serán útiles en nuestro sistema y deben ser eliminadas."
   ]
  },
  {
   "cell_type": "code",
   "execution_count": 52,
   "metadata": {},
   "outputs": [
    {
     "data": {
      "text/plain": [
       "7"
      ]
     },
     "execution_count": 52,
     "metadata": {},
     "output_type": "execute_result"
    }
   ],
   "source": [
    "# Obtener cuantos registros tienen estas 3 columnas vacias (string \"\").\n",
    "((games_df.genres == \"\") & (games_df.tags == \"\") & (games_df.specs == \"\")).sum()"
   ]
  },
  {
   "cell_type": "markdown",
   "metadata": {},
   "source": [
    "Solo 7 registros no tienen datos en ninguna de estas 3 columnas por lo que procedemos a eliminarlas."
   ]
  },
  {
   "cell_type": "code",
   "execution_count": 53,
   "metadata": {},
   "outputs": [
    {
     "data": {
      "text/plain": [
       "Index([5372, 9559, 21333, 21334, 21335, 23324, 27736], dtype='int64')"
      ]
     },
     "execution_count": 53,
     "metadata": {},
     "output_type": "execute_result"
    }
   ],
   "source": [
    "vacios = ((games_df.genres == \"\") & (games_df.tags == \"\") & (games_df.specs == \"\"))\n",
    "\n",
    "# Obtener los indices True de vacios.\n",
    "indices_true = vacios.index[vacios]\n",
    "indices_true"
   ]
  },
  {
   "cell_type": "code",
   "execution_count": 54,
   "metadata": {},
   "outputs": [],
   "source": [
    "games_df.drop(indices_true, inplace=True)\n",
    "games_df.reset_index(drop=True, inplace=True)"
   ]
  },
  {
   "cell_type": "markdown",
   "metadata": {},
   "source": [
    "Eliminaremos las columnas que no sean necesarias."
   ]
  },
  {
   "cell_type": "code",
   "execution_count": 55,
   "metadata": {},
   "outputs": [],
   "source": [
    "games_df.drop([\"url\", \"release_date\"], axis=1,\n",
    "              inplace=True)"
   ]
  },
  {
   "cell_type": "code",
   "execution_count": 56,
   "metadata": {},
   "outputs": [
    {
     "data": {
      "text/plain": [
       "id                                0\n",
       "app_name                          0\n",
       "genres                            0\n",
       "tags                              0\n",
       "specs                             0\n",
       "year                           2170\n",
       "genres_Accounting                 0\n",
       "genres_Action                     0\n",
       "genres_Adventure                  0\n",
       "genres_Animation & Modeling       0\n",
       "dtype: int64"
      ]
     },
     "execution_count": 56,
     "metadata": {},
     "output_type": "execute_result"
    }
   ],
   "source": [
    "games_df.iloc[:, :10].isna().sum() \n",
    "# La única columna que queda con valores nulos es year, con 2170 nulos.\n",
    "# genres, tags y specs tienen registros con strings vacios"
   ]
  },
  {
   "cell_type": "code",
   "execution_count": 57,
   "metadata": {},
   "outputs": [
    {
     "name": "stdout",
     "output_type": "stream",
     "text": [
      "Número de duplicados: 0.\n"
     ]
    }
   ],
   "source": [
    "# Crear un DataFrame temporal para poder evaluar duplicados.\n",
    "games_df_temp = games_df.drop(columns=[\"genres\", \"tags\", \"specs\"], axis=1)\n",
    "\n",
    "# No hay duplicados.\n",
    "print(f\"Número de duplicados: {games_df_temp.duplicated().sum()}.\")\n",
    "\n",
    "# Borrar el DataFrame temporal para ahorrar memoria.\n",
    "del games_df_temp"
   ]
  },
  {
   "cell_type": "code",
   "execution_count": 58,
   "metadata": {},
   "outputs": [
    {
     "name": "stdout",
     "output_type": "stream",
     "text": [
      "El df tiene 32125 filas y 407 columnas.\n"
     ]
    }
   ],
   "source": [
    "print(f\"El df tiene {games_df.shape[0]} filas y {games_df.shape[1]} columnas.\")"
   ]
  },
  {
   "cell_type": "code",
   "execution_count": 59,
   "metadata": {},
   "outputs": [
    {
     "data": {
      "text/html": [
       "<div>\n",
       "<style scoped>\n",
       "    .dataframe tbody tr th:only-of-type {\n",
       "        vertical-align: middle;\n",
       "    }\n",
       "\n",
       "    .dataframe tbody tr th {\n",
       "        vertical-align: top;\n",
       "    }\n",
       "\n",
       "    .dataframe thead th {\n",
       "        text-align: right;\n",
       "    }\n",
       "</style>\n",
       "<table border=\"1\" class=\"dataframe\">\n",
       "  <thead>\n",
       "    <tr style=\"text-align: right;\">\n",
       "      <th></th>\n",
       "      <th>id</th>\n",
       "      <th>app_name</th>\n",
       "      <th>genres</th>\n",
       "      <th>tags</th>\n",
       "      <th>specs</th>\n",
       "      <th>year</th>\n",
       "      <th>genres_Accounting</th>\n",
       "      <th>genres_Action</th>\n",
       "      <th>genres_Adventure</th>\n",
       "      <th>genres_Animation &amp; Modeling</th>\n",
       "      <th>...</th>\n",
       "      <th>specs_Steam Achievements</th>\n",
       "      <th>specs_Steam Cloud</th>\n",
       "      <th>specs_Steam Leaderboards</th>\n",
       "      <th>specs_Steam Trading Cards</th>\n",
       "      <th>specs_Steam Turn Notifications</th>\n",
       "      <th>specs_Steam Workshop</th>\n",
       "      <th>specs_SteamVR Collectibles</th>\n",
       "      <th>specs_Tracked Motion Controllers</th>\n",
       "      <th>specs_Valve Anti-Cheat enabled</th>\n",
       "      <th>specs_Windows Mixed Reality</th>\n",
       "    </tr>\n",
       "  </thead>\n",
       "  <tbody>\n",
       "    <tr>\n",
       "      <th>0</th>\n",
       "      <td>761140</td>\n",
       "      <td>Lost Summoner Kitty</td>\n",
       "      <td>[Action, Casual, Indie, Simulation, Strategy]</td>\n",
       "      <td>[Strategy, Action, Indie, Casual, Simulation]</td>\n",
       "      <td>[Single-player]</td>\n",
       "      <td>2018.0</td>\n",
       "      <td>0</td>\n",
       "      <td>1</td>\n",
       "      <td>0</td>\n",
       "      <td>0</td>\n",
       "      <td>...</td>\n",
       "      <td>0</td>\n",
       "      <td>0</td>\n",
       "      <td>0</td>\n",
       "      <td>0</td>\n",
       "      <td>0</td>\n",
       "      <td>0</td>\n",
       "      <td>0</td>\n",
       "      <td>0</td>\n",
       "      <td>0</td>\n",
       "      <td>0</td>\n",
       "    </tr>\n",
       "    <tr>\n",
       "      <th>1</th>\n",
       "      <td>643980</td>\n",
       "      <td>Ironbound</td>\n",
       "      <td>[Free to Play, Indie, RPG, Strategy]</td>\n",
       "      <td>[Free to Play, Strategy, Indie, RPG, Card Game...</td>\n",
       "      <td>[Single-player, Multi-player, Online Multi-Pla...</td>\n",
       "      <td>2018.0</td>\n",
       "      <td>0</td>\n",
       "      <td>0</td>\n",
       "      <td>0</td>\n",
       "      <td>0</td>\n",
       "      <td>...</td>\n",
       "      <td>1</td>\n",
       "      <td>0</td>\n",
       "      <td>0</td>\n",
       "      <td>1</td>\n",
       "      <td>0</td>\n",
       "      <td>0</td>\n",
       "      <td>0</td>\n",
       "      <td>0</td>\n",
       "      <td>0</td>\n",
       "      <td>0</td>\n",
       "    </tr>\n",
       "    <tr>\n",
       "      <th>2</th>\n",
       "      <td>670290</td>\n",
       "      <td>Real Pool 3D - Poolians</td>\n",
       "      <td>[Casual, Free to Play, Indie, Simulation, Sports]</td>\n",
       "      <td>[Free to Play, Simulation, Sports, Casual, Ind...</td>\n",
       "      <td>[Single-player, Multi-player, Online Multi-Pla...</td>\n",
       "      <td>2017.0</td>\n",
       "      <td>0</td>\n",
       "      <td>0</td>\n",
       "      <td>0</td>\n",
       "      <td>0</td>\n",
       "      <td>...</td>\n",
       "      <td>0</td>\n",
       "      <td>0</td>\n",
       "      <td>0</td>\n",
       "      <td>0</td>\n",
       "      <td>0</td>\n",
       "      <td>0</td>\n",
       "      <td>0</td>\n",
       "      <td>0</td>\n",
       "      <td>0</td>\n",
       "      <td>0</td>\n",
       "    </tr>\n",
       "    <tr>\n",
       "      <th>3</th>\n",
       "      <td>767400</td>\n",
       "      <td>弹炸人2222</td>\n",
       "      <td>[Action, Adventure, Casual]</td>\n",
       "      <td>[Action, Adventure, Casual]</td>\n",
       "      <td>[Single-player]</td>\n",
       "      <td>2017.0</td>\n",
       "      <td>0</td>\n",
       "      <td>1</td>\n",
       "      <td>1</td>\n",
       "      <td>0</td>\n",
       "      <td>...</td>\n",
       "      <td>0</td>\n",
       "      <td>0</td>\n",
       "      <td>0</td>\n",
       "      <td>0</td>\n",
       "      <td>0</td>\n",
       "      <td>0</td>\n",
       "      <td>0</td>\n",
       "      <td>0</td>\n",
       "      <td>0</td>\n",
       "      <td>0</td>\n",
       "    </tr>\n",
       "    <tr>\n",
       "      <th>4</th>\n",
       "      <td>773570</td>\n",
       "      <td>Log Challenge</td>\n",
       "      <td></td>\n",
       "      <td>[Action, Indie, Casual, Sports]</td>\n",
       "      <td>[Single-player, Full controller support, HTC V...</td>\n",
       "      <td>NaN</td>\n",
       "      <td>0</td>\n",
       "      <td>0</td>\n",
       "      <td>0</td>\n",
       "      <td>0</td>\n",
       "      <td>...</td>\n",
       "      <td>0</td>\n",
       "      <td>0</td>\n",
       "      <td>0</td>\n",
       "      <td>0</td>\n",
       "      <td>0</td>\n",
       "      <td>0</td>\n",
       "      <td>0</td>\n",
       "      <td>1</td>\n",
       "      <td>0</td>\n",
       "      <td>0</td>\n",
       "    </tr>\n",
       "  </tbody>\n",
       "</table>\n",
       "<p>5 rows × 407 columns</p>\n",
       "</div>"
      ],
      "text/plain": [
       "       id                 app_name  \\\n",
       "0  761140      Lost Summoner Kitty   \n",
       "1  643980                Ironbound   \n",
       "2  670290  Real Pool 3D - Poolians   \n",
       "3  767400                  弹炸人2222   \n",
       "4  773570            Log Challenge   \n",
       "\n",
       "                                              genres  \\\n",
       "0      [Action, Casual, Indie, Simulation, Strategy]   \n",
       "1               [Free to Play, Indie, RPG, Strategy]   \n",
       "2  [Casual, Free to Play, Indie, Simulation, Sports]   \n",
       "3                        [Action, Adventure, Casual]   \n",
       "4                                                      \n",
       "\n",
       "                                                tags  \\\n",
       "0      [Strategy, Action, Indie, Casual, Simulation]   \n",
       "1  [Free to Play, Strategy, Indie, RPG, Card Game...   \n",
       "2  [Free to Play, Simulation, Sports, Casual, Ind...   \n",
       "3                        [Action, Adventure, Casual]   \n",
       "4                    [Action, Indie, Casual, Sports]   \n",
       "\n",
       "                                               specs    year  \\\n",
       "0                                    [Single-player]  2018.0   \n",
       "1  [Single-player, Multi-player, Online Multi-Pla...  2018.0   \n",
       "2  [Single-player, Multi-player, Online Multi-Pla...  2017.0   \n",
       "3                                    [Single-player]  2017.0   \n",
       "4  [Single-player, Full controller support, HTC V...     NaN   \n",
       "\n",
       "   genres_Accounting  genres_Action  genres_Adventure  \\\n",
       "0                  0              1                 0   \n",
       "1                  0              0                 0   \n",
       "2                  0              0                 0   \n",
       "3                  0              1                 1   \n",
       "4                  0              0                 0   \n",
       "\n",
       "   genres_Animation & Modeling  ...  specs_Steam Achievements  \\\n",
       "0                            0  ...                         0   \n",
       "1                            0  ...                         1   \n",
       "2                            0  ...                         0   \n",
       "3                            0  ...                         0   \n",
       "4                            0  ...                         0   \n",
       "\n",
       "   specs_Steam Cloud  specs_Steam Leaderboards  specs_Steam Trading Cards  \\\n",
       "0                  0                         0                          0   \n",
       "1                  0                         0                          1   \n",
       "2                  0                         0                          0   \n",
       "3                  0                         0                          0   \n",
       "4                  0                         0                          0   \n",
       "\n",
       "   specs_Steam Turn Notifications  specs_Steam Workshop  \\\n",
       "0                               0                     0   \n",
       "1                               0                     0   \n",
       "2                               0                     0   \n",
       "3                               0                     0   \n",
       "4                               0                     0   \n",
       "\n",
       "   specs_SteamVR Collectibles  specs_Tracked Motion Controllers  \\\n",
       "0                           0                                 0   \n",
       "1                           0                                 0   \n",
       "2                           0                                 0   \n",
       "3                           0                                 0   \n",
       "4                           0                                 1   \n",
       "\n",
       "   specs_Valve Anti-Cheat enabled  specs_Windows Mixed Reality  \n",
       "0                               0                            0  \n",
       "1                               0                            0  \n",
       "2                               0                            0  \n",
       "3                               0                            0  \n",
       "4                               0                            0  \n",
       "\n",
       "[5 rows x 407 columns]"
      ]
     },
     "execution_count": 59,
     "metadata": {},
     "output_type": "execute_result"
    }
   ],
   "source": [
    "games_df.head()"
   ]
  },
  {
   "cell_type": "code",
   "execution_count": 60,
   "metadata": {},
   "outputs": [],
   "source": [
    "# Guardar el DataFrame como .csv.\n",
    "games_df.to_csv('./Datasets/steam_games_procesado.csv', index=False)"
   ]
  },
  {
   "cell_type": "markdown",
   "metadata": {},
   "source": [
    "## user_reviews"
   ]
  },
  {
   "cell_type": "markdown",
   "metadata": {},
   "source": [
    "Este dataset contiene reviews de los usuarios. Por la forma en la que están anidados los datos, y los errores obtenidos al tratar de cargar el archivo, es necesario definir una nueva función a continuación."
   ]
  },
  {
   "cell_type": "code",
   "execution_count": 2,
   "metadata": {},
   "outputs": [],
   "source": [
    "# Definir una función \"leer_json_gzip()\" que lee los archivos json comprimidos \n",
    "# con gzip y devuelve una lista de diccionarios Python.\n",
    "def leer_json_gzip(nombre_archivo):\n",
    "\n",
    "    # Abrimos el archivo en modo de lectura y decodificar su contenido.\n",
    "    with gzip.open(nombre_archivo, 'rt', encoding='utf-8') as archivo:\n",
    "\n",
    "        # Recorremos el contenido del archivo y evaluamos cada línea como \n",
    "        # una expresión Python.\n",
    "        # El resultado de la evaluación es un diccionario Python.\n",
    "        return [ast.literal_eval(line.strip()) for line in archivo]"
   ]
  },
  {
   "cell_type": "code",
   "execution_count": 62,
   "metadata": {},
   "outputs": [
    {
     "data": {
      "text/html": [
       "<div>\n",
       "<style scoped>\n",
       "    .dataframe tbody tr th:only-of-type {\n",
       "        vertical-align: middle;\n",
       "    }\n",
       "\n",
       "    .dataframe tbody tr th {\n",
       "        vertical-align: top;\n",
       "    }\n",
       "\n",
       "    .dataframe thead th {\n",
       "        text-align: right;\n",
       "    }\n",
       "</style>\n",
       "<table border=\"1\" class=\"dataframe\">\n",
       "  <thead>\n",
       "    <tr style=\"text-align: right;\">\n",
       "      <th></th>\n",
       "      <th>user_id</th>\n",
       "      <th>user_url</th>\n",
       "      <th>reviews</th>\n",
       "    </tr>\n",
       "  </thead>\n",
       "  <tbody>\n",
       "    <tr>\n",
       "      <th>0</th>\n",
       "      <td>76561197970982479</td>\n",
       "      <td>http://steamcommunity.com/profiles/76561197970...</td>\n",
       "      <td>[{'funny': '', 'posted': 'Posted November 5, 2...</td>\n",
       "    </tr>\n",
       "    <tr>\n",
       "      <th>1</th>\n",
       "      <td>js41637</td>\n",
       "      <td>http://steamcommunity.com/id/js41637</td>\n",
       "      <td>[{'funny': '', 'posted': 'Posted June 24, 2014...</td>\n",
       "    </tr>\n",
       "    <tr>\n",
       "      <th>2</th>\n",
       "      <td>evcentric</td>\n",
       "      <td>http://steamcommunity.com/id/evcentric</td>\n",
       "      <td>[{'funny': '', 'posted': 'Posted February 3.',...</td>\n",
       "    </tr>\n",
       "    <tr>\n",
       "      <th>3</th>\n",
       "      <td>doctr</td>\n",
       "      <td>http://steamcommunity.com/id/doctr</td>\n",
       "      <td>[{'funny': '', 'posted': 'Posted October 14, 2...</td>\n",
       "    </tr>\n",
       "    <tr>\n",
       "      <th>4</th>\n",
       "      <td>maplemage</td>\n",
       "      <td>http://steamcommunity.com/id/maplemage</td>\n",
       "      <td>[{'funny': '3 people found this review funny',...</td>\n",
       "    </tr>\n",
       "  </tbody>\n",
       "</table>\n",
       "</div>"
      ],
      "text/plain": [
       "             user_id                                           user_url  \\\n",
       "0  76561197970982479  http://steamcommunity.com/profiles/76561197970...   \n",
       "1            js41637               http://steamcommunity.com/id/js41637   \n",
       "2          evcentric             http://steamcommunity.com/id/evcentric   \n",
       "3              doctr                 http://steamcommunity.com/id/doctr   \n",
       "4          maplemage             http://steamcommunity.com/id/maplemage   \n",
       "\n",
       "                                             reviews  \n",
       "0  [{'funny': '', 'posted': 'Posted November 5, 2...  \n",
       "1  [{'funny': '', 'posted': 'Posted June 24, 2014...  \n",
       "2  [{'funny': '', 'posted': 'Posted February 3.',...  \n",
       "3  [{'funny': '', 'posted': 'Posted October 14, 2...  \n",
       "4  [{'funny': '3 people found this review funny',...  "
      ]
     },
     "execution_count": 62,
     "metadata": {},
     "output_type": "execute_result"
    }
   ],
   "source": [
    "reviews_data = leer_json_gzip('./Datasets/user_reviews.json.gz')\n",
    "reviews_df = pd.DataFrame(reviews_data)\n",
    "reviews_df.head(5)"
   ]
  },
  {
   "cell_type": "code",
   "execution_count": 63,
   "metadata": {},
   "outputs": [
    {
     "name": "stdout",
     "output_type": "stream",
     "text": [
      "<class 'pandas.core.frame.DataFrame'>\n",
      "RangeIndex: 25799 entries, 0 to 25798\n",
      "Data columns (total 3 columns):\n",
      " #   Column    Non-Null Count  Dtype \n",
      "---  ------    --------------  ----- \n",
      " 0   user_id   25799 non-null  object\n",
      " 1   user_url  25799 non-null  object\n",
      " 2   reviews   25799 non-null  object\n",
      "dtypes: object(3)\n",
      "memory usage: 604.8+ KB\n"
     ]
    }
   ],
   "source": [
    "reviews_df.info()"
   ]
  },
  {
   "cell_type": "markdown",
   "metadata": {},
   "source": [
    "Se obtiene un DataFrame con 3 columnas y sin valores nulos."
   ]
  },
  {
   "cell_type": "code",
   "execution_count": 64,
   "metadata": {},
   "outputs": [
    {
     "name": "stdout",
     "output_type": "stream",
     "text": [
      "user_id únicos: 25485.\n",
      "user_url únicos: 25485.\n",
      "total usuarios: 25799.\n",
      "usuarios duplicados: 314.\n"
     ]
    }
   ],
   "source": [
    "print(f\"user_id únicos: {reviews_df.user_id.nunique()}.\")\n",
    "print(f\"user_url únicos: {reviews_df.user_url.nunique()}.\")\n",
    "print(f\"total usuarios: {reviews_df.shape[0]}.\")\n",
    "print(f\"usuarios duplicados: {reviews_df.duplicated(subset='user_id').sum()}.\")"
   ]
  },
  {
   "cell_type": "markdown",
   "metadata": {},
   "source": [
    "Vemos que hay 314 usuarios duplicados. Podría suceder que el usuario aparezca mas de una vez, pero los reviews correspondan a videojuegos diferentes, por lo que no correspondería eliminar estos registros. Para poder comparar las 3 filas, necesitamos desanidar las reviews de la columna reviews."
   ]
  },
  {
   "cell_type": "code",
   "execution_count": 65,
   "metadata": {},
   "outputs": [],
   "source": [
    "# Pasar a una fila nueva cada uno de los diccionarios anidados.\n",
    "reviews = reviews_df.reviews.explode()\n",
    "\n",
    "# Unir el resultado a \"reviews_df\" al aplicar \"pd.Series\" a cada elemento en\n",
    "# \"reviews\" para convertir los diccionarios en columnas.\n",
    "reviews_df = reviews_df.join(reviews.apply(pd.Series))\n",
    "\n",
    "# Eliminar la columna original \"reviews\".\n",
    "reviews_df.drop('reviews', axis=1, inplace=True)"
   ]
  },
  {
   "cell_type": "code",
   "execution_count": 66,
   "metadata": {},
   "outputs": [
    {
     "data": {
      "text/html": [
       "<div>\n",
       "<style scoped>\n",
       "    .dataframe tbody tr th:only-of-type {\n",
       "        vertical-align: middle;\n",
       "    }\n",
       "\n",
       "    .dataframe tbody tr th {\n",
       "        vertical-align: top;\n",
       "    }\n",
       "\n",
       "    .dataframe thead th {\n",
       "        text-align: right;\n",
       "    }\n",
       "</style>\n",
       "<table border=\"1\" class=\"dataframe\">\n",
       "  <thead>\n",
       "    <tr style=\"text-align: right;\">\n",
       "      <th></th>\n",
       "      <th>user_id</th>\n",
       "      <th>user_url</th>\n",
       "      <th>funny</th>\n",
       "      <th>posted</th>\n",
       "      <th>last_edited</th>\n",
       "      <th>item_id</th>\n",
       "      <th>helpful</th>\n",
       "      <th>recommend</th>\n",
       "      <th>review</th>\n",
       "      <th>0</th>\n",
       "    </tr>\n",
       "  </thead>\n",
       "  <tbody>\n",
       "    <tr>\n",
       "      <th>0</th>\n",
       "      <td>76561197970982479</td>\n",
       "      <td>http://steamcommunity.com/profiles/76561197970...</td>\n",
       "      <td></td>\n",
       "      <td>Posted November 5, 2011.</td>\n",
       "      <td></td>\n",
       "      <td>1250</td>\n",
       "      <td>No ratings yet</td>\n",
       "      <td>True</td>\n",
       "      <td>Simple yet with great replayability. In my opi...</td>\n",
       "      <td>NaN</td>\n",
       "    </tr>\n",
       "    <tr>\n",
       "      <th>0</th>\n",
       "      <td>76561197970982479</td>\n",
       "      <td>http://steamcommunity.com/profiles/76561197970...</td>\n",
       "      <td></td>\n",
       "      <td>Posted July 15, 2011.</td>\n",
       "      <td></td>\n",
       "      <td>22200</td>\n",
       "      <td>No ratings yet</td>\n",
       "      <td>True</td>\n",
       "      <td>It's unique and worth a playthrough.</td>\n",
       "      <td>NaN</td>\n",
       "    </tr>\n",
       "    <tr>\n",
       "      <th>0</th>\n",
       "      <td>76561197970982479</td>\n",
       "      <td>http://steamcommunity.com/profiles/76561197970...</td>\n",
       "      <td></td>\n",
       "      <td>Posted April 21, 2011.</td>\n",
       "      <td></td>\n",
       "      <td>43110</td>\n",
       "      <td>No ratings yet</td>\n",
       "      <td>True</td>\n",
       "      <td>Great atmosphere. The gunplay can be a bit chu...</td>\n",
       "      <td>NaN</td>\n",
       "    </tr>\n",
       "  </tbody>\n",
       "</table>\n",
       "</div>"
      ],
      "text/plain": [
       "             user_id                                           user_url funny  \\\n",
       "0  76561197970982479  http://steamcommunity.com/profiles/76561197970...         \n",
       "0  76561197970982479  http://steamcommunity.com/profiles/76561197970...         \n",
       "0  76561197970982479  http://steamcommunity.com/profiles/76561197970...         \n",
       "\n",
       "                     posted last_edited item_id         helpful recommend  \\\n",
       "0  Posted November 5, 2011.                1250  No ratings yet      True   \n",
       "0     Posted July 15, 2011.               22200  No ratings yet      True   \n",
       "0    Posted April 21, 2011.               43110  No ratings yet      True   \n",
       "\n",
       "                                              review   0  \n",
       "0  Simple yet with great replayability. In my opi... NaN  \n",
       "0               It's unique and worth a playthrough. NaN  \n",
       "0  Great atmosphere. The gunplay can be a bit chu... NaN  "
      ]
     },
     "execution_count": 66,
     "metadata": {},
     "output_type": "execute_result"
    }
   ],
   "source": [
    "reviews_df.head(3)"
   ]
  },
  {
   "cell_type": "code",
   "execution_count": 67,
   "metadata": {},
   "outputs": [
    {
     "data": {
      "text/plain": [
       "874"
      ]
     },
     "execution_count": 67,
     "metadata": {},
     "output_type": "execute_result"
    }
   ],
   "source": [
    "# Evaluar los duplicados\n",
    "reviews_df.duplicated().sum()"
   ]
  },
  {
   "cell_type": "markdown",
   "metadata": {},
   "source": [
    "Hay 874 duplicados por lo que se procede a eliminarlos."
   ]
  },
  {
   "cell_type": "code",
   "execution_count": 68,
   "metadata": {},
   "outputs": [],
   "source": [
    "reviews_df.drop_duplicates(inplace=True, ignore_index=True)"
   ]
  },
  {
   "cell_type": "markdown",
   "metadata": {},
   "source": [
    "Volvemos a contar los usuarios."
   ]
  },
  {
   "cell_type": "code",
   "execution_count": 69,
   "metadata": {},
   "outputs": [
    {
     "name": "stdout",
     "output_type": "stream",
     "text": [
      "user_id únicos: 25485.\n",
      "user_url únicos: 25485.\n",
      "total usuarios: 58459.\n",
      "usuarios duplicados: 32974.\n"
     ]
    }
   ],
   "source": [
    "print(f\"user_id únicos: {reviews_df.user_id.nunique()}.\")\n",
    "print(f\"user_url únicos: {reviews_df.user_url.nunique()}.\")\n",
    "print(f\"total usuarios: {reviews_df.shape[0]}.\")\n",
    "print(f\"usuarios duplicados: {reviews_df.duplicated(subset='user_id').sum()}.\")"
   ]
  },
  {
   "cell_type": "markdown",
   "metadata": {},
   "source": [
    "El número de usuarios únicos permanece constante. Aquí \"total usuarios\" pasa a representar el número de registros, el cuál aumento por el uso de la función `pd.explode()` sobre \"reviews\". Aquí ya no corresponde eliminar \"usuarios duplicados\" porque cada usuario puede hacer reviews para mas de 1 juego."
   ]
  },
  {
   "cell_type": "markdown",
   "metadata": {},
   "source": [
    "Ahora vamos a quedarnos solo con las columnas que serán útiles para el análisis y los pasos posteriores."
   ]
  },
  {
   "cell_type": "code",
   "execution_count": 70,
   "metadata": {},
   "outputs": [],
   "source": [
    "columnas_seleccionadas = [\"user_id\", \"posted\", \"item_id\", \"recommend\", \"review\"]\n",
    "\n",
    "reviews_df = reviews_df[columnas_seleccionadas]"
   ]
  },
  {
   "cell_type": "code",
   "execution_count": 71,
   "metadata": {},
   "outputs": [
    {
     "data": {
      "text/html": [
       "<div>\n",
       "<style scoped>\n",
       "    .dataframe tbody tr th:only-of-type {\n",
       "        vertical-align: middle;\n",
       "    }\n",
       "\n",
       "    .dataframe tbody tr th {\n",
       "        vertical-align: top;\n",
       "    }\n",
       "\n",
       "    .dataframe thead th {\n",
       "        text-align: right;\n",
       "    }\n",
       "</style>\n",
       "<table border=\"1\" class=\"dataframe\">\n",
       "  <thead>\n",
       "    <tr style=\"text-align: right;\">\n",
       "      <th></th>\n",
       "      <th>user_id</th>\n",
       "      <th>posted</th>\n",
       "      <th>item_id</th>\n",
       "      <th>recommend</th>\n",
       "      <th>review</th>\n",
       "    </tr>\n",
       "  </thead>\n",
       "  <tbody>\n",
       "    <tr>\n",
       "      <th>0</th>\n",
       "      <td>76561197970982479</td>\n",
       "      <td>Posted November 5, 2011.</td>\n",
       "      <td>1250</td>\n",
       "      <td>True</td>\n",
       "      <td>Simple yet with great replayability. In my opi...</td>\n",
       "    </tr>\n",
       "    <tr>\n",
       "      <th>1</th>\n",
       "      <td>76561197970982479</td>\n",
       "      <td>Posted July 15, 2011.</td>\n",
       "      <td>22200</td>\n",
       "      <td>True</td>\n",
       "      <td>It's unique and worth a playthrough.</td>\n",
       "    </tr>\n",
       "    <tr>\n",
       "      <th>2</th>\n",
       "      <td>76561197970982479</td>\n",
       "      <td>Posted April 21, 2011.</td>\n",
       "      <td>43110</td>\n",
       "      <td>True</td>\n",
       "      <td>Great atmosphere. The gunplay can be a bit chu...</td>\n",
       "    </tr>\n",
       "    <tr>\n",
       "      <th>3</th>\n",
       "      <td>js41637</td>\n",
       "      <td>Posted June 24, 2014.</td>\n",
       "      <td>251610</td>\n",
       "      <td>True</td>\n",
       "      <td>I know what you think when you see this title ...</td>\n",
       "    </tr>\n",
       "    <tr>\n",
       "      <th>4</th>\n",
       "      <td>js41637</td>\n",
       "      <td>Posted September 8, 2013.</td>\n",
       "      <td>227300</td>\n",
       "      <td>True</td>\n",
       "      <td>For a simple (it's actually not all that simpl...</td>\n",
       "    </tr>\n",
       "  </tbody>\n",
       "</table>\n",
       "</div>"
      ],
      "text/plain": [
       "             user_id                     posted item_id recommend  \\\n",
       "0  76561197970982479   Posted November 5, 2011.    1250      True   \n",
       "1  76561197970982479      Posted July 15, 2011.   22200      True   \n",
       "2  76561197970982479     Posted April 21, 2011.   43110      True   \n",
       "3            js41637      Posted June 24, 2014.  251610      True   \n",
       "4            js41637  Posted September 8, 2013.  227300      True   \n",
       "\n",
       "                                              review  \n",
       "0  Simple yet with great replayability. In my opi...  \n",
       "1               It's unique and worth a playthrough.  \n",
       "2  Great atmosphere. The gunplay can be a bit chu...  \n",
       "3  I know what you think when you see this title ...  \n",
       "4  For a simple (it's actually not all that simpl...  "
      ]
     },
     "execution_count": 71,
     "metadata": {},
     "output_type": "execute_result"
    }
   ],
   "source": [
    "reviews_df.head()"
   ]
  },
  {
   "cell_type": "code",
   "execution_count": 72,
   "metadata": {},
   "outputs": [
    {
     "name": "stdout",
     "output_type": "stream",
     "text": [
      "El df tiene 58459 filas y 5 columnas.\n"
     ]
    }
   ],
   "source": [
    "print(f\"El df tiene {reviews_df.shape[0]} filas y {reviews_df.shape[1]} columnas.\")"
   ]
  },
  {
   "cell_type": "markdown",
   "metadata": {},
   "source": [
    "Revisemos los valores nulos."
   ]
  },
  {
   "cell_type": "code",
   "execution_count": 73,
   "metadata": {},
   "outputs": [
    {
     "data": {
      "text/plain": [
       "user_id       0\n",
       "posted       28\n",
       "item_id      28\n",
       "recommend    28\n",
       "review       28\n",
       "dtype: int64"
      ]
     },
     "execution_count": 73,
     "metadata": {},
     "output_type": "execute_result"
    }
   ],
   "source": [
    "reviews_df.isna().sum()"
   ]
  },
  {
   "cell_type": "markdown",
   "metadata": {},
   "source": [
    "Hay 28 valores faltantes en las 4 columnas que provienen de la columna original \"reviews\". Al ser tan pocos en relación al número de registros y no servir para responder a las consultas a la API, vamos a eliminarlos."
   ]
  },
  {
   "cell_type": "code",
   "execution_count": 74,
   "metadata": {},
   "outputs": [],
   "source": [
    "reviews_df.dropna(subset=['posted', 'item_id', 'recommend', 'review'], \n",
    "                  inplace=True, ignore_index = True)"
   ]
  },
  {
   "cell_type": "code",
   "execution_count": 75,
   "metadata": {},
   "outputs": [
    {
     "name": "stdout",
     "output_type": "stream",
     "text": [
      "El df tiene 58431 filas y 5 columnas.\n"
     ]
    }
   ],
   "source": [
    "print(f\"El df tiene {reviews_df.shape[0]} filas y {reviews_df.shape[1]} columnas.\")"
   ]
  },
  {
   "cell_type": "code",
   "execution_count": 76,
   "metadata": {},
   "outputs": [
    {
     "name": "stdout",
     "output_type": "stream",
     "text": [
      "<class 'pandas.core.frame.DataFrame'>\n",
      "RangeIndex: 58431 entries, 0 to 58430\n",
      "Data columns (total 5 columns):\n",
      " #   Column     Non-Null Count  Dtype \n",
      "---  ------     --------------  ----- \n",
      " 0   user_id    58431 non-null  object\n",
      " 1   posted     58431 non-null  object\n",
      " 2   item_id    58431 non-null  object\n",
      " 3   recommend  58431 non-null  object\n",
      " 4   review     58431 non-null  object\n",
      "dtypes: object(5)\n",
      "memory usage: 2.2+ MB\n"
     ]
    }
   ],
   "source": [
    "reviews_df.info()"
   ]
  },
  {
   "cell_type": "markdown",
   "metadata": {},
   "source": [
    "Estamos en condiciones de empezar el análisis univariable."
   ]
  },
  {
   "cell_type": "markdown",
   "metadata": {},
   "source": [
    "### user_id"
   ]
  },
  {
   "cell_type": "code",
   "execution_count": 77,
   "metadata": {},
   "outputs": [
    {
     "name": "stdout",
     "output_type": "stream",
     "text": [
      "El número de usuarios únicos es 25458.\n"
     ]
    }
   ],
   "source": [
    "print(f\"El número de usuarios únicos es {reviews_df.user_id.nunique()}.\")"
   ]
  },
  {
   "cell_type": "markdown",
   "metadata": {},
   "source": [
    "Podemos analizar la cantidad de reviews de cada uno, para ver la homogeneidad o heterogeneidad del grupo."
   ]
  },
  {
   "cell_type": "code",
   "execution_count": 78,
   "metadata": {},
   "outputs": [
    {
     "data": {
      "image/png": "[encoded data removed]",
      "text/plain": [
       "<Figure size 640x480 with 1 Axes>"
      ]
     },
     "metadata": {},
     "output_type": "display_data"
    }
   ],
   "source": [
    "reviews_by_user = reviews_df.user_id.value_counts()\n",
    "\n",
    "plt.hist(reviews_by_user)  \n",
    "\n",
    "plt.xlabel('Cantidad de Reviews')\n",
    "plt.ylabel('Cantidad de Usuarios')\n",
    "plt.title('Cantidad de Reviews por Usuario');"
   ]
  },
  {
   "cell_type": "markdown",
   "metadata": {},
   "source": [
    "Vemos que la gran mayoría de los usuarios ha hecho 1 sola review y que este número va disminuyendo hasta llega a 10. Este sesgo hacia la derecha es favorable en el sentido de no serán pocos usuarios quienes afecten las estadísticas por haber hecho mas reviews que los demás."
   ]
  },
  {
   "cell_type": "markdown",
   "metadata": {},
   "source": [
    "### posted"
   ]
  },
  {
   "cell_type": "markdown",
   "metadata": {},
   "source": [
    "Esta es la fecha en la que fue hecha la review. De aquí solo nos interesa el año por lo que procederemos a extraerlo."
   ]
  },
  {
   "cell_type": "code",
   "execution_count": 79,
   "metadata": {},
   "outputs": [],
   "source": [
    "# Definir una expresión regular para buscar un año de cuatro dígitos\n",
    "regex_pattern = r'(\\d{4})'\n",
    "\n",
    "# Usa str.extract para extraer el año y crea una nueva columna 'year'\n",
    "reviews_df['review_year'] = reviews_df['posted'].str.extract(regex_pattern)\n",
    "\n",
    "# Convierte la columna 'year' en valores numéricos (opcional)\n",
    "reviews_df['review_year'] = pd.to_numeric(reviews_df['review_year'], \n",
    "                                          errors='coerce')\n"
   ]
  },
  {
   "cell_type": "code",
   "execution_count": 80,
   "metadata": {},
   "outputs": [
    {
     "data": {
      "text/plain": [
       "0.16999537916516919"
      ]
     },
     "execution_count": 80,
     "metadata": {},
     "output_type": "execute_result"
    }
   ],
   "source": [
    "reviews_df.review_year.isna().mean()"
   ]
  },
  {
   "cell_type": "markdown",
   "metadata": {},
   "source": [
    "Hay casi un 17% de fechas para los cuales no se pudo extraer el año por no estar presente. Por ahora se dejarán el el DataFrame y en el caso de necesitarlo se lidiará con ellos. Se eliminará la columna \"posted\" que ya no es necesaria."
   ]
  },
  {
   "cell_type": "code",
   "execution_count": 81,
   "metadata": {},
   "outputs": [],
   "source": [
    "reviews_df.drop(\"posted\", axis=1, inplace=True)"
   ]
  },
  {
   "cell_type": "markdown",
   "metadata": {},
   "source": [
    "### review_year"
   ]
  },
  {
   "cell_type": "markdown",
   "metadata": {},
   "source": [
    "Sabemos que hay casi un 17% de datos faltantes respecto al año de publicación. Para los datos no nulos, analicemos el número de reviews según año de publicación."
   ]
  },
  {
   "cell_type": "code",
   "execution_count": 82,
   "metadata": {},
   "outputs": [
    {
     "data": {
      "text/plain": [
       "count    48498.000000\n",
       "mean      2014.148150\n",
       "std          0.842611\n",
       "min       2010.000000\n",
       "25%       2014.000000\n",
       "50%       2014.000000\n",
       "75%       2015.000000\n",
       "max       2015.000000\n",
       "Name: review_year, dtype: float64"
      ]
     },
     "execution_count": 82,
     "metadata": {},
     "output_type": "execute_result"
    }
   ],
   "source": [
    "reviews_df.review_year.describe()"
   ]
  },
  {
   "cell_type": "code",
   "execution_count": 83,
   "metadata": {},
   "outputs": [
    {
     "data": {
      "text/plain": [
       "review_year\n",
       "2010.0       66\n",
       "2011.0      530\n",
       "2012.0     1201\n",
       "2013.0     6713\n",
       "2014.0    21834\n",
       "2015.0    18154\n",
       "Name: user_id, dtype: int64"
      ]
     },
     "execution_count": 83,
     "metadata": {},
     "output_type": "execute_result"
    }
   ],
   "source": [
    "reviews_df.groupby(\"review_year\").user_id.count()"
   ]
  },
  {
   "cell_type": "code",
   "execution_count": 84,
   "metadata": {},
   "outputs": [
    {
     "data": {
      "image/png": "[encoded data removed]",
      "text/plain": [
       "<Figure size 640x480 with 1 Axes>"
      ]
     },
     "metadata": {},
     "output_type": "display_data"
    }
   ],
   "source": [
    "# Agrupar la cantidad de reviews según su año de posteo\n",
    "reviews_by_year = (reviews_df.groupby(\"review_year\").user_id.count())\n",
    "\n",
    "# Hacer un gráfico de barras de reviews_by_year\n",
    "plt.bar(reviews_by_year.index, reviews_by_year.values)\n",
    "\n",
    "plt.xlabel(\"Año de la review\")\n",
    "plt.ylabel(\"Cantidad de reviews\")\n",
    "plt.title(\"Cantidad de reviews según su año de posteo\")\n",
    "plt.xlim(2009, 2016);"
   ]
  },
  {
   "cell_type": "markdown",
   "metadata": {},
   "source": [
    "Podemos ver que el número de reviews aumenta desde 2010 hasta alcanzar su máximo en 2014 y luego desciende un poco en 2015."
   ]
  },
  {
   "cell_type": "markdown",
   "metadata": {},
   "source": [
    "### item_id"
   ]
  },
  {
   "cell_type": "code",
   "execution_count": 85,
   "metadata": {},
   "outputs": [
    {
     "name": "stdout",
     "output_type": "stream",
     "text": [
      "El número de videojuegos únicos en el dataframe es 3682.\n"
     ]
    }
   ],
   "source": [
    "print(f\"El número de videojuegos únicos en el dataframe es\" \n",
    "      f\" {reviews_df.item_id.nunique()}.\")"
   ]
  },
  {
   "cell_type": "code",
   "execution_count": 86,
   "metadata": {},
   "outputs": [
    {
     "data": {
      "text/plain": [
       "item_id\n",
       "730       3708\n",
       "440       3694\n",
       "4000      1704\n",
       "570       1544\n",
       "218620    1113\n",
       "          ... \n",
       "33100        1\n",
       "312720       1\n",
       "449980       1\n",
       "32770        1\n",
       "431510       1\n",
       "Name: count, Length: 3682, dtype: int64"
      ]
     },
     "execution_count": 86,
     "metadata": {},
     "output_type": "execute_result"
    }
   ],
   "source": [
    "reviews_df.item_id.value_counts()"
   ]
  },
  {
   "cell_type": "markdown",
   "metadata": {},
   "source": [
    "Podemos ver que hay videojuegos, como el de item_id 730 con muchas reviews mientras que otros solo tienen una review."
   ]
  },
  {
   "cell_type": "code",
   "execution_count": 87,
   "metadata": {},
   "outputs": [],
   "source": [
    "reviews_df[\"item_id\"] = reviews_df[\"item_id\"].astype(\"int32\")"
   ]
  },
  {
   "cell_type": "markdown",
   "metadata": {},
   "source": [
    "### recommend"
   ]
  },
  {
   "cell_type": "markdown",
   "metadata": {},
   "source": [
    "Esta columna indica si el usuario recomienda o no el videojuego y debe ser de tipo booleano."
   ]
  },
  {
   "cell_type": "code",
   "execution_count": 88,
   "metadata": {},
   "outputs": [],
   "source": [
    "reviews_df[\"recommend\"] = reviews_df[\"recommend\"].astype(\"bool\")"
   ]
  },
  {
   "cell_type": "code",
   "execution_count": 89,
   "metadata": {},
   "outputs": [
    {
     "data": {
      "image/png": "[encoded data removed]",
      "text/plain": [
       "<Figure size 640x480 with 1 Axes>"
      ]
     },
     "metadata": {},
     "output_type": "display_data"
    }
   ],
   "source": [
    "# Contar la cantidad de valores True y False en la columna 'recommend'\n",
    "recommend_counts = reviews_df['recommend'].value_counts()\n",
    "\n",
    "# Crear un pie chart \n",
    "plt.pie(recommend_counts, labels=recommend_counts.index, autopct='%1.1f%%', startangle=140)\n",
    "plt.title('Distribución de Recomendaciones');"
   ]
  },
  {
   "cell_type": "markdown",
   "metadata": {},
   "source": [
    "El 88.5% de las reviews recomiendan el videojuego mientras que el 11.5% restante no lo hacen."
   ]
  },
  {
   "cell_type": "markdown",
   "metadata": {},
   "source": [
    "### review"
   ]
  },
  {
   "cell_type": "markdown",
   "metadata": {},
   "source": [
    "Esta es la review en sí y sobre la misma haremos análisis de sentimiento con NLP para crear la columna `sentiment_analysis`, que tomará los valores:\n",
    "* `0` si es malo.\n",
    "* `1` si es neutral.\n",
    "* `2` si es positivo.\n",
    "\n",
    "También debería tomar el valor `1` en caso de la columna \"review\" tuviera un valor nulo. Previamente se eliminaron los 28 datos nulos, porque además de ser pocos, iban acompañados de nulos en las otras columnas derivadas de \"reviews\" (\"posted\", \"item_id\" y \"recommend\") y su presencia no modifica las consultas a la API."
   ]
  },
  {
   "cell_type": "code",
   "execution_count": 90,
   "metadata": {},
   "outputs": [],
   "source": [
    "from textblob import TextBlob\n",
    "\n",
    "# Función para realizar análisis de sentimientos\n",
    "def analizar_sentimiento(review):\n",
    "    analysis = TextBlob(review)\n",
    "    if analysis.sentiment.polarity > 0:\n",
    "        return 2\n",
    "    elif analysis.sentiment.polarity < 0:\n",
    "        return 0\n",
    "    else:\n",
    "        return 1\n",
    "\n",
    "reviews_df[\"sentiment_analysis\"] = reviews_df[\"review\"].apply(analizar_sentimiento)\n"
   ]
  },
  {
   "cell_type": "code",
   "execution_count": 91,
   "metadata": {},
   "outputs": [
    {
     "data": {
      "text/html": [
       "<div>\n",
       "<style scoped>\n",
       "    .dataframe tbody tr th:only-of-type {\n",
       "        vertical-align: middle;\n",
       "    }\n",
       "\n",
       "    .dataframe tbody tr th {\n",
       "        vertical-align: top;\n",
       "    }\n",
       "\n",
       "    .dataframe thead th {\n",
       "        text-align: right;\n",
       "    }\n",
       "</style>\n",
       "<table border=\"1\" class=\"dataframe\">\n",
       "  <thead>\n",
       "    <tr style=\"text-align: right;\">\n",
       "      <th></th>\n",
       "      <th>user_id</th>\n",
       "      <th>item_id</th>\n",
       "      <th>recommend</th>\n",
       "      <th>review</th>\n",
       "      <th>review_year</th>\n",
       "      <th>sentiment_analysis</th>\n",
       "    </tr>\n",
       "  </thead>\n",
       "  <tbody>\n",
       "    <tr>\n",
       "      <th>0</th>\n",
       "      <td>76561197970982479</td>\n",
       "      <td>1250</td>\n",
       "      <td>True</td>\n",
       "      <td>Simple yet with great replayability. In my opi...</td>\n",
       "      <td>2011.0</td>\n",
       "      <td>2</td>\n",
       "    </tr>\n",
       "    <tr>\n",
       "      <th>1</th>\n",
       "      <td>76561197970982479</td>\n",
       "      <td>22200</td>\n",
       "      <td>True</td>\n",
       "      <td>It's unique and worth a playthrough.</td>\n",
       "      <td>2011.0</td>\n",
       "      <td>2</td>\n",
       "    </tr>\n",
       "    <tr>\n",
       "      <th>2</th>\n",
       "      <td>76561197970982479</td>\n",
       "      <td>43110</td>\n",
       "      <td>True</td>\n",
       "      <td>Great atmosphere. The gunplay can be a bit chu...</td>\n",
       "      <td>2011.0</td>\n",
       "      <td>2</td>\n",
       "    </tr>\n",
       "    <tr>\n",
       "      <th>3</th>\n",
       "      <td>js41637</td>\n",
       "      <td>251610</td>\n",
       "      <td>True</td>\n",
       "      <td>I know what you think when you see this title ...</td>\n",
       "      <td>2014.0</td>\n",
       "      <td>2</td>\n",
       "    </tr>\n",
       "    <tr>\n",
       "      <th>4</th>\n",
       "      <td>js41637</td>\n",
       "      <td>227300</td>\n",
       "      <td>True</td>\n",
       "      <td>For a simple (it's actually not all that simpl...</td>\n",
       "      <td>2013.0</td>\n",
       "      <td>0</td>\n",
       "    </tr>\n",
       "  </tbody>\n",
       "</table>\n",
       "</div>"
      ],
      "text/plain": [
       "             user_id  item_id  recommend  \\\n",
       "0  76561197970982479     1250       True   \n",
       "1  76561197970982479    22200       True   \n",
       "2  76561197970982479    43110       True   \n",
       "3            js41637   251610       True   \n",
       "4            js41637   227300       True   \n",
       "\n",
       "                                              review  review_year  \\\n",
       "0  Simple yet with great replayability. In my opi...       2011.0   \n",
       "1               It's unique and worth a playthrough.       2011.0   \n",
       "2  Great atmosphere. The gunplay can be a bit chu...       2011.0   \n",
       "3  I know what you think when you see this title ...       2014.0   \n",
       "4  For a simple (it's actually not all that simpl...       2013.0   \n",
       "\n",
       "   sentiment_analysis  \n",
       "0                   2  \n",
       "1                   2  \n",
       "2                   2  \n",
       "3                   2  \n",
       "4                   0  "
      ]
     },
     "execution_count": 91,
     "metadata": {},
     "output_type": "execute_result"
    }
   ],
   "source": [
    "reviews_df.head()"
   ]
  },
  {
   "cell_type": "markdown",
   "metadata": {},
   "source": [
    "Ahora podemos eliminar la columna \"review\"."
   ]
  },
  {
   "cell_type": "code",
   "execution_count": 92,
   "metadata": {},
   "outputs": [],
   "source": [
    "reviews_df.drop(\"review\", axis=1, inplace=True)"
   ]
  },
  {
   "cell_type": "markdown",
   "metadata": {},
   "source": [
    "### Carga del DataFrame procesado"
   ]
  },
  {
   "cell_type": "markdown",
   "metadata": {},
   "source": [
    "Habiendo finalizado esta etapa del EDA, se seleccionarán aquellas columnas relevantes para la API y los modelos de machine learning y se guardará en un archivo .csv"
   ]
  },
  {
   "cell_type": "code",
   "execution_count": 93,
   "metadata": {},
   "outputs": [
    {
     "data": {
      "text/html": [
       "<div>\n",
       "<style scoped>\n",
       "    .dataframe tbody tr th:only-of-type {\n",
       "        vertical-align: middle;\n",
       "    }\n",
       "\n",
       "    .dataframe tbody tr th {\n",
       "        vertical-align: top;\n",
       "    }\n",
       "\n",
       "    .dataframe thead th {\n",
       "        text-align: right;\n",
       "    }\n",
       "</style>\n",
       "<table border=\"1\" class=\"dataframe\">\n",
       "  <thead>\n",
       "    <tr style=\"text-align: right;\">\n",
       "      <th></th>\n",
       "      <th>user_id</th>\n",
       "      <th>item_id</th>\n",
       "      <th>recommend</th>\n",
       "      <th>review_year</th>\n",
       "      <th>sentiment_analysis</th>\n",
       "    </tr>\n",
       "  </thead>\n",
       "  <tbody>\n",
       "    <tr>\n",
       "      <th>0</th>\n",
       "      <td>76561197970982479</td>\n",
       "      <td>1250</td>\n",
       "      <td>True</td>\n",
       "      <td>2011.0</td>\n",
       "      <td>2</td>\n",
       "    </tr>\n",
       "    <tr>\n",
       "      <th>1</th>\n",
       "      <td>76561197970982479</td>\n",
       "      <td>22200</td>\n",
       "      <td>True</td>\n",
       "      <td>2011.0</td>\n",
       "      <td>2</td>\n",
       "    </tr>\n",
       "  </tbody>\n",
       "</table>\n",
       "</div>"
      ],
      "text/plain": [
       "             user_id  item_id  recommend  review_year  sentiment_analysis\n",
       "0  76561197970982479     1250       True       2011.0                   2\n",
       "1  76561197970982479    22200       True       2011.0                   2"
      ]
     },
     "execution_count": 93,
     "metadata": {},
     "output_type": "execute_result"
    }
   ],
   "source": [
    "reviews_df.head(2)"
   ]
  },
  {
   "cell_type": "code",
   "execution_count": 94,
   "metadata": {},
   "outputs": [
    {
     "name": "stdout",
     "output_type": "stream",
     "text": [
      "<class 'pandas.core.frame.DataFrame'>\n",
      "RangeIndex: 58431 entries, 0 to 58430\n",
      "Data columns (total 5 columns):\n",
      " #   Column              Non-Null Count  Dtype  \n",
      "---  ------              --------------  -----  \n",
      " 0   user_id             58431 non-null  object \n",
      " 1   item_id             58431 non-null  int32  \n",
      " 2   recommend           58431 non-null  bool   \n",
      " 3   review_year         48498 non-null  float64\n",
      " 4   sentiment_analysis  58431 non-null  int64  \n",
      "dtypes: bool(1), float64(1), int32(1), int64(1), object(1)\n",
      "memory usage: 1.6+ MB\n"
     ]
    }
   ],
   "source": [
    "reviews_df.info() # Información del DataFrame que se guardará."
   ]
  },
  {
   "cell_type": "code",
   "execution_count": 95,
   "metadata": {},
   "outputs": [
    {
     "data": {
      "text/plain": [
       "0"
      ]
     },
     "execution_count": 95,
     "metadata": {},
     "output_type": "execute_result"
    }
   ],
   "source": [
    "reviews_df.duplicated().sum() # No hay duplicados"
   ]
  },
  {
   "cell_type": "code",
   "execution_count": 96,
   "metadata": {},
   "outputs": [
    {
     "data": {
      "text/plain": [
       "user_id                  0\n",
       "item_id                  0\n",
       "recommend                0\n",
       "review_year           9933\n",
       "sentiment_analysis       0\n",
       "dtype: int64"
      ]
     },
     "execution_count": 96,
     "metadata": {},
     "output_type": "execute_result"
    }
   ],
   "source": [
    "reviews_df.isna().sum() # Solo al columna \"review_year\" tiene 9933 datos faltantes."
   ]
  },
  {
   "cell_type": "code",
   "execution_count": 97,
   "metadata": {},
   "outputs": [
    {
     "name": "stdout",
     "output_type": "stream",
     "text": [
      "El df tiene 58431 filas y 5 columnas.\n"
     ]
    }
   ],
   "source": [
    "print(f\"El df tiene {reviews_df.shape[0]} filas y {reviews_df.shape[1]} columnas.\")"
   ]
  },
  {
   "cell_type": "code",
   "execution_count": 98,
   "metadata": {},
   "outputs": [
    {
     "data": {
      "text/html": [
       "<div>\n",
       "<style scoped>\n",
       "    .dataframe tbody tr th:only-of-type {\n",
       "        vertical-align: middle;\n",
       "    }\n",
       "\n",
       "    .dataframe tbody tr th {\n",
       "        vertical-align: top;\n",
       "    }\n",
       "\n",
       "    .dataframe thead th {\n",
       "        text-align: right;\n",
       "    }\n",
       "</style>\n",
       "<table border=\"1\" class=\"dataframe\">\n",
       "  <thead>\n",
       "    <tr style=\"text-align: right;\">\n",
       "      <th></th>\n",
       "      <th>user_id</th>\n",
       "      <th>item_id</th>\n",
       "      <th>recommend</th>\n",
       "      <th>review_year</th>\n",
       "      <th>sentiment_analysis</th>\n",
       "    </tr>\n",
       "  </thead>\n",
       "  <tbody>\n",
       "    <tr>\n",
       "      <th>0</th>\n",
       "      <td>76561197970982479</td>\n",
       "      <td>1250</td>\n",
       "      <td>True</td>\n",
       "      <td>2011.0</td>\n",
       "      <td>2</td>\n",
       "    </tr>\n",
       "    <tr>\n",
       "      <th>1</th>\n",
       "      <td>76561197970982479</td>\n",
       "      <td>22200</td>\n",
       "      <td>True</td>\n",
       "      <td>2011.0</td>\n",
       "      <td>2</td>\n",
       "    </tr>\n",
       "    <tr>\n",
       "      <th>2</th>\n",
       "      <td>76561197970982479</td>\n",
       "      <td>43110</td>\n",
       "      <td>True</td>\n",
       "      <td>2011.0</td>\n",
       "      <td>2</td>\n",
       "    </tr>\n",
       "    <tr>\n",
       "      <th>3</th>\n",
       "      <td>js41637</td>\n",
       "      <td>251610</td>\n",
       "      <td>True</td>\n",
       "      <td>2014.0</td>\n",
       "      <td>2</td>\n",
       "    </tr>\n",
       "    <tr>\n",
       "      <th>4</th>\n",
       "      <td>js41637</td>\n",
       "      <td>227300</td>\n",
       "      <td>True</td>\n",
       "      <td>2013.0</td>\n",
       "      <td>0</td>\n",
       "    </tr>\n",
       "  </tbody>\n",
       "</table>\n",
       "</div>"
      ],
      "text/plain": [
       "             user_id  item_id  recommend  review_year  sentiment_analysis\n",
       "0  76561197970982479     1250       True       2011.0                   2\n",
       "1  76561197970982479    22200       True       2011.0                   2\n",
       "2  76561197970982479    43110       True       2011.0                   2\n",
       "3            js41637   251610       True       2014.0                   2\n",
       "4            js41637   227300       True       2013.0                   0"
      ]
     },
     "execution_count": 98,
     "metadata": {},
     "output_type": "execute_result"
    }
   ],
   "source": [
    "reviews_df.head()"
   ]
  },
  {
   "cell_type": "code",
   "execution_count": 99,
   "metadata": {},
   "outputs": [],
   "source": [
    "# Guardar el DataFrame como .csv.\n",
    "reviews_df.to_csv('./Datasets/user_reviews_procesado.csv', index=False)"
   ]
  },
  {
   "cell_type": "markdown",
   "metadata": {},
   "source": [
    "## users_items"
   ]
  },
  {
   "cell_type": "markdown",
   "metadata": {},
   "source": [
    "Este dataset contiene información de los usuarios, junto con los juegos a los que jugaron (cúales y cuántos), la cantidad de horas que jugó en total y en las últimas 2 semanas a fecha de generación del dataset. Haremos un ETL junto con una breve exploración."
   ]
  },
  {
   "cell_type": "code",
   "execution_count": 3,
   "metadata": {},
   "outputs": [
    {
     "data": {
      "text/html": [
       "<div>\n",
       "<style scoped>\n",
       "    .dataframe tbody tr th:only-of-type {\n",
       "        vertical-align: middle;\n",
       "    }\n",
       "\n",
       "    .dataframe tbody tr th {\n",
       "        vertical-align: top;\n",
       "    }\n",
       "\n",
       "    .dataframe thead th {\n",
       "        text-align: right;\n",
       "    }\n",
       "</style>\n",
       "<table border=\"1\" class=\"dataframe\">\n",
       "  <thead>\n",
       "    <tr style=\"text-align: right;\">\n",
       "      <th></th>\n",
       "      <th>user_id</th>\n",
       "      <th>items_count</th>\n",
       "      <th>steam_id</th>\n",
       "      <th>user_url</th>\n",
       "      <th>items</th>\n",
       "    </tr>\n",
       "  </thead>\n",
       "  <tbody>\n",
       "    <tr>\n",
       "      <th>0</th>\n",
       "      <td>76561197970982479</td>\n",
       "      <td>277</td>\n",
       "      <td>76561197970982479</td>\n",
       "      <td>http://steamcommunity.com/profiles/76561197970...</td>\n",
       "      <td>[{'item_id': '10', 'item_name': 'Counter-Strik...</td>\n",
       "    </tr>\n",
       "    <tr>\n",
       "      <th>1</th>\n",
       "      <td>js41637</td>\n",
       "      <td>888</td>\n",
       "      <td>76561198035864385</td>\n",
       "      <td>http://steamcommunity.com/id/js41637</td>\n",
       "      <td>[{'item_id': '10', 'item_name': 'Counter-Strik...</td>\n",
       "    </tr>\n",
       "    <tr>\n",
       "      <th>2</th>\n",
       "      <td>evcentric</td>\n",
       "      <td>137</td>\n",
       "      <td>76561198007712555</td>\n",
       "      <td>http://steamcommunity.com/id/evcentric</td>\n",
       "      <td>[{'item_id': '1200', 'item_name': 'Red Orchest...</td>\n",
       "    </tr>\n",
       "  </tbody>\n",
       "</table>\n",
       "</div>"
      ],
      "text/plain": [
       "             user_id  items_count           steam_id  \\\n",
       "0  76561197970982479          277  76561197970982479   \n",
       "1            js41637          888  76561198035864385   \n",
       "2          evcentric          137  76561198007712555   \n",
       "\n",
       "                                            user_url  \\\n",
       "0  http://steamcommunity.com/profiles/76561197970...   \n",
       "1               http://steamcommunity.com/id/js41637   \n",
       "2             http://steamcommunity.com/id/evcentric   \n",
       "\n",
       "                                               items  \n",
       "0  [{'item_id': '10', 'item_name': 'Counter-Strik...  \n",
       "1  [{'item_id': '10', 'item_name': 'Counter-Strik...  \n",
       "2  [{'item_id': '1200', 'item_name': 'Red Orchest...  "
      ]
     },
     "execution_count": 3,
     "metadata": {},
     "output_type": "execute_result"
    }
   ],
   "source": [
    "# Leer el archivo\n",
    "items_data = leer_json_gzip('./Datasets/users_items.json.gz')\n",
    "items_df = pd.DataFrame(items_data)\n",
    "items_df.head(3)"
   ]
  },
  {
   "cell_type": "markdown",
   "metadata": {},
   "source": [
    "items_count es una consulta que no necesitaremos para responder las consultas de la API, pero antes de eliminarla la analizaremos en busca de outliers."
   ]
  },
  {
   "cell_type": "code",
   "execution_count": 101,
   "metadata": {},
   "outputs": [
    {
     "data": {
      "text/plain": [
       "count    88310.000000\n",
       "mean        58.353629\n",
       "std        122.312095\n",
       "min          0.000000\n",
       "25%          3.000000\n",
       "50%         26.000000\n",
       "75%         73.000000\n",
       "max       7762.000000\n",
       "Name: items_count, dtype: float64"
      ]
     },
     "execution_count": 101,
     "metadata": {},
     "output_type": "execute_result"
    }
   ],
   "source": [
    "items_df.items_count.describe()"
   ]
  },
  {
   "cell_type": "markdown",
   "metadata": {},
   "source": [
    "Hay mucha diferencia entre los primeros 3 cuartilos y el máximo. Analicemos outliers usando el método del rango interquartilo."
   ]
  },
  {
   "cell_type": "code",
   "execution_count": 102,
   "metadata": {},
   "outputs": [
    {
     "name": "stdout",
     "output_type": "stream",
     "text": [
      "Limite inferior -102.0\n",
      "Limite superior 178.0\n"
     ]
    }
   ],
   "source": [
    "Q1 = items_df.items_count.quantile(0.25)\n",
    "Q3 = items_df.items_count.quantile(0.75)\n",
    "IQR = Q3 - Q1\n",
    "limite_inferior = Q1 - 1.5 * IQR\n",
    "limite_superior = Q3 + 1.5 * IQR\n",
    "\n",
    "print(\"Limite inferior\", limite_inferior)\n",
    "print(\"Limite superior\", limite_superior)"
   ]
  },
  {
   "cell_type": "markdown",
   "metadata": {},
   "source": [
    "Según el método describe, no hay usuarios cuyo número de juegos sea inferior a 0, lo cuál tiene sentido. Respecto al límite superior de 178 obtenido por esta técnica, parece un poco conservador. Analicemos los usuarios con mayor cantidad de items."
   ]
  },
  {
   "cell_type": "code",
   "execution_count": 103,
   "metadata": {},
   "outputs": [
    {
     "data": {
      "text/html": [
       "<div>\n",
       "<style scoped>\n",
       "    .dataframe tbody tr th:only-of-type {\n",
       "        vertical-align: middle;\n",
       "    }\n",
       "\n",
       "    .dataframe tbody tr th {\n",
       "        vertical-align: top;\n",
       "    }\n",
       "\n",
       "    .dataframe thead th {\n",
       "        text-align: right;\n",
       "    }\n",
       "</style>\n",
       "<table border=\"1\" class=\"dataframe\">\n",
       "  <thead>\n",
       "    <tr style=\"text-align: right;\">\n",
       "      <th></th>\n",
       "      <th>user_id</th>\n",
       "      <th>items_count</th>\n",
       "      <th>steam_id</th>\n",
       "      <th>user_url</th>\n",
       "      <th>items</th>\n",
       "    </tr>\n",
       "  </thead>\n",
       "  <tbody>\n",
       "    <tr>\n",
       "      <th>3708</th>\n",
       "      <td>phrostb</td>\n",
       "      <td>7762</td>\n",
       "      <td>76561198102767019</td>\n",
       "      <td>http://steamcommunity.com/id/phrostb</td>\n",
       "      <td>[{'item_id': '300', 'item_name': 'Day of Defea...</td>\n",
       "    </tr>\n",
       "    <tr>\n",
       "      <th>19055</th>\n",
       "      <td>thugnificent</td>\n",
       "      <td>6700</td>\n",
       "      <td>76561198000537256</td>\n",
       "      <td>http://steamcommunity.com/id/thugnificent</td>\n",
       "      <td>[{'item_id': '10', 'item_name': 'Counter-Strik...</td>\n",
       "    </tr>\n",
       "    <tr>\n",
       "      <th>1104</th>\n",
       "      <td>chidvd</td>\n",
       "      <td>6410</td>\n",
       "      <td>76561198001518866</td>\n",
       "      <td>http://steamcommunity.com/id/chidvd</td>\n",
       "      <td>[{'item_id': '10', 'item_name': 'Counter-Strik...</td>\n",
       "    </tr>\n",
       "  </tbody>\n",
       "</table>\n",
       "</div>"
      ],
      "text/plain": [
       "            user_id  items_count           steam_id  \\\n",
       "3708        phrostb         7762  76561198102767019   \n",
       "19055  thugnificent         6700  76561198000537256   \n",
       "1104         chidvd         6410  76561198001518866   \n",
       "\n",
       "                                        user_url  \\\n",
       "3708        http://steamcommunity.com/id/phrostb   \n",
       "19055  http://steamcommunity.com/id/thugnificent   \n",
       "1104         http://steamcommunity.com/id/chidvd   \n",
       "\n",
       "                                                   items  \n",
       "3708   [{'item_id': '300', 'item_name': 'Day of Defea...  \n",
       "19055  [{'item_id': '10', 'item_name': 'Counter-Strik...  \n",
       "1104   [{'item_id': '10', 'item_name': 'Counter-Strik...  "
      ]
     },
     "execution_count": 103,
     "metadata": {},
     "output_type": "execute_result"
    }
   ],
   "source": [
    "items_df.sort_values(\"items_count\", ascending=False).head(3)"
   ]
  },
  {
   "cell_type": "markdown",
   "metadata": {},
   "source": [
    "A la fecha de este análisis (2023-10-04), y guiandome por los user_url, el número de juegos de los 3 usuarios con mas juegos es 17534, 11272 y 11860 respectivamente. Es decir, son incluso mayores que el máximo en esta base de datos que es 7762. Por lo tanto el dato, a pesar de ser atípico, guarda verosimilitud, y no serán eliminados dichos registros."
   ]
  },
  {
   "cell_type": "markdown",
   "metadata": {},
   "source": [
    "Seleccionaremos solo las columnas de interés para el análisis y responder las consultas a la API."
   ]
  },
  {
   "cell_type": "code",
   "execution_count": 4,
   "metadata": {},
   "outputs": [],
   "source": [
    "columnas_seleccionadas = [\"user_id\", \"items_count\", \"items\"]\n",
    "\n",
    "items_df = items_df[columnas_seleccionadas]"
   ]
  },
  {
   "cell_type": "code",
   "execution_count": 5,
   "metadata": {},
   "outputs": [
    {
     "data": {
      "text/html": [
       "<div>\n",
       "<style scoped>\n",
       "    .dataframe tbody tr th:only-of-type {\n",
       "        vertical-align: middle;\n",
       "    }\n",
       "\n",
       "    .dataframe tbody tr th {\n",
       "        vertical-align: top;\n",
       "    }\n",
       "\n",
       "    .dataframe thead th {\n",
       "        text-align: right;\n",
       "    }\n",
       "</style>\n",
       "<table border=\"1\" class=\"dataframe\">\n",
       "  <thead>\n",
       "    <tr style=\"text-align: right;\">\n",
       "      <th></th>\n",
       "      <th>user_id</th>\n",
       "      <th>items_count</th>\n",
       "      <th>items</th>\n",
       "    </tr>\n",
       "  </thead>\n",
       "  <tbody>\n",
       "    <tr>\n",
       "      <th>0</th>\n",
       "      <td>76561197970982479</td>\n",
       "      <td>277</td>\n",
       "      <td>[{'item_id': '10', 'item_name': 'Counter-Strik...</td>\n",
       "    </tr>\n",
       "    <tr>\n",
       "      <th>1</th>\n",
       "      <td>js41637</td>\n",
       "      <td>888</td>\n",
       "      <td>[{'item_id': '10', 'item_name': 'Counter-Strik...</td>\n",
       "    </tr>\n",
       "    <tr>\n",
       "      <th>2</th>\n",
       "      <td>evcentric</td>\n",
       "      <td>137</td>\n",
       "      <td>[{'item_id': '1200', 'item_name': 'Red Orchest...</td>\n",
       "    </tr>\n",
       "  </tbody>\n",
       "</table>\n",
       "</div>"
      ],
      "text/plain": [
       "             user_id  items_count  \\\n",
       "0  76561197970982479          277   \n",
       "1            js41637          888   \n",
       "2          evcentric          137   \n",
       "\n",
       "                                               items  \n",
       "0  [{'item_id': '10', 'item_name': 'Counter-Strik...  \n",
       "1  [{'item_id': '10', 'item_name': 'Counter-Strik...  \n",
       "2  [{'item_id': '1200', 'item_name': 'Red Orchest...  "
      ]
     },
     "execution_count": 5,
     "metadata": {},
     "output_type": "execute_result"
    }
   ],
   "source": [
    "items_df.head(3)"
   ]
  },
  {
   "cell_type": "markdown",
   "metadata": {},
   "source": [
    "La columna items contiene muchos diccionarios anidados y la funcion `pd.explode()` no sería eficiente, porque demoraría mucho tiempo, consumiría muchos recursos y nos traería información que no necesitamos. Del dataframe actual solo nos quedaremos con \"user_id\", y de \"items\", con \"item_id\" y \"playtime_forever\"."
   ]
  },
  {
   "cell_type": "markdown",
   "metadata": {},
   "source": [
    "Primero crearemos una lista donde cada \"user_id\" se repita tantas veces como la cantidad de juegos que jugó. Esa información está en la columna \"items_count\"."
   ]
  },
  {
   "cell_type": "code",
   "execution_count": 6,
   "metadata": {},
   "outputs": [],
   "source": [
    "# Crear lista vacía para almacenar los valores.\n",
    "user_id_list = []\n",
    "\n",
    "# Iteramos el DataFrame usando el metodo pd.iterrows().\n",
    "for index, row in items_df.iterrows():\n",
    "    user_id = row['user_id'] # Asignamos el \"user_id\" a la variable \"user_id\".\n",
    "    items_count = row['items_count'] # Asignamos el \"items_count\" a la variable \"items_count\".\n",
    "    user_id_list.extend([user_id] * items_count) # Extendemos la lista con \"user_id\"\n",
    "                                                 # apareciendo \"items_count\" veces.  "
   ]
  },
  {
   "cell_type": "markdown",
   "metadata": {},
   "source": [
    "Ahora haremos 2 listas más, conteniendo los \"item_id\" y los \"playtime_forever\" (tiempo de juego total)."
   ]
  },
  {
   "cell_type": "code",
   "execution_count": 7,
   "metadata": {},
   "outputs": [],
   "source": [
    "# Crear listas vacías para almacenar los valores\n",
    "item_id_list = []\n",
    "playtime_forever_list = []\n",
    "\n",
    "# Iterar a través de las listas de diccionarios en la columna \"items\" y extraer los valores\n",
    "for item_list in items_df['items']:\n",
    "    item_id_values = [item['item_id'] for item in item_list]\n",
    "    playtime_forever_values = [item['playtime_forever'] for item in item_list]\n",
    "\n",
    "    # Extender las listas con los nuevos valores\n",
    "    item_id_list.extend(item_id_values)\n",
    "    playtime_forever_list.extend(playtime_forever_values)"
   ]
  },
  {
   "cell_type": "markdown",
   "metadata": {},
   "source": [
    "Con estas 3 listas, reconstruiremos el dataframe items_df."
   ]
  },
  {
   "cell_type": "code",
   "execution_count": 8,
   "metadata": {},
   "outputs": [
    {
     "data": {
      "text/html": [
       "<div>\n",
       "<style scoped>\n",
       "    .dataframe tbody tr th:only-of-type {\n",
       "        vertical-align: middle;\n",
       "    }\n",
       "\n",
       "    .dataframe tbody tr th {\n",
       "        vertical-align: top;\n",
       "    }\n",
       "\n",
       "    .dataframe thead th {\n",
       "        text-align: right;\n",
       "    }\n",
       "</style>\n",
       "<table border=\"1\" class=\"dataframe\">\n",
       "  <thead>\n",
       "    <tr style=\"text-align: right;\">\n",
       "      <th></th>\n",
       "      <th>user_id</th>\n",
       "      <th>item_id</th>\n",
       "      <th>playtime_forever</th>\n",
       "    </tr>\n",
       "  </thead>\n",
       "  <tbody>\n",
       "    <tr>\n",
       "      <th>0</th>\n",
       "      <td>76561197970982479</td>\n",
       "      <td>10</td>\n",
       "      <td>6</td>\n",
       "    </tr>\n",
       "    <tr>\n",
       "      <th>1</th>\n",
       "      <td>76561197970982479</td>\n",
       "      <td>20</td>\n",
       "      <td>0</td>\n",
       "    </tr>\n",
       "    <tr>\n",
       "      <th>2</th>\n",
       "      <td>76561197970982479</td>\n",
       "      <td>30</td>\n",
       "      <td>7</td>\n",
       "    </tr>\n",
       "  </tbody>\n",
       "</table>\n",
       "</div>"
      ],
      "text/plain": [
       "             user_id item_id  playtime_forever\n",
       "0  76561197970982479      10                 6\n",
       "1  76561197970982479      20                 0\n",
       "2  76561197970982479      30                 7"
      ]
     },
     "execution_count": 8,
     "metadata": {},
     "output_type": "execute_result"
    }
   ],
   "source": [
    "items_df = pd.DataFrame({'user_id': user_id_list,\n",
    "                        'item_id': item_id_list,\n",
    "                        'playtime_forever': playtime_forever_list})\n",
    "items_df.head(3)"
   ]
  },
  {
   "cell_type": "code",
   "execution_count": 109,
   "metadata": {},
   "outputs": [
    {
     "name": "stdout",
     "output_type": "stream",
     "text": [
      "<class 'pandas.core.frame.DataFrame'>\n",
      "RangeIndex: 5153209 entries, 0 to 5153208\n",
      "Data columns (total 3 columns):\n",
      " #   Column            Dtype \n",
      "---  ------            ----- \n",
      " 0   user_id           object\n",
      " 1   item_id           object\n",
      " 2   playtime_forever  int64 \n",
      "dtypes: int64(1), object(2)\n",
      "memory usage: 117.9+ MB\n"
     ]
    }
   ],
   "source": [
    "items_df.info()"
   ]
  },
  {
   "cell_type": "code",
   "execution_count": 9,
   "metadata": {},
   "outputs": [
    {
     "data": {
      "text/plain": [
       "59117"
      ]
     },
     "execution_count": 9,
     "metadata": {},
     "output_type": "execute_result"
    }
   ],
   "source": [
    "items_df.duplicated().sum()"
   ]
  },
  {
   "cell_type": "markdown",
   "metadata": {},
   "source": [
    "Hay 59117 duplicados por lo que se procede a eliminarlos."
   ]
  },
  {
   "cell_type": "code",
   "execution_count": 10,
   "metadata": {},
   "outputs": [],
   "source": [
    "items_df.drop_duplicates(inplace=True, ignore_index=True)"
   ]
  },
  {
   "cell_type": "code",
   "execution_count": 112,
   "metadata": {},
   "outputs": [
    {
     "data": {
      "text/plain": [
       "user_id             0.0\n",
       "item_id             0.0\n",
       "playtime_forever    0.0\n",
       "dtype: float64"
      ]
     },
     "execution_count": 112,
     "metadata": {},
     "output_type": "execute_result"
    }
   ],
   "source": [
    "items_df.isna().mean() # No hay valores nulos."
   ]
  },
  {
   "cell_type": "code",
   "execution_count": 113,
   "metadata": {},
   "outputs": [
    {
     "data": {
      "text/plain": [
       "70912"
      ]
     },
     "execution_count": 113,
     "metadata": {},
     "output_type": "execute_result"
    }
   ],
   "source": [
    "items_df.user_id.nunique() # Hay 70912 usuarios únicos."
   ]
  },
  {
   "cell_type": "code",
   "execution_count": 114,
   "metadata": {},
   "outputs": [
    {
     "data": {
      "text/plain": [
       "10978"
      ]
     },
     "execution_count": 114,
     "metadata": {},
     "output_type": "execute_result"
    }
   ],
   "source": [
    "items_df.item_id.nunique() # Hay 10978 juegos únicos."
   ]
  },
  {
   "cell_type": "markdown",
   "metadata": {},
   "source": [
    "Según la documentación en la web de Steam, playtime_forever is 'the total number of minutes played \"on record\", since Steam began tracking total playtime in early 2009'. Para responder a las consultas de la API necesitamos esta información en horas por lo que haremos la transformación."
   ]
  },
  {
   "cell_type": "code",
   "execution_count": 11,
   "metadata": {},
   "outputs": [],
   "source": [
    "items_df.playtime_forever = (items_df.playtime_forever / 60).round(2)"
   ]
  },
  {
   "cell_type": "code",
   "execution_count": 12,
   "metadata": {},
   "outputs": [
    {
     "data": {
      "text/plain": [
       "count    5.094092e+06\n",
       "mean     1.650862e+01\n",
       "std      9.023516e+01\n",
       "min      0.000000e+00\n",
       "25%      0.000000e+00\n",
       "50%      5.700000e-01\n",
       "75%      5.920000e+00\n",
       "max      1.071288e+04\n",
       "Name: playtime_forever, dtype: float64"
      ]
     },
     "execution_count": 12,
     "metadata": {},
     "output_type": "execute_result"
    }
   ],
   "source": [
    "items_df.playtime_forever.describe()"
   ]
  },
  {
   "cell_type": "markdown",
   "metadata": {},
   "source": [
    "El máximo valor dista mucho de los otros cuartilos, por lo que evaluaremos outliers siguendo el método del rango intercuartílico."
   ]
  },
  {
   "cell_type": "code",
   "execution_count": 117,
   "metadata": {},
   "outputs": [
    {
     "name": "stdout",
     "output_type": "stream",
     "text": [
      "Limite inferior -8.879999999999999\n",
      "Limite superior 14.799999999999999\n"
     ]
    }
   ],
   "source": [
    "Q1 = items_df.playtime_forever.quantile(0.25)\n",
    "Q3 = items_df.playtime_forever.quantile(0.75)\n",
    "IQR = Q3 - Q1\n",
    "limite_inferior = Q1 - 1.5 * IQR\n",
    "limite_superior = Q3 + 1.5 * IQR\n",
    "\n",
    "print(\"Limite inferior\", limite_inferior)\n",
    "print(\"Limite superior\", limite_superior)"
   ]
  },
  {
   "cell_type": "markdown",
   "metadata": {},
   "source": [
    "Según pd.describe() no hay resultados menores a 0 horas jugadas, lo cuál es lógico. Analicemos aquellos valores por encima del límite superior y que corresponden a outliers según este método."
   ]
  },
  {
   "cell_type": "code",
   "execution_count": 118,
   "metadata": {},
   "outputs": [
    {
     "data": {
      "text/html": [
       "<div>\n",
       "<style scoped>\n",
       "    .dataframe tbody tr th:only-of-type {\n",
       "        vertical-align: middle;\n",
       "    }\n",
       "\n",
       "    .dataframe tbody tr th {\n",
       "        vertical-align: top;\n",
       "    }\n",
       "\n",
       "    .dataframe thead th {\n",
       "        text-align: right;\n",
       "    }\n",
       "</style>\n",
       "<table border=\"1\" class=\"dataframe\">\n",
       "  <thead>\n",
       "    <tr style=\"text-align: right;\">\n",
       "      <th></th>\n",
       "      <th>user_id</th>\n",
       "      <th>item_id</th>\n",
       "      <th>playtime_forever</th>\n",
       "    </tr>\n",
       "  </thead>\n",
       "  <tbody>\n",
       "    <tr>\n",
       "      <th>4818708</th>\n",
       "      <td>76561198078552000</td>\n",
       "      <td>500</td>\n",
       "      <td>14.80</td>\n",
       "    </tr>\n",
       "    <tr>\n",
       "      <th>3972479</th>\n",
       "      <td>XxNinJA_SpAZxX</td>\n",
       "      <td>21100</td>\n",
       "      <td>14.80</td>\n",
       "    </tr>\n",
       "    <tr>\n",
       "      <th>2667997</th>\n",
       "      <td>007james_bond</td>\n",
       "      <td>32360</td>\n",
       "      <td>14.80</td>\n",
       "    </tr>\n",
       "    <tr>\n",
       "      <th>495226</th>\n",
       "      <td>76561198039088657</td>\n",
       "      <td>50</td>\n",
       "      <td>14.80</td>\n",
       "    </tr>\n",
       "    <tr>\n",
       "      <th>114970</th>\n",
       "      <td>Crazymac123</td>\n",
       "      <td>238090</td>\n",
       "      <td>14.80</td>\n",
       "    </tr>\n",
       "    <tr>\n",
       "      <th>...</th>\n",
       "      <td>...</td>\n",
       "      <td>...</td>\n",
       "      <td>...</td>\n",
       "    </tr>\n",
       "    <tr>\n",
       "      <th>1810632</th>\n",
       "      <td>tsunamitad</td>\n",
       "      <td>72200</td>\n",
       "      <td>10001.13</td>\n",
       "    </tr>\n",
       "    <tr>\n",
       "      <th>1475635</th>\n",
       "      <td>76561198039832932</td>\n",
       "      <td>4000</td>\n",
       "      <td>10223.52</td>\n",
       "    </tr>\n",
       "    <tr>\n",
       "      <th>4017482</th>\n",
       "      <td>76561198019826668</td>\n",
       "      <td>42710</td>\n",
       "      <td>10540.87</td>\n",
       "    </tr>\n",
       "    <tr>\n",
       "      <th>2461639</th>\n",
       "      <td>Evilutional</td>\n",
       "      <td>212200</td>\n",
       "      <td>10588.25</td>\n",
       "    </tr>\n",
       "    <tr>\n",
       "      <th>584979</th>\n",
       "      <td>wolop</td>\n",
       "      <td>4000</td>\n",
       "      <td>10712.88</td>\n",
       "    </tr>\n",
       "  </tbody>\n",
       "</table>\n",
       "<p>763595 rows × 3 columns</p>\n",
       "</div>"
      ],
      "text/plain": [
       "                   user_id item_id  playtime_forever\n",
       "4818708  76561198078552000     500             14.80\n",
       "3972479     XxNinJA_SpAZxX   21100             14.80\n",
       "2667997      007james_bond   32360             14.80\n",
       "495226   76561198039088657      50             14.80\n",
       "114970         Crazymac123  238090             14.80\n",
       "...                    ...     ...               ...\n",
       "1810632         tsunamitad   72200          10001.13\n",
       "1475635  76561198039832932    4000          10223.52\n",
       "4017482  76561198019826668   42710          10540.87\n",
       "2461639        Evilutional  212200          10588.25\n",
       "584979               wolop    4000          10712.88\n",
       "\n",
       "[763595 rows x 3 columns]"
      ]
     },
     "execution_count": 118,
     "metadata": {},
     "output_type": "execute_result"
    }
   ],
   "source": [
    "mask = items_df.playtime_forever > limite_superior\n",
    "\n",
    "items_df[mask].sort_values(\"playtime_forever\")"
   ]
  },
  {
   "cell_type": "markdown",
   "metadata": {},
   "source": [
    "El primer outlier, 14.80 horas, no es un valor tan grande, y a pesar de ser un outlier según este método, no parece un error que debería ser eliminado. \n",
    "\n",
    "Consideremos el último dato: 10712 horas. Si consideramos que playtime_forever empezó ser medido por Steam en 2009, y que user_reviews abarca 6 años [2010, 2015], esto correspondería a 1785 horas por año y 4.9 horas por dia. Si bien es posible, es improbable que una persona juegue casi 5 horas por dia, todos los dias durante 6 años. Por lo tanto es probable que este dato y otros similares sean errores que haya que eliminar.\n",
    "\n",
    "Vamos a analizar un poco a esos usuarios."
   ]
  },
  {
   "cell_type": "code",
   "execution_count": 119,
   "metadata": {},
   "outputs": [
    {
     "data": {
      "text/html": [
       "<div>\n",
       "<style scoped>\n",
       "    .dataframe tbody tr th:only-of-type {\n",
       "        vertical-align: middle;\n",
       "    }\n",
       "\n",
       "    .dataframe tbody tr th {\n",
       "        vertical-align: top;\n",
       "    }\n",
       "\n",
       "    .dataframe thead th {\n",
       "        text-align: right;\n",
       "    }\n",
       "</style>\n",
       "<table border=\"1\" class=\"dataframe\">\n",
       "  <thead>\n",
       "    <tr style=\"text-align: right;\">\n",
       "      <th></th>\n",
       "      <th>user_id</th>\n",
       "      <th>item_id</th>\n",
       "      <th>playtime_forever</th>\n",
       "    </tr>\n",
       "  </thead>\n",
       "  <tbody>\n",
       "    <tr>\n",
       "      <th>584979</th>\n",
       "      <td>wolop</td>\n",
       "      <td>4000</td>\n",
       "      <td>10712.88</td>\n",
       "    </tr>\n",
       "    <tr>\n",
       "      <th>2461639</th>\n",
       "      <td>Evilutional</td>\n",
       "      <td>212200</td>\n",
       "      <td>10588.25</td>\n",
       "    </tr>\n",
       "    <tr>\n",
       "      <th>4017482</th>\n",
       "      <td>76561198019826668</td>\n",
       "      <td>42710</td>\n",
       "      <td>10540.87</td>\n",
       "    </tr>\n",
       "    <tr>\n",
       "      <th>1475635</th>\n",
       "      <td>76561198039832932</td>\n",
       "      <td>4000</td>\n",
       "      <td>10223.52</td>\n",
       "    </tr>\n",
       "    <tr>\n",
       "      <th>1810632</th>\n",
       "      <td>tsunamitad</td>\n",
       "      <td>72200</td>\n",
       "      <td>10001.13</td>\n",
       "    </tr>\n",
       "  </tbody>\n",
       "</table>\n",
       "</div>"
      ],
      "text/plain": [
       "                   user_id item_id  playtime_forever\n",
       "584979               wolop    4000          10712.88\n",
       "2461639        Evilutional  212200          10588.25\n",
       "4017482  76561198019826668   42710          10540.87\n",
       "1475635  76561198039832932    4000          10223.52\n",
       "1810632         tsunamitad   72200          10001.13"
      ]
     },
     "execution_count": 119,
     "metadata": {},
     "output_type": "execute_result"
    }
   ],
   "source": [
    "mask = items_df.playtime_forever > limite_superior\n",
    "\n",
    "items_df[mask].sort_values(\"playtime_forever\", ascending=False).head()"
   ]
  },
  {
   "cell_type": "markdown",
   "metadata": {},
   "source": [
    "Analizando en Steam al usuario con el user_id tsunamitad (https://steamcommunity.com/id/tsunamitad) encontramos que en efecto sus horas jugadas totales son 10001.\n",
    "\n",
    "El límite inferior de recolección de los datos sabemos que es 2009 porque es información oficial de Steam. Sin embargo, el límite superior no lo conocemos y corresponde a la fecha en el que se hizo el scrapping de los datos. Si fuera el 2023, como sugiere la consulta que se hizo al sitio de este usuario el 2023-10-04, las 10001 horas corresponderían a un periodo máximo de 15 años, es decir 666 horas por año o 1,8 horas por dia.\n",
    "\n",
    "Mas allá de este usuario en particular, esto nos indica que valores en el orden de 10000 horas para playtime_forever, si bien atípicos, a priori no representarían errores y no será prudente descartarlos."
   ]
  },
  {
   "cell_type": "markdown",
   "metadata": {},
   "source": [
    "No obstante lo anterior, si un mismo usuario tuviera varios items con valores tan altos, la suma si quedaría ya fuera de escala. Asique analicemos el número de horas jugadas totales por usuario."
   ]
  },
  {
   "cell_type": "code",
   "execution_count": 120,
   "metadata": {},
   "outputs": [
    {
     "data": {
      "text/plain": [
       "user_id\n",
       "REBAS_AS_F-T        77673.29\n",
       "shinomegami         55058.33\n",
       "Sp3ctre             47047.69\n",
       "DownSyndromeKid     46506.40\n",
       "Terminally-Chill    28900.07\n",
       "Name: playtime_forever, dtype: float64"
      ]
     },
     "execution_count": 120,
     "metadata": {},
     "output_type": "execute_result"
    }
   ],
   "source": [
    "total_playtime_per_user = items_df.groupby(\"user_id\").sum()\\\n",
    "    .sort_values(\"playtime_forever\", ascending=False)\\\n",
    "    [\"playtime_forever\"]\n",
    "\n",
    "total_playtime_per_user.head()"
   ]
  },
  {
   "cell_type": "markdown",
   "metadata": {},
   "source": [
    "Que un usuario haya jugado en total 77673 horas parece improbable. No obstante, investigando un poco, encontramos al usuario (WoogieMonster)[https://steamcommunity.com/id/WoogieMonster] que al 2023-10-25 acumula 53998 horas jugadas solo en su juego favorito. Este valor está cercano al segundo de la lista, por lo que es posible que valores como 77000 sean reales. Antes la ausencia de mayor información, optaremos por no descartar estos outliers."
   ]
  },
  {
   "cell_type": "code",
   "execution_count": 123,
   "metadata": {},
   "outputs": [
    {
     "name": "stdout",
     "output_type": "stream",
     "text": [
      "El df tiene 5028408 filas y 3 columnas.\n"
     ]
    }
   ],
   "source": [
    "print(f\"El df tiene {items_df.shape[0]} filas y {items_df.shape[1]} columnas.\")"
   ]
  },
  {
   "cell_type": "code",
   "execution_count": 13,
   "metadata": {},
   "outputs": [],
   "source": [
    "# Guardar el DataFrame como .csv.\n",
    "items_df.to_csv('./Datasets/user_items_procesado.csv', index=False)"
   ]
  }
 ],
 "metadata": {
  "kernelspec": {
   "display_name": "PI-01-env",
   "language": "python",
   "name": "python3"
  },
  "language_info": {
   "codemirror_mode": {
    "name": "ipython",
    "version": 3
   },
   "file_extension": ".py",
   "mimetype": "text/x-python",
   "name": "python",
   "nbconvert_exporter": "python",
   "pygments_lexer": "ipython3",
   "version": "3.9.16"
  }
 },
 "nbformat": 4,
 "nbformat_minor": 2
}
